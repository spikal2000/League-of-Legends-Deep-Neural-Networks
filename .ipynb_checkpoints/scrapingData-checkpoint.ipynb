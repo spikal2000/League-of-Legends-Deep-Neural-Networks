{
 "cells": [
  {
   "cell_type": "code",
   "execution_count": 1,
   "metadata": {
    "id": "PVjMc52GTKYA"
   },
   "outputs": [
    {
     "name": "stdout",
     "output_type": "stream",
     "text": [
      "Requirement already satisfied: riotwatcher in c:\\users\\spika\\anaconda3\\lib\\site-packages (3.2.5)\n",
      "Requirement already satisfied: requests in c:\\users\\spika\\anaconda3\\lib\\site-packages (from riotwatcher) (2.31.0)\n",
      "Requirement already satisfied: charset-normalizer<4,>=2 in c:\\users\\spika\\anaconda3\\lib\\site-packages (from requests->riotwatcher) (2.0.4)\n",
      "Requirement already satisfied: idna<4,>=2.5 in c:\\users\\spika\\anaconda3\\lib\\site-packages (from requests->riotwatcher) (3.4)\n",
      "Requirement already satisfied: urllib3<3,>=1.21.1 in c:\\users\\spika\\anaconda3\\lib\\site-packages (from requests->riotwatcher) (1.26.16)\n",
      "Requirement already satisfied: certifi>=2017.4.17 in c:\\users\\spika\\anaconda3\\lib\\site-packages (from requests->riotwatcher) (2023.7.22)\n"
     ]
    }
   ],
   "source": [
    "!pip install riotwatcher"
   ]
  },
  {
   "cell_type": "code",
   "execution_count": 76,
   "metadata": {
    "id": "HYleC2m4TWXX"
   },
   "outputs": [],
   "source": [
    "from riotwatcher import LolWatcher, ApiError\n",
    "import pandas as pd\n",
    "import random\n",
    "import time\n",
    "import requests.exceptions\n"
   ]
  },
  {
   "cell_type": "code",
   "execution_count": 3,
   "metadata": {
    "id": "R8AU0XbXRsUB"
   },
   "outputs": [],
   "source": [
    " TIERS = [\"IRON\", \"SILVER\", \"GOLD\", \"PLATINUM\", \"DIAMOND\"]\n",
    "RANKS = [\"I\", \"II\", \"III\", \"IV\"]\n",
    "REGIONS = [\"eun1\"]\n",
    "PAGES = [1]"
   ]
  },
  {
   "cell_type": "code",
   "execution_count": 34,
   "metadata": {
    "id": "5T7vcg142lkD"
   },
   "outputs": [],
   "source": [
    "class Karma:\n",
    "  def __init__(self, API_KEY):\n",
    "    self.API_KEY = API_KEY\n",
    "    self.lol_watcher = LolWatcher(API_KEY)\n",
    "  \n",
    "  def player_stats(self, region, summoner):\n",
    "        \"\"\"\n",
    "    {'name': 'Spikal',\n",
    "    'summonerLevel': 491,\n",
    "    'tierRank': 'EMERALD IV',\n",
    "    'wins': 98,\n",
    "    'losses': 90,\n",
    "    'veteran': False,\n",
    "    'inactive': False,\n",
    "    'freshBlood': False,\n",
    "    'hotStreak': False}\n",
    "        \"\"\"\n",
    "    player = self.lol_watcher.summoner.by_name(region, summoner)\n",
    "    ranked_stats = self.lol_watcher.league.by_summoner(region, player['id'])\n",
    "    columns = [\n",
    "        \"name\",\n",
    "        \"summonerLevel\",\n",
    "        \"tierRank\",\n",
    "        \"wins\",\n",
    "        \"losses\",\n",
    "        \"veteran\",\n",
    "        \"inactive\",\n",
    "        \"freshBlood\",\n",
    "        \"hotStreak\"\n",
    "    ]\n",
    "\n",
    "    data = {}\n",
    "    # player = lol_watcher.summoner.by_name('eun1', 'spikal')\n",
    "    data['name'] = player['name']\n",
    "    data['summonerLevel'] = player['summonerLevel']\n",
    "    if len(ranked_stats) > 0:\n",
    "      for i in range(0,len(ranked_stats)):\n",
    "        if 'RANKED_SOLO_5x5' in ranked_stats[i]['queueType']:\n",
    "          if 'tier' in ranked_stats[i] and 'rank' in ranked_stats[i]:\n",
    "            t = ranked_stats[i]['tier'] + ' ' + ranked_stats[i]['rank']\n",
    "            data['tierRank'] = t\n",
    "          else:\n",
    "            data['tierRank'] = None\n",
    "\n",
    "          if 'wins' in ranked_stats[i]:\n",
    "            t = ranked_stats[i]['wins']\n",
    "            data['wins'] = t\n",
    "          else:\n",
    "            data['wins'] = None\n",
    "\n",
    "          if 'losses' in ranked_stats[i]:\n",
    "            t = ranked_stats[i]['losses']\n",
    "            data['losses'] = t\n",
    "          else:\n",
    "            data['losses'] = None\n",
    "\n",
    "          if 'veteran' in ranked_stats[i]:\n",
    "            t = ranked_stats[i]['veteran']\n",
    "            data['veteran'] = t\n",
    "          else:\n",
    "            data['veteran'] = None\n",
    "\n",
    "          if 'inactive' in ranked_stats[i]:\n",
    "            t = ranked_stats[i]['inactive']\n",
    "            data['inactive'] = t\n",
    "          else:\n",
    "            data['inactive'] = None\n",
    "\n",
    "          if 'freshBlood' in ranked_stats[i]:\n",
    "            t = ranked_stats[i]['freshBlood']\n",
    "            data['freshBlood'] = t\n",
    "          else:\n",
    "            data['freshBlood'] = None\n",
    "\n",
    "          if 'hotStreak' in ranked_stats[i]:\n",
    "            t = ranked_stats[i]['hotStreak']\n",
    "            data['hotStreak'] = t\n",
    "          else:\n",
    "            data['hotStreak'] = None\n",
    "    else:\n",
    "      data['tierRank'] = None\n",
    "      data['wins'] = None\n",
    "      data['losses'] = None\n",
    "      data['veteran'] = None\n",
    "      data['inactive'] = None\n",
    "      data['freshBlood'] = None\n",
    "      data['hotStreak'] = None\n",
    "    return data\n",
    "\n",
    "  def playerStatsLastGames(self, region, summoner, start_index, end_index):\n",
    "        \"\"\"\n",
    "        {'average_kills': 2.3,\n",
    "         'average_deaths': 9.166666666666666,\n",
    "         'average_assists': 14.533333333333333,\n",
    "         'average_gold_earned': 8809.133333333333}\n",
    "        \"\"\"\n",
    "        player = self.lol_watcher.summoner.by_name(region, summoner)\n",
    "        player_puuid = player['puuid']\n",
    "\n",
    "        #Fetch recent matchList with Pagination\n",
    "        matchlist=[]\n",
    "        matchlist = self.lol_watcher.match.matchlist_by_puuid(region, player_puuid, start_index, end_index)\n",
    "\n",
    "        # Define the initial values for stats\n",
    "        total_kills = 0\n",
    "        total_deaths = 0\n",
    "        total_assists = 0\n",
    "        total_gold_earned = 0\n",
    "        total_matches = 0\n",
    "\n",
    "        for match in matchlist:\n",
    "            match_details = self.lol_watcher.match.by_id(region, match)\n",
    "            for participant in match_details['info']['participants']:\n",
    "                if participant['puuid'] == player_puuid:\n",
    "                    total_kills += participant['kills']\n",
    "                    total_deaths += participant['deaths']\n",
    "                    total_assists += participant['assists']\n",
    "                    total_gold_earned += participant['goldEarned']\n",
    "                    total_matches += 1\n",
    "\n",
    "        #Calculate the average stats\n",
    "        average_kills = total_kills / total_matches\n",
    "        average_deaths = total_deaths / total_matches\n",
    "        average_assists = total_assists / total_matches\n",
    "        average_gold_earned = total_gold_earned / total_matches\n",
    "        data = {\n",
    "            'average_kills':average_kills,\n",
    "            'average_deaths': average_deaths,\n",
    "            'average_assists': average_assists,\n",
    "            'average_gold_earned': average_gold_earned\n",
    "            \n",
    "        }\n",
    "        return data\n",
    "    "
   ]
  },
  {
   "cell_type": "code",
   "execution_count": 41,
   "metadata": {
    "id": "iyirrixf3epu"
   },
   "outputs": [],
   "source": [
    "api_key= \"RGAPI-c7cf2424-731f-4a9a-8f1f-f6985e62dac3\"\n",
    "region = 'eun1'\n",
    "summoner = 'spikal'\n",
    "\n",
    "karma = Karma(api_key)\n",
    "summonerStats = karma.player_stats(region, summoner)"
   ]
  },
  {
   "cell_type": "code",
   "execution_count": 38,
   "metadata": {
    "colab": {
     "base_uri": "https://localhost:8080/",
     "height": 141
    },
    "id": "1LeF5xQ4lep9",
    "outputId": "dc41df33-0491-48d9-e0c3-dbae2c5fbd33"
   },
   "outputs": [],
   "source": [
    "statsLastGames = karma.playerStatsLastGames(region, summoner, 0, 30)"
   ]
  },
  {
   "cell_type": "code",
   "execution_count": 99,
   "metadata": {
    "id": "SIdFO1Xx09vk"
   },
   "outputs": [
    {
     "data": {
      "text/plain": [
       "{'average_kills': 2.3,\n",
       " 'average_deaths': 9.166666666666666,\n",
       " 'average_assists': 14.533333333333333,\n",
       " 'average_gold_earned': 8809.133333333333}"
      ]
     },
     "execution_count": 99,
     "metadata": {},
     "output_type": "execute_result"
    }
   ],
   "source": [
    "data = dict(summonerStats)\n",
    "data.update(statsLastGames)\n",
    "statsLastGames"
   ]
  },
  {
   "cell_type": "code",
   "execution_count": 84,
   "metadata": {},
   "outputs": [],
   "source": [
    "def get_random_players(api_key, NUM_PLAYERS_PER_RANK):\n",
    "    # Retrieve random players for each division\n",
    "    REGIONS = [\"na1\", \"euw1\", \"eun1\", \"kr\", \"br1\", \"la1\", \"la2\", \"oce\", \"tr1\", \"ru\"]\n",
    "    TIERS = [\"IRON\", \"BRONZE\", \"SILVER\", \"GOLD\", \"PLATINUM\", \"DIAMOND\"]\n",
    "    DIVISIONS = [\"I\", \"II\", \"III\", \"IV\"]\n",
    "\n",
    "    lol_watcher = LolWatcher(api_key)\n",
    "\n",
    "    # Initialize an empty list to store players\n",
    "    all_players = []\n",
    "\n",
    "    # Define rate limit values\n",
    "    REQUESTS_PER_10_SECONDS = 500\n",
    "    REQUESTS_PER_10_MINUTES = 30000\n",
    "\n",
    "    # Calculate sleep duration based on rate limits\n",
    "    sleep_duration_10_seconds = 10 / REQUESTS_PER_10_SECONDS\n",
    "    sleep_duration_10_minutes = 600 / REQUESTS_PER_10_MINUTES\n",
    "\n",
    "    # Loop through regions, tiers, and divisions\n",
    "    for region in REGIONS:\n",
    "        for tier in TIERS:\n",
    "            for division in DIVISIONS:\n",
    "                retry_count = 0\n",
    "                while retry_count < 3:  # Retry up to 3 times in case of errors\n",
    "                    try:\n",
    "                        # Retrieve player IDs for the current region, tier, and division\n",
    "                        league_entries = lol_watcher.league.entries(region, \"RANKED_SOLO_5x5\", tier, division)\n",
    "\n",
    "                        # Shuffle the list of players to get random players\n",
    "                        random.shuffle(league_entries)\n",
    "\n",
    "                        # Take the first 100 players (or fewer if there are fewer players available)\n",
    "                        selected_players = league_entries[:NUM_PLAYERS_PER_RANK]\n",
    "\n",
    "                        # Extract player names and regions and add them to the overall list\n",
    "                        players_info = [{\"name\": entry[\"summonerName\"], \"region\": region} for entry in selected_players]\n",
    "                        all_players.extend(players_info)\n",
    "\n",
    "                        # Sleep for a short time to avoid rate limiting\n",
    "                        time.sleep(sleep_duration_10_seconds)  # Sleep for 10 seconds\n",
    "\n",
    "                        break  # Success, exit the retry loop\n",
    "                    except requests.exceptions.HTTPError as e:\n",
    "                        if e.response.status_code == 429:  # Rate limit exceeded\n",
    "                            # Wait for a short time and retry\n",
    "                            time.sleep(sleep_duration_10_seconds)  # Sleep for 10 seconds\n",
    "                            retry_count += 1\n",
    "                        elif e.response.status_code == 443:  # Retry for SSL handshake errors\n",
    "                            retry_count += 1\n",
    "                        else:\n",
    "                            print(f\"Error: {e.response.status_code}\")\n",
    "                            break  # Break the retry loop for other errors\n",
    "                    except requests.exceptions.ConnectionError as ce:\n",
    "                        # Connection error, wait and retry\n",
    "                        time.sleep(sleep_duration_10_seconds)  # Sleep for 10 seconds\n",
    "                        retry_count += 1\n",
    "\n",
    "    # Now, all_players contains a list of dictionaries with player names and regions\n",
    "    return all_players"
   ]
  },
  {
   "cell_type": "code",
   "execution_count": 81,
   "metadata": {},
   "outputs": [],
   "source": [
    "#TODO: Problem with 443 with API\n",
    "train_data = get_random_players(api_key, NUM_PLAYERS_PER_RANK = 200)"
   ]
  },
  {
   "cell_type": "code",
   "execution_count": null,
   "metadata": {},
   "outputs": [],
   "source": []
  },
  {
   "cell_type": "code",
   "execution_count": 85,
   "metadata": {},
   "outputs": [],
   "source": [
    "test_data = get_random_players(api_key, NUM_PLAYERS_PER_RANK = 50)"
   ]
  },
  {
   "cell_type": "code",
   "execution_count": 86,
   "metadata": {},
   "outputs": [
    {
     "data": {
      "text/plain": [
       "10800"
      ]
     },
     "execution_count": 86,
     "metadata": {},
     "output_type": "execute_result"
    }
   ],
   "source": [
    "len(test_data)"
   ]
  },
  {
   "cell_type": "code",
   "execution_count": null,
   "metadata": {},
   "outputs": [],
   "source": [
    "# Define the column names\n",
    "# columns = [\"name\", \"region\", \"summonerLevel\", \"tierRank\", \"wins\", \"losses\", \"veteran\", \"inactive\", \"freshBlood\", \"hotStreak\"\n",
    "#           , \"average_kills\", \"average_deaths\", \"average_assists\", \"average_gold_earned\"]\n",
    "\n",
    "# Create an empty dictionary with columns as keys and empty lists as values'\n",
    "\n",
    "train_data_stats = []\n",
    "for x in test_data:\n",
    "    temp = {}\n",
    "    summoner = x['name']\n",
    "    region = x['region']\n",
    "#     {'name': 'Spikal',\n",
    "#     'summonerLevel': 491,\n",
    "#     'tierRank': 'EMERALD IV',\n",
    "#     'wins': 98,\n",
    "#     'losses': 90,\n",
    "#     'veteran': False,\n",
    "#     'inactive': False,\n",
    "#     'freshBlood': False,\n",
    "#     'hotStreak': False}\n",
    "    summonerStats = karma.player_stats(region, summoner)\n",
    "    \n",
    "#     {'average_kills': 2.3,\n",
    "#          'average_deaths': 9.166666666666666,\n",
    "#          'average_assists': 14.533333333333333,\n",
    "#          'average_gold_earned': 8809.133333333333}\n",
    "    statsLastGames = karma.playerStatsLastGames(region, summoner, 0, 30)\n",
    "    temp = {'name': summonerStats['name'],\n",
    "        'region': region,\n",
    "        'summonerLevel': summonerStats['summonerLevel'],\n",
    "        'tierRank': summonerStats['tierRank'],\n",
    "         'wins': summonerStats['wins'],\n",
    "         'losses': summonerStats['losses'],\n",
    "         'veteran': summonerStats['veteran'],\n",
    "         'inactive': summonerStats['inactive'],\n",
    "         'freshBlood': summonerStats['freshBlood'],\n",
    "         'hotStreak': summonerStats['hotStreak'],\n",
    "         'average_kills': statsLastGames['average_kills'],\n",
    "         'average_deaths': statsLastGames['average_deaths'],\n",
    "         'average_assists': statsLastGames['average_assists'],\n",
    "         'average_gold_earned': statsLastGames['average_gold_earned']\n",
    "         }\n",
    "    train_data_stats.append(temp)"
   ]
  },
  {
   "cell_type": "code",
   "execution_count": 105,
   "metadata": {},
   "outputs": [
    {
     "data": {
      "text/plain": [
       "[{'name': 'Eos Dawn',\n",
       "  'region': 'na1',\n",
       "  'summonerLevel': 292,\n",
       "  'tierRank': 'IRON I',\n",
       "  'wins': 3,\n",
       "  'losses': 2,\n",
       "  'veteran': False,\n",
       "  'inactive': False,\n",
       "  'freshBlood': False,\n",
       "  'hotStreak': False,\n",
       "  'average_kills': 7.666666666666667,\n",
       "  'average_deaths': 7.3,\n",
       "  'average_assists': 17.466666666666665,\n",
       "  'average_gold_earned': 12519.833333333334},\n",
       " {'name': 'oh yas daddy XD',\n",
       "  'region': 'na1',\n",
       "  'summonerLevel': 123,\n",
       "  'tierRank': 'IRON I',\n",
       "  'wins': 15,\n",
       "  'losses': 15,\n",
       "  'veteran': False,\n",
       "  'inactive': False,\n",
       "  'freshBlood': False,\n",
       "  'hotStreak': False,\n",
       "  'average_kills': 7.366666666666666,\n",
       "  'average_deaths': 5.9,\n",
       "  'average_assists': 7.3,\n",
       "  'average_gold_earned': 12352.866666666667}]"
      ]
     },
     "execution_count": 105,
     "metadata": {},
     "output_type": "execute_result"
    }
   ],
   "source": [
    "train_data_stats"
   ]
  },
  {
   "cell_type": "code",
   "execution_count": null,
   "metadata": {},
   "outputs": [],
   "source": []
  }
 ],
 "metadata": {
  "colab": {
   "provenance": []
  },
  "kernelspec": {
   "display_name": "Python 3 (ipykernel)",
   "language": "python",
   "name": "python3"
  },
  "language_info": {
   "codemirror_mode": {
    "name": "ipython",
    "version": 3
   },
   "file_extension": ".py",
   "mimetype": "text/x-python",
   "name": "python",
   "nbconvert_exporter": "python",
   "pygments_lexer": "ipython3",
   "version": "3.11.5"
  }
 },
 "nbformat": 4,
 "nbformat_minor": 1
}
