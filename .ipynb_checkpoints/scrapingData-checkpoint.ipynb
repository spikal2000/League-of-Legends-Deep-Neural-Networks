{
 "cells": [
  {
   "cell_type": "code",
   "execution_count": 25,
   "metadata": {
    "id": "PVjMc52GTKYA"
   },
   "outputs": [
    {
     "name": "stdout",
     "output_type": "stream",
     "text": [
      "Requirement already satisfied: riotwatcher in c:\\users\\spika\\anaconda3\\lib\\site-packages (3.2.5)\n",
      "Requirement already satisfied: requests in c:\\users\\spika\\anaconda3\\lib\\site-packages (from riotwatcher) (2.31.0)\n",
      "Requirement already satisfied: charset-normalizer<4,>=2 in c:\\users\\spika\\anaconda3\\lib\\site-packages (from requests->riotwatcher) (2.0.4)\n",
      "Requirement already satisfied: idna<4,>=2.5 in c:\\users\\spika\\anaconda3\\lib\\site-packages (from requests->riotwatcher) (3.4)\n",
      "Requirement already satisfied: urllib3<3,>=1.21.1 in c:\\users\\spika\\anaconda3\\lib\\site-packages (from requests->riotwatcher) (1.26.16)\n",
      "Requirement already satisfied: certifi>=2017.4.17 in c:\\users\\spika\\anaconda3\\lib\\site-packages (from requests->riotwatcher) (2023.7.22)\n"
     ]
    }
   ],
   "source": [
    "!pip install riotwatcher"
   ]
  },
  {
   "cell_type": "code",
   "execution_count": 26,
   "metadata": {
    "id": "HYleC2m4TWXX"
   },
   "outputs": [],
   "source": [
    "from riotwatcher import LolWatcher, ApiError\n",
    "import pandas as pd\n",
    "import random\n",
    "import time\n",
    "import requests.exceptions\n"
   ]
  },
  {
   "cell_type": "code",
   "execution_count": 27,
   "metadata": {
    "id": "R8AU0XbXRsUB"
   },
   "outputs": [],
   "source": [
    " TIERS = [\"IRON\", \"SILVER\", \"GOLD\", \"PLATINUM\", \"DIAMOND\"]\n",
    "RANKS = [\"I\", \"II\", \"III\", \"IV\"]\n",
    "REGIONS = [\"eun1\"]\n",
    "PAGES = [1]"
   ]
  },
  {
   "cell_type": "code",
   "execution_count": 31,
   "metadata": {
    "id": "5T7vcg142lkD"
   },
   "outputs": [],
   "source": [
    "class Karma:\n",
    "    def __init__(self, API_KEY):\n",
    "        self.API_KEY = API_KEY\n",
    "        self.lol_watcher = LolWatcher(API_KEY)\n",
    "\n",
    "    def player_stats(self, region, summoner):\n",
    "        \"\"\"\n",
    "        {'name': 'Spikal',\n",
    "        'summonerLevel': 491,\n",
    "        'tierRank': 'EMERALD IV',\n",
    "        'wins': 98,\n",
    "        'losses': 90,\n",
    "        'veteran': False,\n",
    "        'inactive': False,\n",
    "        'freshBlood': False,\n",
    "        'hotStreak': False}\n",
    "        \"\"\"\n",
    "        player = self.lol_watcher.summoner.by_name(region, summoner)\n",
    "        ranked_stats = self.lol_watcher.league.by_summoner(region, player['id'])\n",
    "        columns = [\n",
    "            \"name\",\n",
    "            \"summonerLevel\",\n",
    "            \"tierRank\",\n",
    "            \"wins\",\n",
    "            \"losses\",\n",
    "            \"veteran\",\n",
    "            \"inactive\",\n",
    "            \"freshBlood\",\n",
    "            \"hotStreak\"\n",
    "        ]\n",
    "\n",
    "        data = {}\n",
    "        data['name'] = player['name']\n",
    "        data['summonerLevel'] = player['summonerLevel']\n",
    "        if len(ranked_stats) > 0:\n",
    "            for i in range(0, len(ranked_stats)):\n",
    "                if 'RANKED_SOLO_5x5' in ranked_stats[i]['queueType']:\n",
    "                    if 'tier' in ranked_stats[i] and 'rank' in ranked_stats[i]:\n",
    "                        t = ranked_stats[i]['tier'] + ' ' + ranked_stats[i]['rank']\n",
    "                        data['tierRank'] = t\n",
    "                    else:\n",
    "                        data['tierRank'] = None\n",
    "\n",
    "                    if 'wins' in ranked_stats[i]:\n",
    "                        t = ranked_stats[i]['wins']\n",
    "                        data['wins'] = t\n",
    "                    else:\n",
    "                        data['wins'] = None\n",
    "\n",
    "                    if 'losses' in ranked_stats[i]:\n",
    "                        t = ranked_stats[i]['losses']\n",
    "                        data['losses'] = t\n",
    "                    else:\n",
    "                        data['losses'] = None\n",
    "\n",
    "                    if 'veteran' in ranked_stats[i]:\n",
    "                        t = ranked_stats[i]['veteran']\n",
    "                        data['veteran'] = t\n",
    "                    else:\n",
    "                        data['veteran'] = None\n",
    "\n",
    "                    if 'inactive' in ranked_stats[i]:\n",
    "                        t = ranked_stats[i]['inactive']\n",
    "                        data['inactive'] = t\n",
    "                    else:\n",
    "                        data['inactive'] = None\n",
    "\n",
    "                    if 'freshBlood' in ranked_stats[i]:\n",
    "                        t = ranked_stats[i]['freshBlood']\n",
    "                        data['freshBlood'] = t\n",
    "                    else:\n",
    "                        data['freshBlood'] = None\n",
    "\n",
    "                    if 'hotStreak' in ranked_stats[i]:\n",
    "                        t = ranked_stats[i]['hotStreak']\n",
    "                        data['hotStreak'] = t\n",
    "                    else:\n",
    "                        data['hotStreak'] = None\n",
    "        else:\n",
    "            data['tierRank'] = None\n",
    "            data['wins'] = None\n",
    "            data['losses'] = None\n",
    "            data['veteran'] = None\n",
    "            data['inactive'] = None\n",
    "            data['freshBlood'] = None\n",
    "            data['hotStreak'] = None\n",
    "        return data\n",
    "\n",
    "    def playerStatsLastGames(self, region, summoner, start_index, end_index):\n",
    "        \"\"\"\n",
    "        {'average_kills': 2.3,\n",
    "         'average_deaths': 9.166666666666666,\n",
    "         'average_assists': 14.533333333333333,\n",
    "         'average_gold_earned': 8809.133333333333}\n",
    "        \"\"\"\n",
    "        player = self.lol_watcher.summoner.by_name(region, summoner)\n",
    "        player_puuid = player['puuid']\n",
    "\n",
    "        # Fetch recent matchList with Pagination\n",
    "        matchlist = []\n",
    "        matchlist = self.lol_watcher.match.matchlist_by_puuid(region, player_puuid, start_index, end_index)\n",
    "\n",
    "        # Define the initial values for stats\n",
    "        total_kills = 0\n",
    "        total_deaths = 0\n",
    "        total_assists = 0\n",
    "        total_gold_earned = 0\n",
    "        total_matches = 0\n",
    "\n",
    "        for match in matchlist:\n",
    "            match_details = self.lol_watcher.match.by_id(region, match)\n",
    "            for participant in match_details['info']['participants']:\n",
    "                if participant['puuid'] == player_puuid:\n",
    "                    total_kills += participant['kills']\n",
    "                    total_deaths += participant['deaths']\n",
    "                    total_assists += participant['assists']\n",
    "                    total_gold_earned += participant['goldEarned']\n",
    "                    total_matches += 1\n",
    "\n",
    "        # Calculate the average stats\n",
    "        average_kills = total_kills / total_matches\n",
    "        average_deaths = total_deaths / total_matches\n",
    "        average_assists = total_assists / total_matches\n",
    "        average_gold_earned = total_gold_earned / total_matches\n",
    "        data = {\n",
    "            'average_kills': average_kills,\n",
    "            'average_deaths': average_deaths,\n",
    "            'average_assists': average_assists,\n",
    "            'average_gold_earned': average_gold_earned\n",
    "        }\n",
    "        return data\n"
   ]
  },
  {
   "cell_type": "code",
   "execution_count": 32,
   "metadata": {
    "id": "iyirrixf3epu"
   },
   "outputs": [],
   "source": [
    "api_key= \"RGAPI-c7cf2424-731f-4a9a-8f1f-f6985e62dac3\"\n",
    "region = 'eun1'\n",
    "summoner = 'spikal'\n",
    "\n",
    "karma = Karma(api_key)\n",
    "summonerStats = karma.player_stats(region, summoner)"
   ]
  },
  {
   "cell_type": "code",
   "execution_count": 44,
   "metadata": {
    "colab": {
     "base_uri": "https://localhost:8080/",
     "height": 141
    },
    "id": "1LeF5xQ4lep9",
    "outputId": "dc41df33-0491-48d9-e0c3-dbae2c5fbd33"
   },
   "outputs": [],
   "source": [
    "statsLastGames = karma.playerStatsLastGames(region, summoner, 0, 30)"
   ]
  },
  {
   "cell_type": "code",
   "execution_count": 45,
   "metadata": {},
   "outputs": [
    {
     "data": {
      "text/plain": [
       "{'average_kills': 2.433333333333333,\n",
       " 'average_deaths': 9.133333333333333,\n",
       " 'average_assists': 12.766666666666667,\n",
       " 'average_gold_earned': 9071.233333333334}"
      ]
     },
     "execution_count": 45,
     "metadata": {},
     "output_type": "execute_result"
    }
   ],
   "source": [
    "statsLastGames"
   ]
  },
  {
   "cell_type": "code",
   "execution_count": 99,
   "metadata": {
    "id": "SIdFO1Xx09vk"
   },
   "outputs": [
    {
     "data": {
      "text/plain": [
       "{'average_kills': 2.3,\n",
       " 'average_deaths': 9.166666666666666,\n",
       " 'average_assists': 14.533333333333333,\n",
       " 'average_gold_earned': 8809.133333333333}"
      ]
     },
     "execution_count": 99,
     "metadata": {},
     "output_type": "execute_result"
    }
   ],
   "source": [
    "data = dict(summonerStats)\n",
    "data.update(statsLastGames)\n",
    "statsLastGames"
   ]
  },
  {
   "cell_type": "code",
   "execution_count": 51,
   "metadata": {},
   "outputs": [],
   "source": [
    "def get_random_players(api_key, NUM_PLAYERS_PER_RANK):\n",
    "    # Retrieve random players for each division\n",
    "    REGIONS = [\"na1\", \"euw1\", \"eun1\", \"kr\", \"br1\", \"la1\", \"la2\", \"oce\", \"tr1\", \"ru\"]\n",
    "    TIERS = [\"IRON\", \"BRONZE\", \"SILVER\", \"GOLD\", \"PLATINUM\", \"DIAMOND\"]\n",
    "    DIVISIONS = [\"I\", \"II\", \"III\", \"IV\"]\n",
    "\n",
    "    lol_watcher = LolWatcher(api_key)\n",
    "\n",
    "    # Initialize an empty list to store players\n",
    "    all_players = []\n",
    "\n",
    "    # Define rate limit values\n",
    "    REQUESTS_PER_10_SECONDS = 500\n",
    "    REQUESTS_PER_10_MINUTES = 30000\n",
    "\n",
    "    # Calculate sleep duration based on rate limits\n",
    "    sleep_duration_10_seconds = 10 / REQUESTS_PER_10_SECONDS\n",
    "    sleep_duration_10_minutes = 600 / REQUESTS_PER_10_MINUTES\n",
    "\n",
    "    # Loop through regions, tiers, and divisions\n",
    "    for region in REGIONS:\n",
    "        for tier in TIERS:\n",
    "            for division in DIVISIONS:\n",
    "                retry_count = 0\n",
    "                while retry_count < 3:  # Retry up to 3 times in case of errors\n",
    "                    try:\n",
    "                        # Retrieve player IDs for the current region, tier, and division\n",
    "                        league_entries = lol_watcher.league.entries(region, \"RANKED_SOLO_5x5\", tier, division)\n",
    "\n",
    "                        # Shuffle the list of players to get random players\n",
    "                        random.shuffle(league_entries)\n",
    "\n",
    "                        # Take the first 100 players (or fewer if there are fewer players available)\n",
    "                        selected_players = league_entries[:NUM_PLAYERS_PER_RANK]\n",
    "\n",
    "                        # Extract player names and regions and add them to the overall list\n",
    "                        players_info = [{\"name\": entry[\"summonerName\"], \"region\": region} for entry in selected_players]\n",
    "                        all_players.extend(players_info)\n",
    "\n",
    "                        # Sleep for a short time to avoid rate limiting\n",
    "                        time.sleep(sleep_duration_10_seconds)  # Sleep for 10 seconds\n",
    "\n",
    "                        break  # Success, exit the retry loop\n",
    "                    except requests.exceptions.HTTPError as e:\n",
    "                        if e.response.status_code == 429:  # Rate limit exceeded\n",
    "                            # Wait for a short time and retry\n",
    "                            time.sleep(sleep_duration_10_seconds)  # Sleep for 10 seconds\n",
    "                            retry_count += 1\n",
    "                        elif e.response.status_code == 443:  # Retry for SSL handshake errors\n",
    "                            retry_count += 1\n",
    "                        else:\n",
    "                            print(f\"Error: {e.response.status_code}\")\n",
    "                            break  # Break the retry loop for other errors\n",
    "                    except requests.exceptions.ConnectionError as ce:\n",
    "                        # Connection error, wait and retry\n",
    "                        time.sleep(sleep_duration_10_seconds)  # Sleep for 10 seconds\n",
    "                        retry_count += 1\n",
    "\n",
    "    # Now, all_players contains a list of dictionaries with player names and regions\n",
    "    return all_players"
   ]
  },
  {
   "cell_type": "code",
   "execution_count": 74,
   "metadata": {},
   "outputs": [],
   "source": [
    "def get_random_matches(api_key, NUM_PLAYERS_PER_RANK):\n",
    "    # Retrieve random matches for each division\n",
    "    REGIONS = [\"na1\", \"euw1\", \"eun1\", \"kr\", \"br1\", \"la1\", \"la2\", \"oce\", \"tr1\", \"ru\"]\n",
    "    TIERS = [\"IRON\", \"BRONZE\", \"SILVER\", \"GOLD\", \"PLATINUM\", \"DIAMOND\"]\n",
    "    DIVISIONS = [\"I\", \"II\", \"III\", \"IV\"]\n",
    "\n",
    "    lol_watcher = LolWatcher(api_key)\n",
    "\n",
    "    # Initialize an empty list to store matches\n",
    "    all_matches = []\n",
    "\n",
    "    # Define rate limit values\n",
    "    REQUESTS_PER_10_SECONDS = 500\n",
    "    REQUESTS_PER_10_MINUTES = 30000\n",
    "\n",
    "    # Calculate sleep duration based on rate limits\n",
    "    sleep_duration_10_seconds = 10 / REQUESTS_PER_10_SECONDS\n",
    "    sleep_duration_10_minutes = 600 / REQUESTS_PER_10_MINUTES\n",
    "\n",
    "    # Loop through regions, tiers, and divisions\n",
    "    for region in REGIONS:\n",
    "        for tier in TIERS:\n",
    "            for division in DIVISIONS:\n",
    "                retry_count = 0\n",
    "                while retry_count < 3:  # Retry up to 3 times in case of errors\n",
    "                    try:\n",
    "                        # Retrieve player IDs for the current region, tier, and division\n",
    "                        league_entries = lol_watcher.league.entries(region, \"RANKED_SOLO_5x5\", tier, division)\n",
    "\n",
    "                        # Shuffle the list of players to get random players\n",
    "                        random.shuffle(league_entries)\n",
    "\n",
    "                        # Take the first 100 players (or fewer if there are fewer players available)\n",
    "                        selected_players = league_entries[:NUM_PLAYERS_PER_RANK]\n",
    "\n",
    "                        for player in selected_players:\n",
    "                            # Retrieve the matchlist for the current player\n",
    "                            player1 = lol_watcher.summoner.by_name(region, player['summonerName'])\n",
    "                            player_puuid = player1[\"puuid\"]\n",
    "                            matchlist = lol_watcher.match.matchlist_by_puuid(region, player_puuid)\n",
    "#                             print(matchlist)\n",
    "                            # Extract region, match ID, tier, and rank, and add them to the overall list\n",
    "                            match_info = {\n",
    "                                \"region\": region,\n",
    "                                \"matchId\": [match for match in matchlist],\n",
    "                                \"tier\": tier,\n",
    "                                \"rank\": division\n",
    "                            }\n",
    "                            all_matches.append(match_info)\n",
    "\n",
    "                            # Sleep for a short time to avoid rate limiting\n",
    "                            time.sleep(sleep_duration_10_seconds)  # Sleep for 10 seconds\n",
    "\n",
    "                        break  # Success, exit the retry loop\n",
    "                    except requests.exceptions.HTTPError as e:\n",
    "                        if e.response.status_code == 429:  # Rate limit exceeded\n",
    "                            # Wait for a short time and retry\n",
    "                            time.sleep(sleep_duration_10_seconds)  # Sleep for 10 seconds\n",
    "                            retry_count += 1\n",
    "                        elif e.response.status_code == 443:  # Retry for SSL handshake errors\n",
    "                            retry_count += 1\n",
    "                        else:\n",
    "                            print(f\"Error: {e.response.status_code}\")\n",
    "                            break  # Break the retry loop for other errors\n",
    "                    except requests.exceptions.ConnectionError as ce:\n",
    "                        # Connection error, wait and retry\n",
    "                        time.sleep(sleep_duration_10_seconds)  # Sleep for 10 seconds\n",
    "                        retry_count += 1\n",
    "\n",
    "    # Now, all_matches contains a list of dictionaries with region, match ID, tier, and rank\n",
    "    return all_matches"
   ]
  },
  {
   "cell_type": "code",
   "execution_count": 81,
   "metadata": {},
   "outputs": [],
   "source": [
    "#TODO: Problem with 443 with API\n",
    "train_data = get_random_players(api_key, NUM_PLAYERS_PER_RANK = 200)"
   ]
  },
  {
   "cell_type": "code",
   "execution_count": 75,
   "metadata": {},
   "outputs": [
    {
     "name": "stdout",
     "output_type": "stream",
     "text": [
      "['NA1_4792963319', 'NA1_4788432522', 'NA1_4787075060', 'NA1_4787036771', 'NA1_4786992836', 'NA1_4776026137', 'NA1_4758008257', 'NA1_4757989308', 'NA1_4757968637', 'NA1_4757956366', 'NA1_4757878262', 'NA1_4757828021', 'NA1_4757778551', 'NA1_4757765243', 'NA1_4757757772', 'NA1_4750318657', 'NA1_4744651763', 'NA1_4744627948', 'NA1_4744609219', 'NA1_4744504780']\n",
      "['NA1_4730440677', 'NA1_4730239209', 'NA1_4730181717', 'NA1_4718673878', 'NA1_4718628725', 'NA1_4718217367', 'NA1_4718166782', 'NA1_4718143820', 'NA1_4718111756', 'NA1_4718089925', 'NA1_4716375975', 'NA1_4716356352', 'NA1_4716351125', 'NA1_4705246004', 'NA1_4684479909', 'NA1_4684444224', 'NA1_4684418336', 'NA1_4684394241', 'NA1_4682614625', 'NA1_4682610959']\n",
      "['NA1_4792273200', 'NA1_4792253859', 'NA1_4792207920', 'NA1_4792154734', 'NA1_4790612724', 'NA1_4790597922', 'NA1_4790577740', 'NA1_4790566229', 'NA1_4789027995', 'NA1_4788985725', 'NA1_4785286288', 'NA1_4785261770', 'NA1_4784465260', 'NA1_4784438137', 'NA1_4784411448', 'NA1_4784369748', 'NA1_4784337967', 'NA1_4784314028', 'NA1_4784254645', 'NA1_4784221187']\n",
      "['NA1_4792293571', 'NA1_4792256734', 'NA1_4791320941', 'NA1_4791201266', 'NA1_4791167400', 'NA1_4791123605', 'NA1_4788285872', 'NA1_4787351803', 'NA1_4787330762', 'NA1_4787310924', 'NA1_4787300095', 'NA1_4787287224', 'NA1_4783519423', 'NA1_4783452115', 'NA1_4783404676', 'NA1_4782158021', 'NA1_4782127315', 'NA1_4781850318', 'NA1_4781835297', 'NA1_4781615264']\n"
     ]
    },
    {
     "ename": "KeyboardInterrupt",
     "evalue": "",
     "output_type": "error",
     "traceback": [
      "\u001b[1;31m---------------------------------------------------------------------------\u001b[0m",
      "\u001b[1;31mKeyboardInterrupt\u001b[0m                         Traceback (most recent call last)",
      "Cell \u001b[1;32mIn[75], line 1\u001b[0m\n\u001b[1;32m----> 1\u001b[0m random_matches \u001b[38;5;241m=\u001b[39m get_random_matches(api_key, NUM_PLAYERS_PER_RANK \u001b[38;5;241m=\u001b[39m \u001b[38;5;241m1\u001b[39m)\n\u001b[0;32m      2\u001b[0m \u001b[38;5;28mprint\u001b[39m(random_matches)\n",
      "Cell \u001b[1;32mIn[74], line 40\u001b[0m, in \u001b[0;36mget_random_matches\u001b[1;34m(api_key, NUM_PLAYERS_PER_RANK)\u001b[0m\n\u001b[0;32m     38\u001b[0m player1 \u001b[38;5;241m=\u001b[39m lol_watcher\u001b[38;5;241m.\u001b[39msummoner\u001b[38;5;241m.\u001b[39mby_name(region, player[\u001b[38;5;124m'\u001b[39m\u001b[38;5;124msummonerName\u001b[39m\u001b[38;5;124m'\u001b[39m])\n\u001b[0;32m     39\u001b[0m player_puuid \u001b[38;5;241m=\u001b[39m player1[\u001b[38;5;124m\"\u001b[39m\u001b[38;5;124mpuuid\u001b[39m\u001b[38;5;124m\"\u001b[39m]\n\u001b[1;32m---> 40\u001b[0m matchlist \u001b[38;5;241m=\u001b[39m lol_watcher\u001b[38;5;241m.\u001b[39mmatch\u001b[38;5;241m.\u001b[39mmatchlist_by_puuid(region, player_puuid)\n\u001b[0;32m     41\u001b[0m \u001b[38;5;28mprint\u001b[39m(matchlist)\n\u001b[0;32m     42\u001b[0m \u001b[38;5;66;03m# Extract region, match ID, tier, and rank, and add them to the overall list\u001b[39;00m\n",
      "File \u001b[1;32m~\\anaconda3\\Lib\\site-packages\\riotwatcher\\_apis\\helpers.py:37\u001b[0m, in \u001b[0;36mremap_region_to_platform.<locals>._remap_region_to_platform.<locals>.remapper\u001b[1;34m(*args, **kwargs)\u001b[0m\n\u001b[0;32m     35\u001b[0m         nargs \u001b[38;5;241m=\u001b[39m \u001b[38;5;28mlist\u001b[39m(args)\n\u001b[0;32m     36\u001b[0m         nargs[\u001b[38;5;241m1\u001b[39m] \u001b[38;5;241m=\u001b[39m remap[region]\n\u001b[1;32m---> 37\u001b[0m \u001b[38;5;28;01mreturn\u001b[39;00m api_call(\u001b[38;5;241m*\u001b[39mnargs, \u001b[38;5;241m*\u001b[39m\u001b[38;5;241m*\u001b[39mkwargs)\n",
      "File \u001b[1;32m~\\anaconda3\\Lib\\site-packages\\riotwatcher\\_apis\\league_of_legends\\MatchApiV5.py:73\u001b[0m, in \u001b[0;36mMatchApiV5.matchlist_by_puuid\u001b[1;34m(self, region, puuid, start, count, queue, type, start_time, end_time)\u001b[0m\n\u001b[0;32m     36\u001b[0m \u001b[38;5;129m@remap_region_to_platform\u001b[39m(\u001b[38;5;241m1\u001b[39m)\n\u001b[0;32m     37\u001b[0m \u001b[38;5;28;01mdef\u001b[39;00m \u001b[38;5;21mmatchlist_by_puuid\u001b[39m(\n\u001b[0;32m     38\u001b[0m     \u001b[38;5;28mself\u001b[39m,\n\u001b[1;32m   (...)\u001b[0m\n\u001b[0;32m     46\u001b[0m     end_time: \u001b[38;5;28mint\u001b[39m \u001b[38;5;241m=\u001b[39m \u001b[38;5;28;01mNone\u001b[39;00m,\n\u001b[0;32m     47\u001b[0m ):\n\u001b[0;32m     48\u001b[0m \u001b[38;5;250m    \u001b[39m\u001b[38;5;124;03m\"\"\"\u001b[39;00m\n\u001b[0;32m     49\u001b[0m \u001b[38;5;124;03m    Get matchlist for ranked games played on given account ID and platform ID\u001b[39;00m\n\u001b[0;32m     50\u001b[0m \u001b[38;5;124;03m    and filtered using given filter parameters, if any\u001b[39;00m\n\u001b[1;32m   (...)\u001b[0m\n\u001b[0;32m     71\u001b[0m \u001b[38;5;124;03m    :returns: List[string]\u001b[39;00m\n\u001b[0;32m     72\u001b[0m \u001b[38;5;124;03m    \"\"\"\u001b[39;00m\n\u001b[1;32m---> 73\u001b[0m     \u001b[38;5;28;01mreturn\u001b[39;00m \u001b[38;5;28mself\u001b[39m\u001b[38;5;241m.\u001b[39m_request_endpoint(\n\u001b[0;32m     74\u001b[0m         \u001b[38;5;28mself\u001b[39m\u001b[38;5;241m.\u001b[39mmatchlist_by_puuid\u001b[38;5;241m.\u001b[39m\u001b[38;5;18m__name__\u001b[39m,\n\u001b[0;32m     75\u001b[0m         region,\n\u001b[0;32m     76\u001b[0m         MatchApiV5Urls\u001b[38;5;241m.\u001b[39mmatchlist_by_puuid,\n\u001b[0;32m     77\u001b[0m         puuid\u001b[38;5;241m=\u001b[39mpuuid,\n\u001b[0;32m     78\u001b[0m         start\u001b[38;5;241m=\u001b[39mstart,\n\u001b[0;32m     79\u001b[0m         count\u001b[38;5;241m=\u001b[39mcount,\n\u001b[0;32m     80\u001b[0m         queue\u001b[38;5;241m=\u001b[39mqueue,\n\u001b[0;32m     81\u001b[0m         \u001b[38;5;28mtype\u001b[39m\u001b[38;5;241m=\u001b[39m\u001b[38;5;28mtype\u001b[39m,\n\u001b[0;32m     82\u001b[0m         startTime\u001b[38;5;241m=\u001b[39mstart_time,\n\u001b[0;32m     83\u001b[0m         endTime\u001b[38;5;241m=\u001b[39mend_time,\n\u001b[0;32m     84\u001b[0m     )\n",
      "File \u001b[1;32m~\\anaconda3\\Lib\\site-packages\\riotwatcher\\_apis\\NamedEndpoint.py:36\u001b[0m, in \u001b[0;36mNamedEndpoint._request_endpoint\u001b[1;34m(self, method_name, region, endpoint, **kwargs)\u001b[0m\n\u001b[0;32m     26\u001b[0m \u001b[38;5;250m\u001b[39m\u001b[38;5;124;03m\"\"\"\u001b[39;00m\n\u001b[0;32m     27\u001b[0m \u001b[38;5;124;03mSends a request through the BaseApi instance provided, injecting the provided\u001b[39;00m\n\u001b[0;32m     28\u001b[0m \u001b[38;5;124;03mendpoint_name into the method call, so the caller doesn't have to.\u001b[39;00m\n\u001b[1;32m   (...)\u001b[0m\n\u001b[0;32m     33\u001b[0m \u001b[38;5;124;03m                            parameters\u001b[39;00m\n\u001b[0;32m     34\u001b[0m \u001b[38;5;124;03m\"\"\"\u001b[39;00m\n\u001b[0;32m     35\u001b[0m url, query \u001b[38;5;241m=\u001b[39m endpoint(platform\u001b[38;5;241m=\u001b[39mregion, \u001b[38;5;241m*\u001b[39m\u001b[38;5;241m*\u001b[39mkwargs)\n\u001b[1;32m---> 36\u001b[0m \u001b[38;5;28;01mreturn\u001b[39;00m \u001b[38;5;28mself\u001b[39m\u001b[38;5;241m.\u001b[39m_base_api\u001b[38;5;241m.\u001b[39mraw_request(\n\u001b[0;32m     37\u001b[0m     \u001b[38;5;28mself\u001b[39m\u001b[38;5;241m.\u001b[39m_endpoint_name, method_name, region, url, query\n\u001b[0;32m     38\u001b[0m )\n",
      "File \u001b[1;32m~\\anaconda3\\Lib\\site-packages\\riotwatcher\\_apis\\BaseApi.py:42\u001b[0m, in \u001b[0;36mBaseApi.raw_request\u001b[1;34m(self, endpoint_name, method_name, region, url, query_params)\u001b[0m\n\u001b[0;32m     39\u001b[0m     \u001b[38;5;28;01mif\u001b[39;00m \u001b[38;5;28mself\u001b[39m\u001b[38;5;241m.\u001b[39m_timeout \u001b[38;5;129;01mis\u001b[39;00m \u001b[38;5;129;01mnot\u001b[39;00m \u001b[38;5;28;01mNone\u001b[39;00m:\n\u001b[0;32m     40\u001b[0m         extra[\u001b[38;5;124m\"\u001b[39m\u001b[38;5;124mtimeout\u001b[39m\u001b[38;5;124m\"\u001b[39m] \u001b[38;5;241m=\u001b[39m \u001b[38;5;28mself\u001b[39m\u001b[38;5;241m.\u001b[39m_timeout\n\u001b[1;32m---> 42\u001b[0m     response \u001b[38;5;241m=\u001b[39m \u001b[38;5;28mself\u001b[39m\u001b[38;5;241m.\u001b[39m_session\u001b[38;5;241m.\u001b[39mget(\n\u001b[0;32m     43\u001b[0m         url,\n\u001b[0;32m     44\u001b[0m         params\u001b[38;5;241m=\u001b[39mquery_params,\n\u001b[0;32m     45\u001b[0m         headers\u001b[38;5;241m=\u001b[39m{\u001b[38;5;124m\"\u001b[39m\u001b[38;5;124mX-Riot-Token\u001b[39m\u001b[38;5;124m\"\u001b[39m: \u001b[38;5;28mself\u001b[39m\u001b[38;5;241m.\u001b[39mapi_key},\n\u001b[0;32m     46\u001b[0m         \u001b[38;5;241m*\u001b[39m\u001b[38;5;241m*\u001b[39mextra\n\u001b[0;32m     47\u001b[0m     )\n\u001b[0;32m     49\u001b[0m \u001b[38;5;28;01mif\u001b[39;00m \u001b[38;5;28mself\u001b[39m\u001b[38;5;241m.\u001b[39m_request_handlers \u001b[38;5;129;01mis\u001b[39;00m \u001b[38;5;129;01mnot\u001b[39;00m \u001b[38;5;28;01mNone\u001b[39;00m:\n\u001b[0;32m     50\u001b[0m     \u001b[38;5;28;01mfor\u001b[39;00m handler \u001b[38;5;129;01min\u001b[39;00m \u001b[38;5;28mself\u001b[39m\u001b[38;5;241m.\u001b[39m_request_handlers[early_ret_idx:\u001b[38;5;28;01mNone\u001b[39;00m:\u001b[38;5;241m-\u001b[39m\u001b[38;5;241m1\u001b[39m]:\n",
      "File \u001b[1;32m~\\anaconda3\\Lib\\site-packages\\requests\\sessions.py:602\u001b[0m, in \u001b[0;36mSession.get\u001b[1;34m(self, url, **kwargs)\u001b[0m\n\u001b[0;32m    594\u001b[0m \u001b[38;5;250m\u001b[39m\u001b[38;5;124mr\u001b[39m\u001b[38;5;124;03m\"\"\"Sends a GET request. Returns :class:`Response` object.\u001b[39;00m\n\u001b[0;32m    595\u001b[0m \n\u001b[0;32m    596\u001b[0m \u001b[38;5;124;03m:param url: URL for the new :class:`Request` object.\u001b[39;00m\n\u001b[0;32m    597\u001b[0m \u001b[38;5;124;03m:param \\*\\*kwargs: Optional arguments that ``request`` takes.\u001b[39;00m\n\u001b[0;32m    598\u001b[0m \u001b[38;5;124;03m:rtype: requests.Response\u001b[39;00m\n\u001b[0;32m    599\u001b[0m \u001b[38;5;124;03m\"\"\"\u001b[39;00m\n\u001b[0;32m    601\u001b[0m kwargs\u001b[38;5;241m.\u001b[39msetdefault(\u001b[38;5;124m\"\u001b[39m\u001b[38;5;124mallow_redirects\u001b[39m\u001b[38;5;124m\"\u001b[39m, \u001b[38;5;28;01mTrue\u001b[39;00m)\n\u001b[1;32m--> 602\u001b[0m \u001b[38;5;28;01mreturn\u001b[39;00m \u001b[38;5;28mself\u001b[39m\u001b[38;5;241m.\u001b[39mrequest(\u001b[38;5;124m\"\u001b[39m\u001b[38;5;124mGET\u001b[39m\u001b[38;5;124m\"\u001b[39m, url, \u001b[38;5;241m*\u001b[39m\u001b[38;5;241m*\u001b[39mkwargs)\n",
      "File \u001b[1;32m~\\anaconda3\\Lib\\site-packages\\requests\\sessions.py:589\u001b[0m, in \u001b[0;36mSession.request\u001b[1;34m(self, method, url, params, data, headers, cookies, files, auth, timeout, allow_redirects, proxies, hooks, stream, verify, cert, json)\u001b[0m\n\u001b[0;32m    584\u001b[0m send_kwargs \u001b[38;5;241m=\u001b[39m {\n\u001b[0;32m    585\u001b[0m     \u001b[38;5;124m\"\u001b[39m\u001b[38;5;124mtimeout\u001b[39m\u001b[38;5;124m\"\u001b[39m: timeout,\n\u001b[0;32m    586\u001b[0m     \u001b[38;5;124m\"\u001b[39m\u001b[38;5;124mallow_redirects\u001b[39m\u001b[38;5;124m\"\u001b[39m: allow_redirects,\n\u001b[0;32m    587\u001b[0m }\n\u001b[0;32m    588\u001b[0m send_kwargs\u001b[38;5;241m.\u001b[39mupdate(settings)\n\u001b[1;32m--> 589\u001b[0m resp \u001b[38;5;241m=\u001b[39m \u001b[38;5;28mself\u001b[39m\u001b[38;5;241m.\u001b[39msend(prep, \u001b[38;5;241m*\u001b[39m\u001b[38;5;241m*\u001b[39msend_kwargs)\n\u001b[0;32m    591\u001b[0m \u001b[38;5;28;01mreturn\u001b[39;00m resp\n",
      "File \u001b[1;32m~\\anaconda3\\Lib\\site-packages\\requests\\sessions.py:703\u001b[0m, in \u001b[0;36mSession.send\u001b[1;34m(self, request, **kwargs)\u001b[0m\n\u001b[0;32m    700\u001b[0m start \u001b[38;5;241m=\u001b[39m preferred_clock()\n\u001b[0;32m    702\u001b[0m \u001b[38;5;66;03m# Send the request\u001b[39;00m\n\u001b[1;32m--> 703\u001b[0m r \u001b[38;5;241m=\u001b[39m adapter\u001b[38;5;241m.\u001b[39msend(request, \u001b[38;5;241m*\u001b[39m\u001b[38;5;241m*\u001b[39mkwargs)\n\u001b[0;32m    705\u001b[0m \u001b[38;5;66;03m# Total elapsed time of the request (approximately)\u001b[39;00m\n\u001b[0;32m    706\u001b[0m elapsed \u001b[38;5;241m=\u001b[39m preferred_clock() \u001b[38;5;241m-\u001b[39m start\n",
      "File \u001b[1;32m~\\anaconda3\\Lib\\site-packages\\requests\\adapters.py:486\u001b[0m, in \u001b[0;36mHTTPAdapter.send\u001b[1;34m(self, request, stream, timeout, verify, cert, proxies)\u001b[0m\n\u001b[0;32m    483\u001b[0m     timeout \u001b[38;5;241m=\u001b[39m TimeoutSauce(connect\u001b[38;5;241m=\u001b[39mtimeout, read\u001b[38;5;241m=\u001b[39mtimeout)\n\u001b[0;32m    485\u001b[0m \u001b[38;5;28;01mtry\u001b[39;00m:\n\u001b[1;32m--> 486\u001b[0m     resp \u001b[38;5;241m=\u001b[39m conn\u001b[38;5;241m.\u001b[39murlopen(\n\u001b[0;32m    487\u001b[0m         method\u001b[38;5;241m=\u001b[39mrequest\u001b[38;5;241m.\u001b[39mmethod,\n\u001b[0;32m    488\u001b[0m         url\u001b[38;5;241m=\u001b[39murl,\n\u001b[0;32m    489\u001b[0m         body\u001b[38;5;241m=\u001b[39mrequest\u001b[38;5;241m.\u001b[39mbody,\n\u001b[0;32m    490\u001b[0m         headers\u001b[38;5;241m=\u001b[39mrequest\u001b[38;5;241m.\u001b[39mheaders,\n\u001b[0;32m    491\u001b[0m         redirect\u001b[38;5;241m=\u001b[39m\u001b[38;5;28;01mFalse\u001b[39;00m,\n\u001b[0;32m    492\u001b[0m         assert_same_host\u001b[38;5;241m=\u001b[39m\u001b[38;5;28;01mFalse\u001b[39;00m,\n\u001b[0;32m    493\u001b[0m         preload_content\u001b[38;5;241m=\u001b[39m\u001b[38;5;28;01mFalse\u001b[39;00m,\n\u001b[0;32m    494\u001b[0m         decode_content\u001b[38;5;241m=\u001b[39m\u001b[38;5;28;01mFalse\u001b[39;00m,\n\u001b[0;32m    495\u001b[0m         retries\u001b[38;5;241m=\u001b[39m\u001b[38;5;28mself\u001b[39m\u001b[38;5;241m.\u001b[39mmax_retries,\n\u001b[0;32m    496\u001b[0m         timeout\u001b[38;5;241m=\u001b[39mtimeout,\n\u001b[0;32m    497\u001b[0m         chunked\u001b[38;5;241m=\u001b[39mchunked,\n\u001b[0;32m    498\u001b[0m     )\n\u001b[0;32m    500\u001b[0m \u001b[38;5;28;01mexcept\u001b[39;00m (ProtocolError, \u001b[38;5;167;01mOSError\u001b[39;00m) \u001b[38;5;28;01mas\u001b[39;00m err:\n\u001b[0;32m    501\u001b[0m     \u001b[38;5;28;01mraise\u001b[39;00m \u001b[38;5;167;01mConnectionError\u001b[39;00m(err, request\u001b[38;5;241m=\u001b[39mrequest)\n",
      "File \u001b[1;32m~\\anaconda3\\Lib\\site-packages\\urllib3\\connectionpool.py:714\u001b[0m, in \u001b[0;36mHTTPConnectionPool.urlopen\u001b[1;34m(self, method, url, body, headers, retries, redirect, assert_same_host, timeout, pool_timeout, release_conn, chunked, body_pos, **response_kw)\u001b[0m\n\u001b[0;32m    711\u001b[0m     \u001b[38;5;28mself\u001b[39m\u001b[38;5;241m.\u001b[39m_prepare_proxy(conn)\n\u001b[0;32m    713\u001b[0m \u001b[38;5;66;03m# Make the request on the httplib connection object.\u001b[39;00m\n\u001b[1;32m--> 714\u001b[0m httplib_response \u001b[38;5;241m=\u001b[39m \u001b[38;5;28mself\u001b[39m\u001b[38;5;241m.\u001b[39m_make_request(\n\u001b[0;32m    715\u001b[0m     conn,\n\u001b[0;32m    716\u001b[0m     method,\n\u001b[0;32m    717\u001b[0m     url,\n\u001b[0;32m    718\u001b[0m     timeout\u001b[38;5;241m=\u001b[39mtimeout_obj,\n\u001b[0;32m    719\u001b[0m     body\u001b[38;5;241m=\u001b[39mbody,\n\u001b[0;32m    720\u001b[0m     headers\u001b[38;5;241m=\u001b[39mheaders,\n\u001b[0;32m    721\u001b[0m     chunked\u001b[38;5;241m=\u001b[39mchunked,\n\u001b[0;32m    722\u001b[0m )\n\u001b[0;32m    724\u001b[0m \u001b[38;5;66;03m# If we're going to release the connection in ``finally:``, then\u001b[39;00m\n\u001b[0;32m    725\u001b[0m \u001b[38;5;66;03m# the response doesn't need to know about the connection. Otherwise\u001b[39;00m\n\u001b[0;32m    726\u001b[0m \u001b[38;5;66;03m# it will also try to release it and we'll have a double-release\u001b[39;00m\n\u001b[0;32m    727\u001b[0m \u001b[38;5;66;03m# mess.\u001b[39;00m\n\u001b[0;32m    728\u001b[0m response_conn \u001b[38;5;241m=\u001b[39m conn \u001b[38;5;28;01mif\u001b[39;00m \u001b[38;5;129;01mnot\u001b[39;00m release_conn \u001b[38;5;28;01melse\u001b[39;00m \u001b[38;5;28;01mNone\u001b[39;00m\n",
      "File \u001b[1;32m~\\anaconda3\\Lib\\site-packages\\urllib3\\connectionpool.py:466\u001b[0m, in \u001b[0;36mHTTPConnectionPool._make_request\u001b[1;34m(self, conn, method, url, timeout, chunked, **httplib_request_kw)\u001b[0m\n\u001b[0;32m    461\u001b[0m             httplib_response \u001b[38;5;241m=\u001b[39m conn\u001b[38;5;241m.\u001b[39mgetresponse()\n\u001b[0;32m    462\u001b[0m         \u001b[38;5;28;01mexcept\u001b[39;00m \u001b[38;5;167;01mBaseException\u001b[39;00m \u001b[38;5;28;01mas\u001b[39;00m e:\n\u001b[0;32m    463\u001b[0m             \u001b[38;5;66;03m# Remove the TypeError from the exception chain in\u001b[39;00m\n\u001b[0;32m    464\u001b[0m             \u001b[38;5;66;03m# Python 3 (including for exceptions like SystemExit).\u001b[39;00m\n\u001b[0;32m    465\u001b[0m             \u001b[38;5;66;03m# Otherwise it looks like a bug in the code.\u001b[39;00m\n\u001b[1;32m--> 466\u001b[0m             six\u001b[38;5;241m.\u001b[39mraise_from(e, \u001b[38;5;28;01mNone\u001b[39;00m)\n\u001b[0;32m    467\u001b[0m \u001b[38;5;28;01mexcept\u001b[39;00m (SocketTimeout, BaseSSLError, SocketError) \u001b[38;5;28;01mas\u001b[39;00m e:\n\u001b[0;32m    468\u001b[0m     \u001b[38;5;28mself\u001b[39m\u001b[38;5;241m.\u001b[39m_raise_timeout(err\u001b[38;5;241m=\u001b[39me, url\u001b[38;5;241m=\u001b[39murl, timeout_value\u001b[38;5;241m=\u001b[39mread_timeout)\n",
      "File \u001b[1;32m<string>:3\u001b[0m, in \u001b[0;36mraise_from\u001b[1;34m(value, from_value)\u001b[0m\n",
      "File \u001b[1;32m~\\anaconda3\\Lib\\site-packages\\urllib3\\connectionpool.py:461\u001b[0m, in \u001b[0;36mHTTPConnectionPool._make_request\u001b[1;34m(self, conn, method, url, timeout, chunked, **httplib_request_kw)\u001b[0m\n\u001b[0;32m    458\u001b[0m \u001b[38;5;28;01mexcept\u001b[39;00m \u001b[38;5;167;01mTypeError\u001b[39;00m:\n\u001b[0;32m    459\u001b[0m     \u001b[38;5;66;03m# Python 3\u001b[39;00m\n\u001b[0;32m    460\u001b[0m     \u001b[38;5;28;01mtry\u001b[39;00m:\n\u001b[1;32m--> 461\u001b[0m         httplib_response \u001b[38;5;241m=\u001b[39m conn\u001b[38;5;241m.\u001b[39mgetresponse()\n\u001b[0;32m    462\u001b[0m     \u001b[38;5;28;01mexcept\u001b[39;00m \u001b[38;5;167;01mBaseException\u001b[39;00m \u001b[38;5;28;01mas\u001b[39;00m e:\n\u001b[0;32m    463\u001b[0m         \u001b[38;5;66;03m# Remove the TypeError from the exception chain in\u001b[39;00m\n\u001b[0;32m    464\u001b[0m         \u001b[38;5;66;03m# Python 3 (including for exceptions like SystemExit).\u001b[39;00m\n\u001b[0;32m    465\u001b[0m         \u001b[38;5;66;03m# Otherwise it looks like a bug in the code.\u001b[39;00m\n\u001b[0;32m    466\u001b[0m         six\u001b[38;5;241m.\u001b[39mraise_from(e, \u001b[38;5;28;01mNone\u001b[39;00m)\n",
      "File \u001b[1;32m~\\anaconda3\\Lib\\http\\client.py:1378\u001b[0m, in \u001b[0;36mHTTPConnection.getresponse\u001b[1;34m(self)\u001b[0m\n\u001b[0;32m   1376\u001b[0m \u001b[38;5;28;01mtry\u001b[39;00m:\n\u001b[0;32m   1377\u001b[0m     \u001b[38;5;28;01mtry\u001b[39;00m:\n\u001b[1;32m-> 1378\u001b[0m         response\u001b[38;5;241m.\u001b[39mbegin()\n\u001b[0;32m   1379\u001b[0m     \u001b[38;5;28;01mexcept\u001b[39;00m \u001b[38;5;167;01mConnectionError\u001b[39;00m:\n\u001b[0;32m   1380\u001b[0m         \u001b[38;5;28mself\u001b[39m\u001b[38;5;241m.\u001b[39mclose()\n",
      "File \u001b[1;32m~\\anaconda3\\Lib\\http\\client.py:318\u001b[0m, in \u001b[0;36mHTTPResponse.begin\u001b[1;34m(self)\u001b[0m\n\u001b[0;32m    316\u001b[0m \u001b[38;5;66;03m# read until we get a non-100 response\u001b[39;00m\n\u001b[0;32m    317\u001b[0m \u001b[38;5;28;01mwhile\u001b[39;00m \u001b[38;5;28;01mTrue\u001b[39;00m:\n\u001b[1;32m--> 318\u001b[0m     version, status, reason \u001b[38;5;241m=\u001b[39m \u001b[38;5;28mself\u001b[39m\u001b[38;5;241m.\u001b[39m_read_status()\n\u001b[0;32m    319\u001b[0m     \u001b[38;5;28;01mif\u001b[39;00m status \u001b[38;5;241m!=\u001b[39m CONTINUE:\n\u001b[0;32m    320\u001b[0m         \u001b[38;5;28;01mbreak\u001b[39;00m\n",
      "File \u001b[1;32m~\\anaconda3\\Lib\\http\\client.py:279\u001b[0m, in \u001b[0;36mHTTPResponse._read_status\u001b[1;34m(self)\u001b[0m\n\u001b[0;32m    278\u001b[0m \u001b[38;5;28;01mdef\u001b[39;00m \u001b[38;5;21m_read_status\u001b[39m(\u001b[38;5;28mself\u001b[39m):\n\u001b[1;32m--> 279\u001b[0m     line \u001b[38;5;241m=\u001b[39m \u001b[38;5;28mstr\u001b[39m(\u001b[38;5;28mself\u001b[39m\u001b[38;5;241m.\u001b[39mfp\u001b[38;5;241m.\u001b[39mreadline(_MAXLINE \u001b[38;5;241m+\u001b[39m \u001b[38;5;241m1\u001b[39m), \u001b[38;5;124m\"\u001b[39m\u001b[38;5;124miso-8859-1\u001b[39m\u001b[38;5;124m\"\u001b[39m)\n\u001b[0;32m    280\u001b[0m     \u001b[38;5;28;01mif\u001b[39;00m \u001b[38;5;28mlen\u001b[39m(line) \u001b[38;5;241m>\u001b[39m _MAXLINE:\n\u001b[0;32m    281\u001b[0m         \u001b[38;5;28;01mraise\u001b[39;00m LineTooLong(\u001b[38;5;124m\"\u001b[39m\u001b[38;5;124mstatus line\u001b[39m\u001b[38;5;124m\"\u001b[39m)\n",
      "File \u001b[1;32m~\\anaconda3\\Lib\\socket.py:706\u001b[0m, in \u001b[0;36mSocketIO.readinto\u001b[1;34m(self, b)\u001b[0m\n\u001b[0;32m    704\u001b[0m \u001b[38;5;28;01mwhile\u001b[39;00m \u001b[38;5;28;01mTrue\u001b[39;00m:\n\u001b[0;32m    705\u001b[0m     \u001b[38;5;28;01mtry\u001b[39;00m:\n\u001b[1;32m--> 706\u001b[0m         \u001b[38;5;28;01mreturn\u001b[39;00m \u001b[38;5;28mself\u001b[39m\u001b[38;5;241m.\u001b[39m_sock\u001b[38;5;241m.\u001b[39mrecv_into(b)\n\u001b[0;32m    707\u001b[0m     \u001b[38;5;28;01mexcept\u001b[39;00m timeout:\n\u001b[0;32m    708\u001b[0m         \u001b[38;5;28mself\u001b[39m\u001b[38;5;241m.\u001b[39m_timeout_occurred \u001b[38;5;241m=\u001b[39m \u001b[38;5;28;01mTrue\u001b[39;00m\n",
      "File \u001b[1;32m~\\anaconda3\\Lib\\ssl.py:1311\u001b[0m, in \u001b[0;36mSSLSocket.recv_into\u001b[1;34m(self, buffer, nbytes, flags)\u001b[0m\n\u001b[0;32m   1307\u001b[0m     \u001b[38;5;28;01mif\u001b[39;00m flags \u001b[38;5;241m!=\u001b[39m \u001b[38;5;241m0\u001b[39m:\n\u001b[0;32m   1308\u001b[0m         \u001b[38;5;28;01mraise\u001b[39;00m \u001b[38;5;167;01mValueError\u001b[39;00m(\n\u001b[0;32m   1309\u001b[0m           \u001b[38;5;124m\"\u001b[39m\u001b[38;5;124mnon-zero flags not allowed in calls to recv_into() on \u001b[39m\u001b[38;5;132;01m%s\u001b[39;00m\u001b[38;5;124m\"\u001b[39m \u001b[38;5;241m%\u001b[39m\n\u001b[0;32m   1310\u001b[0m           \u001b[38;5;28mself\u001b[39m\u001b[38;5;241m.\u001b[39m\u001b[38;5;18m__class__\u001b[39m)\n\u001b[1;32m-> 1311\u001b[0m     \u001b[38;5;28;01mreturn\u001b[39;00m \u001b[38;5;28mself\u001b[39m\u001b[38;5;241m.\u001b[39mread(nbytes, buffer)\n\u001b[0;32m   1312\u001b[0m \u001b[38;5;28;01melse\u001b[39;00m:\n\u001b[0;32m   1313\u001b[0m     \u001b[38;5;28;01mreturn\u001b[39;00m \u001b[38;5;28msuper\u001b[39m()\u001b[38;5;241m.\u001b[39mrecv_into(buffer, nbytes, flags)\n",
      "File \u001b[1;32m~\\anaconda3\\Lib\\ssl.py:1167\u001b[0m, in \u001b[0;36mSSLSocket.read\u001b[1;34m(self, len, buffer)\u001b[0m\n\u001b[0;32m   1165\u001b[0m \u001b[38;5;28;01mtry\u001b[39;00m:\n\u001b[0;32m   1166\u001b[0m     \u001b[38;5;28;01mif\u001b[39;00m buffer \u001b[38;5;129;01mis\u001b[39;00m \u001b[38;5;129;01mnot\u001b[39;00m \u001b[38;5;28;01mNone\u001b[39;00m:\n\u001b[1;32m-> 1167\u001b[0m         \u001b[38;5;28;01mreturn\u001b[39;00m \u001b[38;5;28mself\u001b[39m\u001b[38;5;241m.\u001b[39m_sslobj\u001b[38;5;241m.\u001b[39mread(\u001b[38;5;28mlen\u001b[39m, buffer)\n\u001b[0;32m   1168\u001b[0m     \u001b[38;5;28;01melse\u001b[39;00m:\n\u001b[0;32m   1169\u001b[0m         \u001b[38;5;28;01mreturn\u001b[39;00m \u001b[38;5;28mself\u001b[39m\u001b[38;5;241m.\u001b[39m_sslobj\u001b[38;5;241m.\u001b[39mread(\u001b[38;5;28mlen\u001b[39m)\n",
      "\u001b[1;31mKeyboardInterrupt\u001b[0m: "
     ]
    }
   ],
   "source": [
    "random_matches = get_random_matches(api_key, NUM_PLAYERS_PER_RANK = 1)\n",
    "print(random_matches)"
   ]
  },
  {
   "cell_type": "code",
   "execution_count": 85,
   "metadata": {},
   "outputs": [],
   "source": [
    "test_data = get_random_players(api_key, NUM_PLAYERS_PER_RANK = 50)"
   ]
  },
  {
   "cell_type": "code",
   "execution_count": 86,
   "metadata": {},
   "outputs": [
    {
     "data": {
      "text/plain": [
       "10800"
      ]
     },
     "execution_count": 86,
     "metadata": {},
     "output_type": "execute_result"
    }
   ],
   "source": [
    "len(test_data)"
   ]
  },
  {
   "cell_type": "code",
   "execution_count": null,
   "metadata": {},
   "outputs": [],
   "source": [
    "# Define the column names\n",
    "# columns = [\"name\", \"region\", \"summonerLevel\", \"tierRank\", \"wins\", \"losses\", \"veteran\", \"inactive\", \"freshBlood\", \"hotStreak\"\n",
    "#           , \"average_kills\", \"average_deaths\", \"average_assists\", \"average_gold_earned\"]\n",
    "\n",
    "# Create an empty dictionary with columns as keys and empty lists as values'\n",
    "\n",
    "train_data_stats = []\n",
    "for x in test_data:\n",
    "    temp = {}\n",
    "    summoner = x['name']\n",
    "    region = x['region']\n",
    "#     {'name': 'Spikal',\n",
    "#     'summonerLevel': 491,\n",
    "#     'tierRank': 'EMERALD IV',\n",
    "#     'wins': 98,\n",
    "#     'losses': 90,\n",
    "#     'veteran': False,\n",
    "#     'inactive': False,\n",
    "#     'freshBlood': False,\n",
    "#     'hotStreak': False}\n",
    "    summonerStats = karma.player_stats(region, summoner)\n",
    "    \n",
    "#     {'average_kills': 2.3,\n",
    "#          'average_deaths': 9.166666666666666,\n",
    "#          'average_assists': 14.533333333333333,\n",
    "#          'average_gold_earned': 8809.133333333333}\n",
    "    statsLastGames = karma.playerStatsLastGames(region, summoner, 0, 30)\n",
    "    temp = {'name': summonerStats['name'],\n",
    "        'region': region,\n",
    "        'summonerLevel': summonerStats['summonerLevel'],\n",
    "        'tierRank': summonerStats['tierRank'],\n",
    "         'wins': summonerStats['wins'],\n",
    "         'losses': summonerStats['losses'],\n",
    "         'veteran': summonerStats['veteran'],\n",
    "         'inactive': summonerStats['inactive'],\n",
    "         'freshBlood': summonerStats['freshBlood'],\n",
    "         'hotStreak': summonerStats['hotStreak'],\n",
    "         'average_kills': statsLastGames['average_kills'],\n",
    "         'average_deaths': statsLastGames['average_deaths'],\n",
    "         'average_assists': statsLastGames['average_assists'],\n",
    "         'average_gold_earned': statsLastGames['average_gold_earned']\n",
    "         }\n",
    "    train_data_stats.append(temp)"
   ]
  },
  {
   "cell_type": "code",
   "execution_count": 105,
   "metadata": {},
   "outputs": [
    {
     "data": {
      "text/plain": [
       "[{'name': 'Eos Dawn',\n",
       "  'region': 'na1',\n",
       "  'summonerLevel': 292,\n",
       "  'tierRank': 'IRON I',\n",
       "  'wins': 3,\n",
       "  'losses': 2,\n",
       "  'veteran': False,\n",
       "  'inactive': False,\n",
       "  'freshBlood': False,\n",
       "  'hotStreak': False,\n",
       "  'average_kills': 7.666666666666667,\n",
       "  'average_deaths': 7.3,\n",
       "  'average_assists': 17.466666666666665,\n",
       "  'average_gold_earned': 12519.833333333334},\n",
       " {'name': 'oh yas daddy XD',\n",
       "  'region': 'na1',\n",
       "  'summonerLevel': 123,\n",
       "  'tierRank': 'IRON I',\n",
       "  'wins': 15,\n",
       "  'losses': 15,\n",
       "  'veteran': False,\n",
       "  'inactive': False,\n",
       "  'freshBlood': False,\n",
       "  'hotStreak': False,\n",
       "  'average_kills': 7.366666666666666,\n",
       "  'average_deaths': 5.9,\n",
       "  'average_assists': 7.3,\n",
       "  'average_gold_earned': 12352.866666666667}]"
      ]
     },
     "execution_count": 105,
     "metadata": {},
     "output_type": "execute_result"
    }
   ],
   "source": [
    "train_data_stats"
   ]
  },
  {
   "cell_type": "code",
   "execution_count": null,
   "metadata": {},
   "outputs": [],
   "source": []
  }
 ],
 "metadata": {
  "colab": {
   "provenance": []
  },
  "kernelspec": {
   "display_name": "Python 3 (ipykernel)",
   "language": "python",
   "name": "python3"
  },
  "language_info": {
   "codemirror_mode": {
    "name": "ipython",
    "version": 3
   },
   "file_extension": ".py",
   "mimetype": "text/x-python",
   "name": "python",
   "nbconvert_exporter": "python",
   "pygments_lexer": "ipython3",
   "version": "3.11.5"
  }
 },
 "nbformat": 4,
 "nbformat_minor": 1
}
