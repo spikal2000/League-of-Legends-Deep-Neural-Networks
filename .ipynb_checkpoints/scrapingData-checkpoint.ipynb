{
 "cells": [
  {
   "cell_type": "code",
   "execution_count": 1,
   "metadata": {
    "id": "PVjMc52GTKYA"
   },
   "outputs": [
    {
     "name": "stdout",
     "output_type": "stream",
     "text": [
      "Collecting riotwatcher\n",
      "  Obtaining dependency information for riotwatcher from https://files.pythonhosted.org/packages/51/c6/19247500dd0e80922b6622162f353330fe2e9da7c40aa2834378f5c7f2f7/riotwatcher-3.2.5-py3-none-any.whl.metadata\n",
      "  Downloading riotwatcher-3.2.5-py3-none-any.whl.metadata (16 kB)\n",
      "Requirement already satisfied: requests in c:\\users\\spika\\anaconda3\\lib\\site-packages (from riotwatcher) (2.31.0)\n",
      "Requirement already satisfied: charset-normalizer<4,>=2 in c:\\users\\spika\\anaconda3\\lib\\site-packages (from requests->riotwatcher) (2.0.4)\n",
      "Requirement already satisfied: idna<4,>=2.5 in c:\\users\\spika\\anaconda3\\lib\\site-packages (from requests->riotwatcher) (3.4)\n",
      "Requirement already satisfied: urllib3<3,>=1.21.1 in c:\\users\\spika\\anaconda3\\lib\\site-packages (from requests->riotwatcher) (1.26.16)\n",
      "Requirement already satisfied: certifi>=2017.4.17 in c:\\users\\spika\\anaconda3\\lib\\site-packages (from requests->riotwatcher) (2023.7.22)\n",
      "Downloading riotwatcher-3.2.5-py3-none-any.whl (59 kB)\n",
      "   ---------------------------------------- 0.0/59.2 kB ? eta -:--:--\n",
      "   ------ --------------------------------- 10.2/59.2 kB ? eta -:--:--\n",
      "   ---------------------------------------- 59.2/59.2 kB 777.0 kB/s eta 0:00:00\n",
      "Installing collected packages: riotwatcher\n",
      "Successfully installed riotwatcher-3.2.5\n"
     ]
    }
   ],
   "source": [
    "!pip install riotwatcher"
   ]
  },
  {
   "cell_type": "code",
   "execution_count": 2,
   "metadata": {
    "id": "HYleC2m4TWXX"
   },
   "outputs": [],
   "source": [
    "from riotwatcher import LolWatcher, ApiError\n",
    "import pandas as pd"
   ]
  },
  {
   "cell_type": "code",
   "execution_count": 3,
   "metadata": {
    "id": "R8AU0XbXRsUB"
   },
   "outputs": [],
   "source": [
    " TIERS = [\"IRON\", \"SILVER\", \"GOLD\", \"PLATINUM\", \"DIAMOND\"]\n",
    "RANKS = [\"I\", \"II\", \"III\", \"IV\"]\n",
    "REGIONS = [\"eun1\"]\n",
    "PAGES = [1]"
   ]
  },
  {
   "cell_type": "code",
   "execution_count": 4,
   "metadata": {
    "id": "5T7vcg142lkD"
   },
   "outputs": [],
   "source": [
    "class Karma:\n",
    "  def __init__(self, API_KEY):\n",
    "    self.API_KEY = API_KEY\n",
    "    self.lol_watcher = LolWatcher(API_KEY)\n",
    "\n",
    "  def player_stats(self, region, summoner):\n",
    "    player = self.lol_watcher.summoner.by_name(region, summoner)\n",
    "    ranked_stats = self.lol_watcher.league.by_summoner(region, player['id'])\n",
    "    columns = [\n",
    "        \"name\",\n",
    "        \"summonerLevel\",\n",
    "        \"tierRank\",\n",
    "        \"wins\",\n",
    "        \"losses\",\n",
    "        \"veteran\",\n",
    "        \"inactive\",\n",
    "        \"freshBlood\",\n",
    "        \"hotStreak\"\n",
    "    ]\n",
    "\n",
    "    data = {}\n",
    "    # player = lol_watcher.summoner.by_name('eun1', 'spikal')\n",
    "    data['name'] = player['name']\n",
    "    data['summonerLevel'] = player['summonerLevel']\n",
    "    if len(ranked_stats) > 0:\n",
    "      for i in range(0,len(ranked_stats)):\n",
    "        if 'RANKED_SOLO_5x5' in ranked_stats[i]['queueType']:\n",
    "          if 'tier' in ranked_stats[i] and 'rank' in ranked_stats[i]:\n",
    "            t = ranked_stats[i]['tier'] + ' ' + ranked_stats[i]['rank']\n",
    "            data['tierRank'] = t\n",
    "          else:\n",
    "            data['tierRank'] = None\n",
    "\n",
    "          if 'wins' in ranked_stats[i]:\n",
    "            t = ranked_stats[i]['wins']\n",
    "            data['wins'] = t\n",
    "          else:\n",
    "            data['wins'] = None\n",
    "\n",
    "          if 'losses' in ranked_stats[i]:\n",
    "            t = ranked_stats[i]['losses']\n",
    "            data['losses'] = t\n",
    "          else:\n",
    "            data['losses'] = None\n",
    "\n",
    "          if 'veteran' in ranked_stats[i]:\n",
    "            t = ranked_stats[i]['veteran']\n",
    "            data['veteran'] = t\n",
    "          else:\n",
    "            data['veteran'] = None\n",
    "\n",
    "          if 'inactive' in ranked_stats[i]:\n",
    "            t = ranked_stats[i]['inactive']\n",
    "            data['inactive'] = t\n",
    "          else:\n",
    "            data['inactive'] = None\n",
    "\n",
    "          if 'freshBlood' in ranked_stats[i]:\n",
    "            t = ranked_stats[i]['freshBlood']\n",
    "            data['freshBlood'] = t\n",
    "          else:\n",
    "            data['freshBlood'] = None\n",
    "\n",
    "          if 'hotStreak' in ranked_stats[i]:\n",
    "            t = ranked_stats[i]['hotStreak']\n",
    "            data['hotStreak'] = t\n",
    "          else:\n",
    "            data['hotStreak'] = None\n",
    "    else:\n",
    "      data['tierRank'] = None\n",
    "      data['wins'] = None\n",
    "      data['losses'] = None\n",
    "      data['veteran'] = None\n",
    "      data['inactive'] = None\n",
    "      data['freshBlood'] = None\n",
    "      data['hotStreak'] = None\n",
    "    return data"
   ]
  },
  {
   "cell_type": "code",
   "execution_count": 5,
   "metadata": {
    "id": "iyirrixf3epu"
   },
   "outputs": [],
   "source": [
    "api_key= \"RGAPI-c7cf2424-731f-4a9a-8f1f-f6985e62dac3\"\n",
    "\n",
    "karma = Karma(api_key)\n",
    "data = karma.player_stats(region = 'eun1', summoner='spikal')"
   ]
  },
  {
   "cell_type": "code",
   "execution_count": 22,
   "metadata": {
    "colab": {
     "base_uri": "https://localhost:8080/",
     "height": 141
    },
    "id": "1LeF5xQ4lep9",
    "outputId": "dc41df33-0491-48d9-e0c3-dbae2c5fbd33"
   },
   "outputs": [
    {
     "data": {
      "text/plain": [
       "['EUN1_3463635785',\n",
       " 'EUN1_3463243967',\n",
       " 'EUN1_3463169589',\n",
       " 'EUN1_3462789306',\n",
       " 'EUN1_3462630649',\n",
       " 'EUN1_3462571739',\n",
       " 'EUN1_3462522546',\n",
       " 'EUN1_3462435066',\n",
       " 'EUN1_3462196903',\n",
       " 'EUN1_3462172538',\n",
       " 'EUN1_3462004284',\n",
       " 'EUN1_3461942680',\n",
       " 'EUN1_3461920054',\n",
       " 'EUN1_3461669602',\n",
       " 'EUN1_3461626608',\n",
       " 'EUN1_3461600073',\n",
       " 'EUN1_3461261197',\n",
       " 'EUN1_3461243050',\n",
       " 'EUN1_3460529012',\n",
       " 'EUN1_3460515984',\n",
       " 'EUN1_3459823858',\n",
       " 'EUN1_3459813934',\n",
       " 'EUN1_3459795918',\n",
       " 'EUN1_3459632006',\n",
       " 'EUN1_3459592680',\n",
       " 'EUN1_3459553877',\n",
       " 'EUN1_3459525974',\n",
       " 'EUN1_3459407532',\n",
       " 'EUN1_3459386239']"
      ]
     },
     "execution_count": 22,
     "metadata": {},
     "output_type": "execute_result"
    }
   ],
   "source": [
    "# def playerStatsLastGames():\n",
    "#______INIT\n",
    "API_KEY = api_key\n",
    "lol_watcher = LolWatcher(API_KEY)\n",
    "#______________\n",
    "summoner = 'spikal'\n",
    "region = 'eun1'\n",
    "player = lol_watcher.summoner.by_name(region, summoner)\n",
    "player_puuid = player['puuid']\n",
    "\n",
    "#Fetch recent matchList with Pagination\n",
    "matchlist=[]\n",
    "start_index = 0\n",
    "end_index = 29\n",
    "lol_watcher.match.matchlist_by_puuid(region, player_puuid, start_index, end_index)\n",
    "\n",
    "    \n"
   ]
  },
  {
   "cell_type": "code",
   "execution_count": 20,
   "metadata": {
    "id": "SIdFO1Xx09vk"
   },
   "outputs": [
    {
     "name": "stdout",
     "output_type": "stream",
     "text": [
      "{'id': 'pby3gvb5C_QyuD6VAC1EMVu5X19tnl21ylTa3QfeBbSJxio', 'accountId': 'qWrWuzjVragW5lryQJ2M-WnH-gMD1uEhFF55hygiRFvy3A', 'puuid': 'wNoc692mgeDo45ZWkoJVLy3g6tveG9xtdhpNgjv5U5mFEIyVYAJ2GuRH1o-mcDShwqDbx0vBloagMg', 'name': 'Spikal', 'profileIconId': 2076, 'revisionDate': 1695987069897, 'summonerLevel': 491}\n"
     ]
    }
   ],
   "source": [
    "print(player)"
   ]
  },
  {
   "cell_type": "code",
   "execution_count": null,
   "metadata": {},
   "outputs": [],
   "source": []
  }
 ],
 "metadata": {
  "colab": {
   "provenance": []
  },
  "kernelspec": {
   "display_name": "Python 3 (ipykernel)",
   "language": "python",
   "name": "python3"
  },
  "language_info": {
   "codemirror_mode": {
    "name": "ipython",
    "version": 3
   },
   "file_extension": ".py",
   "mimetype": "text/x-python",
   "name": "python",
   "nbconvert_exporter": "python",
   "pygments_lexer": "ipython3",
   "version": "3.11.5"
  }
 },
 "nbformat": 4,
 "nbformat_minor": 1
}
