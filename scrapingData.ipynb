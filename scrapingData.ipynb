{
  "nbformat": 4,
  "nbformat_minor": 0,
  "metadata": {
    "colab": {
      "provenance": []
    },
    "kernelspec": {
      "name": "python3",
      "display_name": "Python 3"
    },
    "language_info": {
      "name": "python"
    }
  },
  "cells": [
    {
      "cell_type": "code",
      "source": [
        "!pip install riotwatcher"
      ],
      "metadata": {
        "id": "PVjMc52GTKYA"
      },
      "execution_count": null,
      "outputs": []
    },
    {
      "cell_type": "code",
      "source": [
        "from riotwatcher import LolWatcher, ApiError\n",
        "import pandas as pd"
      ],
      "metadata": {
        "id": "HYleC2m4TWXX"
      },
      "execution_count": 2,
      "outputs": []
    },
    {
      "cell_type": "code",
      "execution_count": 3,
      "metadata": {
        "id": "R8AU0XbXRsUB"
      },
      "outputs": [],
      "source": [
        "API_KEY = \"\"\n",
        "lol_watcher = LolWatcher(API_KEY)\n",
        "\n",
        "\n",
        "TIERS = [\"IRON\", \"SILVER\", \"GOLD\", \"PLATINUM\", \"DIAMOND\"]\n",
        "RANKS = [\"I\", \"II\", \"III\", \"IV\"]\n",
        "REGIONS = [\"eun1\"]\n",
        "PAGES = [1]"
      ]
    },
    {
      "cell_type": "code",
      "source": [
        "me = lol_watcher.summoner.by_name('eun1', 'spikal')"
      ],
      "metadata": {
        "id": "kT7551lFTRHL"
      },
      "execution_count": 4,
      "outputs": []
    },
    {
      "cell_type": "code",
      "source": [
        "me"
      ],
      "metadata": {
        "id": "mZsN8xt1kEez",
        "outputId": "abcb17ad-cbb7-4075-cee4-1e96105c3fac",
        "colab": {
          "base_uri": "https://localhost:8080/"
        }
      },
      "execution_count": 5,
      "outputs": [
        {
          "output_type": "execute_result",
          "data": {
            "text/plain": [
              "{'id': 'pby3gvb5C_QyuD6VAC1EMVu5X19tnl21ylTa3QfeBbSJxio',\n",
              " 'accountId': 'qWrWuzjVragW5lryQJ2M-WnH-gMD1uEhFF55hygiRFvy3A',\n",
              " 'puuid': 'wNoc692mgeDo45ZWkoJVLy3g6tveG9xtdhpNgjv5U5mFEIyVYAJ2GuRH1o-mcDShwqDbx0vBloagMg',\n",
              " 'name': 'Spikal',\n",
              " 'profileIconId': 2076,\n",
              " 'revisionDate': 1695843695626,\n",
              " 'summonerLevel': 491}"
            ]
          },
          "metadata": {},
          "execution_count": 5
        }
      ]
    },
    {
      "cell_type": "code",
      "source": [
        "memy_ranked_stats = lol_watcher.league.by_summoner('eun1', me['id'])"
      ],
      "metadata": {
        "id": "PxcfesrtTjnO"
      },
      "execution_count": 6,
      "outputs": []
    },
    {
      "cell_type": "code",
      "source": [
        "memy_ranked_stats"
      ],
      "metadata": {
        "colab": {
          "base_uri": "https://localhost:8080/"
        },
        "id": "ySQwNOjhTlKm",
        "outputId": "8e461ce9-a43b-4244-cabc-7c7b8944cab5"
      },
      "execution_count": 17,
      "outputs": [
        {
          "output_type": "execute_result",
          "data": {
            "text/plain": [
              "[{'leagueId': 'bfde4398-42ab-4b2a-a44f-df5b57282a16',\n",
              "  'queueType': 'RANKED_FLEX_SR',\n",
              "  'tier': 'SILVER',\n",
              "  'rank': 'II',\n",
              "  'summonerId': 'pby3gvb5C_QyuD6VAC1EMVu5X19tnl21ylTa3QfeBbSJxio',\n",
              "  'summonerName': 'Spikal',\n",
              "  'leaguePoints': 53,\n",
              "  'wins': 11,\n",
              "  'losses': 9,\n",
              "  'veteran': False,\n",
              "  'inactive': False,\n",
              "  'freshBlood': False,\n",
              "  'hotStreak': False},\n",
              " {'leagueId': '6b84601e-8dea-4da4-8d5f-5a18eca415d1',\n",
              "  'queueType': 'RANKED_SOLO_5x5',\n",
              "  'tier': 'EMERALD',\n",
              "  'rank': 'IV',\n",
              "  'summonerId': 'pby3gvb5C_QyuD6VAC1EMVu5X19tnl21ylTa3QfeBbSJxio',\n",
              "  'summonerName': 'Spikal',\n",
              "  'leaguePoints': 40,\n",
              "  'wins': 97,\n",
              "  'losses': 88,\n",
              "  'veteran': False,\n",
              "  'inactive': False,\n",
              "  'freshBlood': True,\n",
              "  'hotStreak': False}]"
            ]
          },
          "metadata": {},
          "execution_count": 17
        }
      ]
    },
    {
      "cell_type": "code",
      "source": [],
      "metadata": {
        "id": "5hTJho1a1eup"
      },
      "execution_count": null,
      "outputs": []
    }
  ]
}