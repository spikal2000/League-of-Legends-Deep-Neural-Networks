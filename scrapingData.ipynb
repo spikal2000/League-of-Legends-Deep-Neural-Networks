{
  "nbformat": 4,
  "nbformat_minor": 0,
  "metadata": {
    "colab": {
      "provenance": []
    },
    "kernelspec": {
      "name": "python3",
      "display_name": "Python 3"
    },
    "language_info": {
      "name": "python"
    }
  },
  "cells": [
    {
      "cell_type": "code",
      "source": [
        "!pip install riotwatcher"
      ],
      "metadata": {
        "id": "PVjMc52GTKYA"
      },
      "execution_count": null,
      "outputs": []
    },
    {
      "cell_type": "code",
      "source": [
        "from riotwatcher import LolWatcher, ApiError\n",
        "import pandas as pd"
      ],
      "metadata": {
        "id": "HYleC2m4TWXX"
      },
      "execution_count": 2,
      "outputs": []
    },
    {
      "cell_type": "code",
      "execution_count": 3,
      "metadata": {
        "id": "R8AU0XbXRsUB"
      },
      "outputs": [],
      "source": [
        "API_KEY = \"RGAPI-c7cf2424-731f-4a9a-8f1f-f6985e62dac3\"\n",
        "lol_watcher = LolWatcher(API_KEY)\n",
        "\n",
        "\n",
        "TIERS = [\"IRON\", \"SILVER\", \"GOLD\", \"PLATINUM\", \"DIAMOND\"]\n",
        "RANKS = [\"I\", \"II\", \"III\", \"IV\"]\n",
        "REGIONS = [\"eun1\"]\n",
        "PAGES = [1]"
      ]
    },
    {
      "cell_type": "code",
      "source": [
        "player = lol_watcher.summoner.by_name('eun1', 'spikal')"
      ],
      "metadata": {
        "id": "kT7551lFTRHL"
      },
      "execution_count": 20,
      "outputs": []
    },
    {
      "cell_type": "code",
      "source": [
        "player"
      ],
      "metadata": {
        "colab": {
          "base_uri": "https://localhost:8080/"
        },
        "id": "mZsN8xt1kEez",
        "outputId": "3b2a8e6a-878a-4cae-cb0c-687e619c970b"
      },
      "execution_count": 21,
      "outputs": [
        {
          "output_type": "execute_result",
          "data": {
            "text/plain": [
              "{'id': 'pby3gvb5C_QyuD6VAC1EMVu5X19tnl21ylTa3QfeBbSJxio',\n",
              " 'accountId': 'qWrWuzjVragW5lryQJ2M-WnH-gMD1uEhFF55hygiRFvy3A',\n",
              " 'puuid': 'wNoc692mgeDo45ZWkoJVLy3g6tveG9xtdhpNgjv5U5mFEIyVYAJ2GuRH1o-mcDShwqDbx0vBloagMg',\n",
              " 'name': 'Spikal',\n",
              " 'profileIconId': 2076,\n",
              " 'revisionDate': 1695843695626,\n",
              " 'summonerLevel': 491}"
            ]
          },
          "metadata": {},
          "execution_count": 21
        }
      ]
    },
    {
      "cell_type": "code",
      "source": [
        "ranked_stats = lol_watcher.league.by_summoner('eun1', player['id'])"
      ],
      "metadata": {
        "id": "PxcfesrtTjnO"
      },
      "execution_count": 26,
      "outputs": []
    },
    {
      "cell_type": "code",
      "source": [
        "ranked_stats"
      ],
      "metadata": {
        "colab": {
          "base_uri": "https://localhost:8080/"
        },
        "id": "ySQwNOjhTlKm",
        "outputId": "14a9b35c-c2cc-4da3-a540-b230eb790325"
      },
      "execution_count": 28,
      "outputs": [
        {
          "output_type": "execute_result",
          "data": {
            "text/plain": [
              "[{'leagueId': 'bfde4398-42ab-4b2a-a44f-df5b57282a16',\n",
              "  'queueType': 'RANKED_FLEX_SR',\n",
              "  'tier': 'SILVER',\n",
              "  'rank': 'II',\n",
              "  'summonerId': 'pby3gvb5C_QyuD6VAC1EMVu5X19tnl21ylTa3QfeBbSJxio',\n",
              "  'summonerName': 'Spikal',\n",
              "  'leaguePoints': 53,\n",
              "  'wins': 11,\n",
              "  'losses': 9,\n",
              "  'veteran': False,\n",
              "  'inactive': False,\n",
              "  'freshBlood': False,\n",
              "  'hotStreak': False},\n",
              " {'leagueId': '6b84601e-8dea-4da4-8d5f-5a18eca415d1',\n",
              "  'queueType': 'RANKED_SOLO_5x5',\n",
              "  'tier': 'EMERALD',\n",
              "  'rank': 'IV',\n",
              "  'summonerId': 'pby3gvb5C_QyuD6VAC1EMVu5X19tnl21ylTa3QfeBbSJxio',\n",
              "  'summonerName': 'Spikal',\n",
              "  'leaguePoints': 40,\n",
              "  'wins': 97,\n",
              "  'losses': 88,\n",
              "  'veteran': False,\n",
              "  'inactive': False,\n",
              "  'freshBlood': True,\n",
              "  'hotStreak': False}]"
            ]
          },
          "metadata": {},
          "execution_count": 28
        }
      ]
    },
    {
      "cell_type": "code",
      "source": [
        "columns = [\n",
        "    \"name\",\n",
        "    \"summonerLevel\",\n",
        "    \"tierRank\",\n",
        "    \"wins\",\n",
        "    \"losses\",\n",
        "    \"veteran\",\n",
        "    \"inactive\",\n",
        "    \"freshBlood\",\n",
        "    \"hotStreak\"\n",
        "]"
      ],
      "metadata": {
        "id": "5hTJho1a1eup"
      },
      "execution_count": 48,
      "outputs": []
    },
    {
      "cell_type": "code",
      "source": [
        "data = {}\n",
        "player = lol_watcher.summoner.by_name('eun1', 'spikal')\n",
        "data['name'] = player['name']\n",
        "data['summonerLevel'] = player['summonerLevel']\n",
        "if len(ranked_stats) > 0:\n",
        "  for i in range(0,len(ranked_stats)):\n",
        "    if 'RANKED_SOLO_5x5' in ranked_stats[i]['queueType']:\n",
        "      if 'tier' in ranked_stats[i] and 'rank' in ranked_stats[i]:\n",
        "        t = ranked_stats[i]['tier'] + ' ' + ranked_stats[i]['rank']\n",
        "        data['tierRank'] = t\n",
        "      else:\n",
        "        data['tierRank'] = None\n",
        "\n",
        "      if 'wins' in ranked_stats[i]:\n",
        "        t = ranked_stats[i]['wins']\n",
        "        data['wins'] = t\n",
        "      else:\n",
        "        data['wins'] = None\n",
        "\n",
        "      if 'losses' in ranked_stats[i]:\n",
        "        t = ranked_stats[i]['losses']\n",
        "        data['losses'] = t\n",
        "      else:\n",
        "        data['losses'] = None\n",
        "\n",
        "      if 'veteran' in ranked_stats[i]:\n",
        "        t = ranked_stats[i]['veteran']\n",
        "        data['veteran'] = t\n",
        "      else:\n",
        "        data['veteran'] = None\n",
        "\n",
        "      if 'inactive' in ranked_stats[i]:\n",
        "        t = ranked_stats[i]['inactive']\n",
        "        data['inactive'] = t\n",
        "      else:\n",
        "        data['inactive'] = None\n",
        "\n",
        "      if 'freshBlood' in ranked_stats[i]:\n",
        "        t = ranked_stats[i]['freshBlood']\n",
        "        data['freshBlood'] = t\n",
        "      else:\n",
        "        data['freshBlood'] = None\n",
        "\n",
        "      if 'hotStreak' in ranked_stats[i]:\n",
        "        t = ranked_stats[i]['hotStreak']\n",
        "        data['hotStreak'] = t\n",
        "      else:\n",
        "        data['hotStreak'] = None\n",
        "    else:\n",
        "      data['tierRank'] = None\n",
        "      data['wins'] = None\n",
        "      data['losses'] = None\n",
        "      data['veteran'] = None\n",
        "      data['inactive'] = None\n",
        "      data['freshBlood'] = None\n",
        "      data['hotStreak'] = None"
      ],
      "metadata": {
        "id": "5T7vcg142lkD"
      },
      "execution_count": 49,
      "outputs": []
    },
    {
      "cell_type": "code",
      "source": [
        "data\n"
      ],
      "metadata": {
        "id": "iyirrixf3epu",
        "outputId": "5c57001d-7f22-4d60-9d72-f2cec00ae09c",
        "colab": {
          "base_uri": "https://localhost:8080/"
        }
      },
      "execution_count": 50,
      "outputs": [
        {
          "output_type": "execute_result",
          "data": {
            "text/plain": [
              "{'name': 'Spikal',\n",
              " 'summonerLevel': 491,\n",
              " 'tierRank': 'EMERALD IV',\n",
              " 'wins': 97,\n",
              " 'losses': 88,\n",
              " 'veteran': False,\n",
              " 'inactive': False,\n",
              " 'freshBlood': True,\n",
              " 'hotStreak': False}"
            ]
          },
          "metadata": {},
          "execution_count": 50
        }
      ]
    },
    {
      "cell_type": "code",
      "source": [],
      "metadata": {
        "id": "1LeF5xQ4lep9"
      },
      "execution_count": null,
      "outputs": []
    }
  ]
}