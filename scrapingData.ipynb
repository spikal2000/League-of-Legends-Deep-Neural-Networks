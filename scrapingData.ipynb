{
  "nbformat": 4,
  "nbformat_minor": 0,
  "metadata": {
    "colab": {
      "provenance": []
    },
    "kernelspec": {
      "name": "python3",
      "display_name": "Python 3"
    },
    "language_info": {
      "name": "python"
    }
  },
  "cells": [
    {
      "cell_type": "code",
      "source": [
        "!pip install riotwatcher"
      ],
      "metadata": {
        "id": "PVjMc52GTKYA"
      },
      "execution_count": null,
      "outputs": []
    },
    {
      "cell_type": "code",
      "source": [
        "from riotwatcher import LolWatcher, ApiError\n",
        "import pandas as pd"
      ],
      "metadata": {
        "id": "HYleC2m4TWXX"
      },
      "execution_count": 2,
      "outputs": []
    },
    {
      "cell_type": "code",
      "execution_count": 58,
      "metadata": {
        "id": "R8AU0XbXRsUB"
      },
      "outputs": [],
      "source": [
        "\n",
        "\n",
        "\n",
        "TIERS = [\"IRON\", \"SILVER\", \"GOLD\", \"PLATINUM\", \"DIAMOND\"]\n",
        "RANKS = [\"I\", \"II\", \"III\", \"IV\"]\n",
        "REGIONS = [\"eun1\"]\n",
        "PAGES = [1]"
      ]
    },
    {
      "cell_type": "code",
      "source": [
        "def player_stats(region = 'eun1', summoner='spikal', API_KEY=\"RGAPI-c7cf2424-731f-4a9a-8f1f-f6985e62dac3\"):\n",
        "  lol_watcher = LolWatcher(API_KEY)\n",
        "  player = lol_watcher.summoner.by_name(region, summoner)\n",
        "  ranked_stats = lol_watcher.league.by_summoner(region, player['id'])\n",
        "  columns = [\n",
        "      \"name\",\n",
        "      \"summonerLevel\",\n",
        "      \"tierRank\",\n",
        "      \"wins\",\n",
        "      \"losses\",\n",
        "      \"veteran\",\n",
        "      \"inactive\",\n",
        "      \"freshBlood\",\n",
        "      \"hotStreak\"\n",
        "  ]\n",
        "\n",
        "  data = {}\n",
        "  # player = lol_watcher.summoner.by_name('eun1', 'spikal')\n",
        "  data['name'] = player['name']\n",
        "  data['summonerLevel'] = player['summonerLevel']\n",
        "  if len(ranked_stats) > 0:\n",
        "    for i in range(0,len(ranked_stats)):\n",
        "      if 'RANKED_SOLO_5x5' in ranked_stats[i]['queueType']:\n",
        "        if 'tier' in ranked_stats[i] and 'rank' in ranked_stats[i]:\n",
        "          t = ranked_stats[i]['tier'] + ' ' + ranked_stats[i]['rank']\n",
        "          data['tierRank'] = t\n",
        "        else:\n",
        "          data['tierRank'] = None\n",
        "\n",
        "        if 'wins' in ranked_stats[i]:\n",
        "          t = ranked_stats[i]['wins']\n",
        "          data['wins'] = t\n",
        "        else:\n",
        "          data['wins'] = None\n",
        "\n",
        "        if 'losses' in ranked_stats[i]:\n",
        "          t = ranked_stats[i]['losses']\n",
        "          data['losses'] = t\n",
        "        else:\n",
        "          data['losses'] = None\n",
        "\n",
        "        if 'veteran' in ranked_stats[i]:\n",
        "          t = ranked_stats[i]['veteran']\n",
        "          data['veteran'] = t\n",
        "        else:\n",
        "          data['veteran'] = None\n",
        "\n",
        "        if 'inactive' in ranked_stats[i]:\n",
        "          t = ranked_stats[i]['inactive']\n",
        "          data['inactive'] = t\n",
        "        else:\n",
        "          data['inactive'] = None\n",
        "\n",
        "        if 'freshBlood' in ranked_stats[i]:\n",
        "          t = ranked_stats[i]['freshBlood']\n",
        "          data['freshBlood'] = t\n",
        "        else:\n",
        "          data['freshBlood'] = None\n",
        "\n",
        "        if 'hotStreak' in ranked_stats[i]:\n",
        "          t = ranked_stats[i]['hotStreak']\n",
        "          data['hotStreak'] = t\n",
        "        else:\n",
        "          data['hotStreak'] = None\n",
        "  else:\n",
        "    data['tierRank'] = None\n",
        "    data['wins'] = None\n",
        "    data['losses'] = None\n",
        "    data['veteran'] = None\n",
        "    data['inactive'] = None\n",
        "    data['freshBlood'] = None\n",
        "    data['hotStreak'] = None\n",
        "  return data"
      ],
      "metadata": {
        "id": "5T7vcg142lkD"
      },
      "execution_count": 79,
      "outputs": []
    },
    {
      "cell_type": "code",
      "source": [
        "player_stats()"
      ],
      "metadata": {
        "colab": {
          "base_uri": "https://localhost:8080/"
        },
        "id": "iyirrixf3epu",
        "outputId": "7ed318b9-7c6c-4e4c-a2da-7715de0a852f"
      },
      "execution_count": 80,
      "outputs": [
        {
          "output_type": "execute_result",
          "data": {
            "text/plain": [
              "{'name': 'Spikal',\n",
              " 'summonerLevel': 491,\n",
              " 'tierRank': 'EMERALD IV',\n",
              " 'wins': 97,\n",
              " 'losses': 88,\n",
              " 'veteran': False,\n",
              " 'inactive': False,\n",
              " 'freshBlood': True,\n",
              " 'hotStreak': False}"
            ]
          },
          "metadata": {},
          "execution_count": 80
        }
      ]
    },
    {
      "cell_type": "code",
      "source": [],
      "metadata": {
        "id": "1LeF5xQ4lep9"
      },
      "execution_count": null,
      "outputs": []
    }
  ]
}