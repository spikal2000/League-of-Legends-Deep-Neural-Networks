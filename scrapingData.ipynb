{
  "nbformat": 4,
  "nbformat_minor": 0,
  "metadata": {
    "colab": {
      "provenance": []
    },
    "kernelspec": {
      "name": "python3",
      "display_name": "Python 3"
    },
    "language_info": {
      "name": "python"
    }
  },
  "cells": [
    {
      "cell_type": "code",
      "source": [
        "!pip install riotwatcher"
      ],
      "metadata": {
        "id": "PVjMc52GTKYA"
      },
      "execution_count": null,
      "outputs": []
    },
    {
      "cell_type": "code",
      "source": [
        "from riotwatcher import LolWatcher, ApiError\n",
        "import pandas as pd"
      ],
      "metadata": {
        "id": "HYleC2m4TWXX"
      },
      "execution_count": 2,
      "outputs": []
    },
    {
      "cell_type": "code",
      "execution_count": 58,
      "metadata": {
        "id": "R8AU0XbXRsUB"
      },
      "outputs": [],
      "source": [
        "API_KEY = \"RGAPI-c7cf2424-731f-4a9a-8f1f-f6985e62dac3\"\n",
        "lol_watcher = LolWatcher(API_KEY)\n",
        "\n",
        "\n",
        "TIERS = [\"IRON\", \"SILVER\", \"GOLD\", \"PLATINUM\", \"DIAMOND\"]\n",
        "RANKS = [\"I\", \"II\", \"III\", \"IV\"]\n",
        "REGIONS = [\"eun1\"]\n",
        "PAGES = [1]"
      ]
    },
    {
      "cell_type": "code",
      "source": [
        "player = lol_watcher.summoner.by_name('eun1', 'taehyungbottoms')"
      ],
      "metadata": {
        "id": "kT7551lFTRHL"
      },
      "execution_count": 59,
      "outputs": []
    },
    {
      "cell_type": "code",
      "source": [
        "player"
      ],
      "metadata": {
        "colab": {
          "base_uri": "https://localhost:8080/"
        },
        "id": "mZsN8xt1kEez",
        "outputId": "abc785f8-ba98-45d6-a5dd-8af201df0f23"
      },
      "execution_count": 60,
      "outputs": [
        {
          "output_type": "execute_result",
          "data": {
            "text/plain": [
              "{'id': 'UyY4PU4F8nlC6um4bcKbcIjNJccLlbV7MH5DWI1GHW5ybzw',\n",
              " 'accountId': '-Klgb4_SGuh085cjal9Ah_auxVKRig857l_U0H7hdReKiti4Q32UdjBE',\n",
              " 'puuid': 'B4hSeGmRWzewpWhcz9cFdWYFsS21kIb0ZLB30JXAb2qPAu7aPHVy97WUrMDcSzvhTT2XrOgfxckN5g',\n",
              " 'name': 'taehyungbottoms',\n",
              " 'profileIconId': 5750,\n",
              " 'revisionDate': 1695834086000,\n",
              " 'summonerLevel': 95}"
            ]
          },
          "metadata": {},
          "execution_count": 60
        }
      ]
    },
    {
      "cell_type": "code",
      "source": [
        "ranked_stats = lol_watcher.league.by_summoner('eun1', player['id'])"
      ],
      "metadata": {
        "id": "PxcfesrtTjnO"
      },
      "execution_count": 61,
      "outputs": []
    },
    {
      "cell_type": "code",
      "source": [
        "ranked_stats"
      ],
      "metadata": {
        "colab": {
          "base_uri": "https://localhost:8080/"
        },
        "id": "ySQwNOjhTlKm",
        "outputId": "26a7570f-b5fe-40f0-d28d-a76fe3f8370a"
      },
      "execution_count": 62,
      "outputs": [
        {
          "output_type": "execute_result",
          "data": {
            "text/plain": [
              "[]"
            ]
          },
          "metadata": {},
          "execution_count": 62
        }
      ]
    },
    {
      "cell_type": "code",
      "source": [
        "columns = [\n",
        "    \"name\",\n",
        "    \"summonerLevel\",\n",
        "    \"tierRank\",\n",
        "    \"wins\",\n",
        "    \"losses\",\n",
        "    \"veteran\",\n",
        "    \"inactive\",\n",
        "    \"freshBlood\",\n",
        "    \"hotStreak\"\n",
        "]"
      ],
      "metadata": {
        "id": "5hTJho1a1eup"
      },
      "execution_count": 68,
      "outputs": []
    },
    {
      "cell_type": "code",
      "source": [
        "data = {}\n",
        "# player = lol_watcher.summoner.by_name('eun1', 'spikal')\n",
        "data['name'] = player['name']\n",
        "data['summonerLevel'] = player['summonerLevel']\n",
        "if len(ranked_stats) > 0:\n",
        "  for i in range(0,len(ranked_stats)):\n",
        "    if 'RANKED_SOLO_5x5' in ranked_stats[i]['queueType']:\n",
        "      if 'tier' in ranked_stats[i] and 'rank' in ranked_stats[i]:\n",
        "        t = ranked_stats[i]['tier'] + ' ' + ranked_stats[i]['rank']\n",
        "        data['tierRank'] = t\n",
        "      else:\n",
        "        data['tierRank'] = None\n",
        "\n",
        "      if 'wins' in ranked_stats[i]:\n",
        "        t = ranked_stats[i]['wins']\n",
        "        data['wins'] = t\n",
        "      else:\n",
        "        data['wins'] = None\n",
        "\n",
        "      if 'losses' in ranked_stats[i]:\n",
        "        t = ranked_stats[i]['losses']\n",
        "        data['losses'] = t\n",
        "      else:\n",
        "        data['losses'] = None\n",
        "\n",
        "      if 'veteran' in ranked_stats[i]:\n",
        "        t = ranked_stats[i]['veteran']\n",
        "        data['veteran'] = t\n",
        "      else:\n",
        "        data['veteran'] = None\n",
        "\n",
        "      if 'inactive' in ranked_stats[i]:\n",
        "        t = ranked_stats[i]['inactive']\n",
        "        data['inactive'] = t\n",
        "      else:\n",
        "        data['inactive'] = None\n",
        "\n",
        "      if 'freshBlood' in ranked_stats[i]:\n",
        "        t = ranked_stats[i]['freshBlood']\n",
        "        data['freshBlood'] = t\n",
        "      else:\n",
        "        data['freshBlood'] = None\n",
        "\n",
        "      if 'hotStreak' in ranked_stats[i]:\n",
        "        t = ranked_stats[i]['hotStreak']\n",
        "        data['hotStreak'] = t\n",
        "      else:\n",
        "        data['hotStreak'] = None\n",
        "else:\n",
        "  data['tierRank'] = None\n",
        "  data['wins'] = None\n",
        "  data['losses'] = None\n",
        "  data['veteran'] = None\n",
        "  data['inactive'] = None\n",
        "  data['freshBlood'] = None\n",
        "  data['hotStreak'] = None"
      ],
      "metadata": {
        "id": "5T7vcg142lkD"
      },
      "execution_count": 75,
      "outputs": []
    },
    {
      "cell_type": "code",
      "source": [
        "data\n"
      ],
      "metadata": {
        "colab": {
          "base_uri": "https://localhost:8080/"
        },
        "id": "iyirrixf3epu",
        "outputId": "ccf8b1db-fda4-439f-f012-8497731e7be6"
      },
      "execution_count": 76,
      "outputs": [
        {
          "output_type": "execute_result",
          "data": {
            "text/plain": [
              "{'name': 'taehyungbottoms',\n",
              " 'summonerLevel': 95,\n",
              " 'tierRank': None,\n",
              " 'wins': None,\n",
              " 'losses': None,\n",
              " 'veteran': None,\n",
              " 'inactive': None,\n",
              " 'freshBlood': None,\n",
              " 'hotStreak': None}"
            ]
          },
          "metadata": {},
          "execution_count": 76
        }
      ]
    },
    {
      "cell_type": "code",
      "source": [],
      "metadata": {
        "id": "1LeF5xQ4lep9"
      },
      "execution_count": null,
      "outputs": []
    }
  ]
}