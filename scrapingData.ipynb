{
 "cells": [
  {
   "cell_type": "code",
   "execution_count": 25,
   "metadata": {
    "id": "PVjMc52GTKYA"
   },
   "outputs": [
    {
     "name": "stdout",
     "output_type": "stream",
     "text": [
      "Requirement already satisfied: riotwatcher in c:\\users\\spika\\anaconda3\\lib\\site-packages (3.2.5)\n",
      "Requirement already satisfied: requests in c:\\users\\spika\\anaconda3\\lib\\site-packages (from riotwatcher) (2.31.0)\n",
      "Requirement already satisfied: charset-normalizer<4,>=2 in c:\\users\\spika\\anaconda3\\lib\\site-packages (from requests->riotwatcher) (2.0.4)\n",
      "Requirement already satisfied: idna<4,>=2.5 in c:\\users\\spika\\anaconda3\\lib\\site-packages (from requests->riotwatcher) (3.4)\n",
      "Requirement already satisfied: urllib3<3,>=1.21.1 in c:\\users\\spika\\anaconda3\\lib\\site-packages (from requests->riotwatcher) (1.26.16)\n",
      "Requirement already satisfied: certifi>=2017.4.17 in c:\\users\\spika\\anaconda3\\lib\\site-packages (from requests->riotwatcher) (2023.7.22)\n"
     ]
    }
   ],
   "source": [
    "!pip install riotwatcher"
   ]
  },
  {
   "cell_type": "code",
   "execution_count": 26,
   "metadata": {
    "id": "HYleC2m4TWXX"
   },
   "outputs": [],
   "source": [
    "from riotwatcher import LolWatcher, ApiError\n",
    "import pandas as pd\n",
    "import random\n",
    "import time\n",
    "import requests.exceptions\n"
   ]
  },
  {
   "cell_type": "code",
   "execution_count": 27,
   "metadata": {
    "id": "R8AU0XbXRsUB"
   },
   "outputs": [],
   "source": [
    " TIERS = [\"IRON\", \"SILVER\", \"GOLD\", \"PLATINUM\", \"DIAMOND\"]\n",
    "RANKS = [\"I\", \"II\", \"III\", \"IV\"]\n",
    "REGIONS = [\"eun1\"]\n",
    "PAGES = [1]"
   ]
  },
  {
   "cell_type": "code",
   "execution_count": 31,
   "metadata": {
    "id": "5T7vcg142lkD"
   },
   "outputs": [],
   "source": [
    "class Karma:\n",
    "    def __init__(self, API_KEY):\n",
    "        self.API_KEY = API_KEY\n",
    "        self.lol_watcher = LolWatcher(API_KEY)\n",
    "\n",
    "    def player_stats(self, region, summoner):\n",
    "        \"\"\"\n",
    "        {'name': 'Spikal',\n",
    "        'summonerLevel': 491,\n",
    "        'tierRank': 'EMERALD IV',\n",
    "        'wins': 98,\n",
    "        'losses': 90,\n",
    "        'veteran': False,\n",
    "        'inactive': False,\n",
    "        'freshBlood': False,\n",
    "        'hotStreak': False}\n",
    "        \"\"\"\n",
    "        player = self.lol_watcher.summoner.by_name(region, summoner)\n",
    "        ranked_stats = self.lol_watcher.league.by_summoner(region, player['id'])\n",
    "        columns = [\n",
    "            \"name\",\n",
    "            \"summonerLevel\",\n",
    "            \"tierRank\",\n",
    "            \"wins\",\n",
    "            \"losses\",\n",
    "            \"veteran\",\n",
    "            \"inactive\",\n",
    "            \"freshBlood\",\n",
    "            \"hotStreak\"\n",
    "        ]\n",
    "\n",
    "        data = {}\n",
    "        data['name'] = player['name']\n",
    "        data['summonerLevel'] = player['summonerLevel']\n",
    "        if len(ranked_stats) > 0:\n",
    "            for i in range(0, len(ranked_stats)):\n",
    "                if 'RANKED_SOLO_5x5' in ranked_stats[i]['queueType']:\n",
    "                    if 'tier' in ranked_stats[i] and 'rank' in ranked_stats[i]:\n",
    "                        t = ranked_stats[i]['tier'] + ' ' + ranked_stats[i]['rank']\n",
    "                        data['tierRank'] = t\n",
    "                    else:\n",
    "                        data['tierRank'] = None\n",
    "\n",
    "                    if 'wins' in ranked_stats[i]:\n",
    "                        t = ranked_stats[i]['wins']\n",
    "                        data['wins'] = t\n",
    "                    else:\n",
    "                        data['wins'] = None\n",
    "\n",
    "                    if 'losses' in ranked_stats[i]:\n",
    "                        t = ranked_stats[i]['losses']\n",
    "                        data['losses'] = t\n",
    "                    else:\n",
    "                        data['losses'] = None\n",
    "\n",
    "                    if 'veteran' in ranked_stats[i]:\n",
    "                        t = ranked_stats[i]['veteran']\n",
    "                        data['veteran'] = t\n",
    "                    else:\n",
    "                        data['veteran'] = None\n",
    "\n",
    "                    if 'inactive' in ranked_stats[i]:\n",
    "                        t = ranked_stats[i]['inactive']\n",
    "                        data['inactive'] = t\n",
    "                    else:\n",
    "                        data['inactive'] = None\n",
    "\n",
    "                    if 'freshBlood' in ranked_stats[i]:\n",
    "                        t = ranked_stats[i]['freshBlood']\n",
    "                        data['freshBlood'] = t\n",
    "                    else:\n",
    "                        data['freshBlood'] = None\n",
    "\n",
    "                    if 'hotStreak' in ranked_stats[i]:\n",
    "                        t = ranked_stats[i]['hotStreak']\n",
    "                        data['hotStreak'] = t\n",
    "                    else:\n",
    "                        data['hotStreak'] = None\n",
    "        else:\n",
    "            data['tierRank'] = None\n",
    "            data['wins'] = None\n",
    "            data['losses'] = None\n",
    "            data['veteran'] = None\n",
    "            data['inactive'] = None\n",
    "            data['freshBlood'] = None\n",
    "            data['hotStreak'] = None\n",
    "        return data\n",
    "\n",
    "    def playerStatsLastGames(self, region, summoner, start_index, end_index):\n",
    "        \"\"\"\n",
    "        {'average_kills': 2.3,\n",
    "         'average_deaths': 9.166666666666666,\n",
    "         'average_assists': 14.533333333333333,\n",
    "         'average_gold_earned': 8809.133333333333}\n",
    "        \"\"\"\n",
    "        player = self.lol_watcher.summoner.by_name(region, summoner)\n",
    "        player_puuid = player['puuid']\n",
    "\n",
    "        # Fetch recent matchList with Pagination\n",
    "        matchlist = []\n",
    "        matchlist = self.lol_watcher.match.matchlist_by_puuid(region, player_puuid, start_index, end_index)\n",
    "\n",
    "        # Define the initial values for stats\n",
    "        total_kills = 0\n",
    "        total_deaths = 0\n",
    "        total_assists = 0\n",
    "        total_gold_earned = 0\n",
    "        total_matches = 0\n",
    "\n",
    "        for match in matchlist:\n",
    "            match_details = self.lol_watcher.match.by_id(region, match)\n",
    "            for participant in match_details['info']['participants']:\n",
    "                if participant['puuid'] == player_puuid:\n",
    "                    total_kills += participant['kills']\n",
    "                    total_deaths += participant['deaths']\n",
    "                    total_assists += participant['assists']\n",
    "                    total_gold_earned += participant['goldEarned']\n",
    "                    total_matches += 1\n",
    "\n",
    "        # Calculate the average stats\n",
    "        average_kills = total_kills / total_matches\n",
    "        average_deaths = total_deaths / total_matches\n",
    "        average_assists = total_assists / total_matches\n",
    "        average_gold_earned = total_gold_earned / total_matches\n",
    "        data = {\n",
    "            'average_kills': average_kills,\n",
    "            'average_deaths': average_deaths,\n",
    "            'average_assists': average_assists,\n",
    "            'average_gold_earned': average_gold_earned\n",
    "        }\n",
    "        return data\n"
   ]
  },
  {
   "cell_type": "code",
   "execution_count": 32,
   "metadata": {
    "id": "iyirrixf3epu"
   },
   "outputs": [],
   "source": [
    "api_key= \"RGAPI-c7cf2424-731f-4a9a-8f1f-f6985e62dac3\"\n",
    "region = 'eun1'\n",
    "summoner = 'spikal'\n",
    "\n",
    "karma = Karma(api_key)\n",
    "summonerStats = karma.player_stats(region, summoner)"
   ]
  },
  {
   "cell_type": "code",
   "execution_count": 44,
   "metadata": {
    "colab": {
     "base_uri": "https://localhost:8080/",
     "height": 141
    },
    "id": "1LeF5xQ4lep9",
    "outputId": "dc41df33-0491-48d9-e0c3-dbae2c5fbd33"
   },
   "outputs": [],
   "source": [
    "statsLastGames = karma.playerStatsLastGames(region, summoner, 0, 30)"
   ]
  },
  {
   "cell_type": "code",
   "execution_count": 45,
   "metadata": {},
   "outputs": [
    {
     "data": {
      "text/plain": [
       "{'average_kills': 2.433333333333333,\n",
       " 'average_deaths': 9.133333333333333,\n",
       " 'average_assists': 12.766666666666667,\n",
       " 'average_gold_earned': 9071.233333333334}"
      ]
     },
     "execution_count": 45,
     "metadata": {},
     "output_type": "execute_result"
    }
   ],
   "source": [
    "statsLastGames"
   ]
  },
  {
   "cell_type": "code",
   "execution_count": 99,
   "metadata": {
    "id": "SIdFO1Xx09vk"
   },
   "outputs": [
    {
     "data": {
      "text/plain": [
       "{'average_kills': 2.3,\n",
       " 'average_deaths': 9.166666666666666,\n",
       " 'average_assists': 14.533333333333333,\n",
       " 'average_gold_earned': 8809.133333333333}"
      ]
     },
     "execution_count": 99,
     "metadata": {},
     "output_type": "execute_result"
    }
   ],
   "source": [
    "data = dict(summonerStats)\n",
    "data.update(statsLastGames)\n",
    "statsLastGames"
   ]
  },
  {
   "cell_type": "code",
   "execution_count": 51,
   "metadata": {},
   "outputs": [],
   "source": [
    "def get_random_players(api_key, NUM_PLAYERS_PER_RANK):\n",
    "    # Retrieve random players for each division\n",
    "    REGIONS = [\"na1\", \"euw1\", \"eun1\", \"kr\", \"br1\", \"la1\", \"la2\", \"oce\", \"tr1\", \"ru\"]\n",
    "    TIERS = [\"IRON\", \"BRONZE\", \"SILVER\", \"GOLD\", \"PLATINUM\", \"DIAMOND\"]\n",
    "    DIVISIONS = [\"I\", \"II\", \"III\", \"IV\"]\n",
    "\n",
    "    lol_watcher = LolWatcher(api_key)\n",
    "\n",
    "    # Initialize an empty list to store players\n",
    "    all_players = []\n",
    "\n",
    "    # Define rate limit values\n",
    "    REQUESTS_PER_10_SECONDS = 500\n",
    "    REQUESTS_PER_10_MINUTES = 30000\n",
    "\n",
    "    # Calculate sleep duration based on rate limits\n",
    "    sleep_duration_10_seconds = 10 / REQUESTS_PER_10_SECONDS\n",
    "    sleep_duration_10_minutes = 600 / REQUESTS_PER_10_MINUTES\n",
    "\n",
    "    # Loop through regions, tiers, and divisions\n",
    "    for region in REGIONS:\n",
    "        for tier in TIERS:\n",
    "            for division in DIVISIONS:\n",
    "                retry_count = 0\n",
    "                while retry_count < 3:  # Retry up to 3 times in case of errors\n",
    "                    try:\n",
    "                        # Retrieve player IDs for the current region, tier, and division\n",
    "                        league_entries = lol_watcher.league.entries(region, \"RANKED_SOLO_5x5\", tier, division)\n",
    "\n",
    "                        # Shuffle the list of players to get random players\n",
    "                        random.shuffle(league_entries)\n",
    "\n",
    "                        # Take the first 100 players (or fewer if there are fewer players available)\n",
    "                        selected_players = league_entries[:NUM_PLAYERS_PER_RANK]\n",
    "\n",
    "                        # Extract player names and regions and add them to the overall list\n",
    "                        players_info = [{\"name\": entry[\"summonerName\"], \"region\": region} for entry in selected_players]\n",
    "                        all_players.extend(players_info)\n",
    "\n",
    "                        # Sleep for a short time to avoid rate limiting\n",
    "                        time.sleep(sleep_duration_10_seconds)  # Sleep for 10 seconds\n",
    "\n",
    "                        break  # Success, exit the retry loop\n",
    "                    except requests.exceptions.HTTPError as e:\n",
    "                        if e.response.status_code == 429:  # Rate limit exceeded\n",
    "                            # Wait for a short time and retry\n",
    "                            time.sleep(sleep_duration_10_seconds)  # Sleep for 10 seconds\n",
    "                            retry_count += 1\n",
    "                        elif e.response.status_code == 443:  # Retry for SSL handshake errors\n",
    "                            retry_count += 1\n",
    "                        else:\n",
    "                            print(f\"Error: {e.response.status_code}\")\n",
    "                            break  # Break the retry loop for other errors\n",
    "                    except requests.exceptions.ConnectionError as ce:\n",
    "                        # Connection error, wait and retry\n",
    "                        time.sleep(sleep_duration_10_seconds)  # Sleep for 10 seconds\n",
    "                        retry_count += 1\n",
    "\n",
    "    # Now, all_players contains a list of dictionaries with player names and regions\n",
    "    return all_players"
   ]
  },
  {
   "cell_type": "code",
   "execution_count": 76,
   "metadata": {},
   "outputs": [],
   "source": [
    "def get_random_matches(api_key, NUM_PLAYERS_PER_RANK):\n",
    "    # Retrieve random matches for each division\n",
    "    REGIONS = [\"na1\", \"euw1\", \"eun1\", \"kr\", \"br1\", \"la1\", \"la2\", \"oce\", \"tr1\", \"ru\"]\n",
    "    TIERS = [\"IRON\", \"BRONZE\", \"SILVER\", \"GOLD\", \"PLATINUM\", \"DIAMOND\"]\n",
    "    DIVISIONS = [\"I\", \"II\", \"III\", \"IV\"]\n",
    "\n",
    "    lol_watcher = LolWatcher(api_key)\n",
    "\n",
    "    # Initialize an empty list to store matches\n",
    "    all_matches = []\n",
    "\n",
    "    # Define rate limit values\n",
    "    REQUESTS_PER_10_SECONDS = 500\n",
    "    REQUESTS_PER_10_MINUTES = 30000\n",
    "\n",
    "    # Calculate sleep duration based on rate limits\n",
    "    sleep_duration_10_seconds = 10 / REQUESTS_PER_10_SECONDS\n",
    "    sleep_duration_10_minutes = 600 / REQUESTS_PER_10_MINUTES\n",
    "\n",
    "    # Loop through regions, tiers, and divisions\n",
    "    for region in REGIONS:\n",
    "        for tier in TIERS:\n",
    "            for division in DIVISIONS:\n",
    "                retry_count = 0\n",
    "                while retry_count < 3:  # Retry up to 3 times in case of errors\n",
    "                    try:\n",
    "                        # Retrieve player IDs for the current region, tier, and division\n",
    "                        league_entries = lol_watcher.league.entries(region, \"RANKED_SOLO_5x5\", tier, division)\n",
    "\n",
    "                        # Shuffle the list of players to get random players\n",
    "                        random.shuffle(league_entries)\n",
    "\n",
    "                        # Take the first 100 players (or fewer if there are fewer players available)\n",
    "                        selected_players = league_entries[:NUM_PLAYERS_PER_RANK]\n",
    "\n",
    "                        for player in selected_players:\n",
    "                            # Retrieve the matchlist for the current player\n",
    "                            player1 = lol_watcher.summoner.by_name(region, player['summonerName'])\n",
    "                            player_puuid = player1[\"puuid\"]\n",
    "                            matchlist = lol_watcher.match.matchlist_by_puuid(region, player_puuid)\n",
    "#                             print(matchlist)\n",
    "                            # Extract region, match ID, tier, and rank, and add them to the overall list\n",
    "                            match_info = {\n",
    "                                \"region\": region,\n",
    "                                \"matchId\": [match for match in matchlist],\n",
    "                                \"tier\": tier,\n",
    "                                \"rank\": division\n",
    "                            }\n",
    "                            all_matches.append(match_info)\n",
    "\n",
    "                            # Sleep for a short time to avoid rate limiting\n",
    "                            time.sleep(sleep_duration_10_seconds)  # Sleep for 10 seconds\n",
    "\n",
    "                        break  # Success, exit the retry loop\n",
    "                    except requests.exceptions.HTTPError as e:\n",
    "                        if e.response.status_code == 429:  # Rate limit exceeded\n",
    "                            # Wait for a short time and retry\n",
    "                            time.sleep(sleep_duration_10_seconds)  # Sleep for 10 seconds\n",
    "                            retry_count += 1\n",
    "                        elif e.response.status_code == 443:  # Retry for SSL handshake errors\n",
    "                            retry_count += 1\n",
    "                        else:\n",
    "                            print(f\"Error: {e.response.status_code}\")\n",
    "                            break  # Break the retry loop for other errors\n",
    "                    except requests.exceptions.ConnectionError as ce:\n",
    "                        # Connection error, wait and retry\n",
    "                        time.sleep(sleep_duration_10_seconds)  # Sleep for 10 seconds\n",
    "                        retry_count += 1\n",
    "\n",
    "    # Now, all_matches contains a list of dictionaries with region, match ID, tier, and rank\n",
    "    return all_matches"
   ]
  },
  {
   "cell_type": "code",
   "execution_count": 81,
   "metadata": {},
   "outputs": [],
   "source": [
    "#TODO: Problem with 443 with API\n",
    "train_data = get_random_players(api_key, NUM_PLAYERS_PER_RANK = 200)"
   ]
  },
  {
   "cell_type": "code",
   "execution_count": 77,
   "metadata": {},
   "outputs": [
    {
     "name": "stdout",
     "output_type": "stream",
     "text": [
      "Error: 404\n",
      "[{'region': 'na1', 'matchId': ['NA1_4787978148', 'NA1_4787920605', 'NA1_4784396194', 'NA1_4784367921', 'NA1_4784324263', 'NA1_4784282744', 'NA1_4783617015', 'NA1_4783571203', 'NA1_4783514985', 'NA1_4783473268', 'NA1_4778922490', 'NA1_4775348414', 'NA1_4775314881', 'NA1_4775272913', 'NA1_4775218720', 'NA1_4775121068', 'NA1_4762979298', 'NA1_4762076452', 'NA1_4762056148', 'NA1_4762031999'], 'tier': 'IRON', 'rank': 'I'}, {'region': 'na1', 'matchId': ['NA1_4786824066', 'NA1_4766288568', 'NA1_4762254510', 'NA1_4747408153', 'NA1_4747351923', 'NA1_4747278682', 'NA1_4740763011', 'NA1_4730288490', 'NA1_4728943172', 'NA1_4728905146', 'NA1_4728599147', 'NA1_4728169961', 'NA1_4725736416', 'NA1_4724797671', 'NA1_4724747672', 'NA1_4724733219', 'NA1_4724449394', 'NA1_4724413371', 'NA1_4724370446', 'NA1_4723575235'], 'tier': 'IRON', 'rank': 'II'}, {'region': 'na1', 'matchId': ['NA1_4792875082', 'NA1_4790565215', 'NA1_4789089769', 'NA1_4787453498', 'NA1_4787192148', 'NA1_4787149077', 'NA1_4785701207', 'NA1_4785659921', 'NA1_4785648878', 'NA1_4785627792', 'NA1_4784998439', 'NA1_4784084020', 'NA1_4783109788', 'NA1_4782164718', 'NA1_4730836907', 'NA1_4717093929', 'NA1_4715732045', 'NA1_4715678146', 'NA1_4715291590', 'NA1_4715270804'], 'tier': 'IRON', 'rank': 'III'}, {'region': 'na1', 'matchId': ['NA1_4793098722', 'NA1_4793075258', 'NA1_4791300429', 'NA1_4791246220', 'NA1_4761215250', 'NA1_4758865669', 'NA1_4757556278', 'NA1_4756289392', 'NA1_4756247222', 'NA1_4755361371', 'NA1_4754558294', 'NA1_4752849274', 'NA1_4752820060', 'NA1_4655624959', 'NA1_4655273444', 'NA1_4655241191', 'NA1_4654265827', 'NA1_4654248980', 'NA1_4653425819', 'NA1_4648771392'], 'tier': 'IRON', 'rank': 'IV'}, {'region': 'na1', 'matchId': ['NA1_4741610411', 'NA1_4741571414', 'NA1_4741533034', 'NA1_4739556798', 'NA1_4736273550', 'NA1_4736267187', 'NA1_4730311990', 'NA1_4730247392', 'NA1_4730210397', 'NA1_4715787257', 'NA1_4715745248', 'NA1_4715714434', 'NA1_4715686932', 'NA1_4715647102', 'NA1_4715621207', 'NA1_4712619152', 'NA1_4710590516', 'NA1_4710491080', 'NA1_4710017514', 'NA1_4709976725'], 'tier': 'BRONZE', 'rank': 'I'}, {'region': 'na1', 'matchId': ['NA1_4764415605', 'NA1_4747336717', 'NA1_4731345046', 'NA1_4731228237', 'NA1_4730294162', 'NA1_4730248444', 'NA1_4729167421', 'NA1_4729140171', 'NA1_4729094347', 'NA1_4704837377', 'NA1_4704833816', 'NA1_4703472725', 'NA1_4702273234', 'NA1_4702244693', 'NA1_4702222877', 'NA1_4700503070', 'NA1_4700467040', 'NA1_4699460070', 'NA1_4699433412', 'NA1_4699406243'], 'tier': 'BRONZE', 'rank': 'II'}, {'region': 'na1', 'matchId': ['NA1_4791261724', 'NA1_4791232966', 'NA1_4791222181', 'NA1_4785987669', 'NA1_4785959006', 'NA1_4784941199', 'NA1_4784898083', 'NA1_4782223938', 'NA1_4782204159', 'NA1_4778590359', 'NA1_4770300093', 'NA1_4770282559', 'NA1_4767409141', 'NA1_4764147106', 'NA1_4764135919', 'NA1_4763096108', 'NA1_4762327625', 'NA1_4762319884', 'NA1_4762299677', 'NA1_4762276661'], 'tier': 'BRONZE', 'rank': 'III'}, {'region': 'na1', 'matchId': ['NA1_4792788343', 'NA1_4792762308', 'NA1_4788359310', 'NA1_4788343044', 'NA1_4785430847', 'NA1_4781681947', 'NA1_4780954544', 'NA1_4780947669', 'NA1_4780921373', 'NA1_4780909991', 'NA1_4780881613', 'NA1_4777401931', 'NA1_4777385313', 'NA1_4777374049', 'NA1_4777361108', 'NA1_4776468745', 'NA1_4776436274', 'NA1_4776380861', 'NA1_4776325077', 'NA1_4776289819'], 'tier': 'BRONZE', 'rank': 'IV'}, {'region': 'na1', 'matchId': ['NA1_4787520240', 'NA1_4787511307', 'NA1_4787476526', 'NA1_4787440798', 'NA1_4787422789', 'NA1_4787393639', 'NA1_4787383765', 'NA1_4786915605', 'NA1_4786634292', 'NA1_4786619501', 'NA1_4786602223', 'NA1_4785846829', 'NA1_4785822726', 'NA1_4785186281', 'NA1_4784323721', 'NA1_4781151319', 'NA1_4781119049', 'NA1_4781090603', 'NA1_4780339610', 'NA1_4780326496'], 'tier': 'SILVER', 'rank': 'I'}, {'region': 'na1', 'matchId': ['NA1_4792690253', 'NA1_4754314544', 'NA1_4749917128', 'NA1_4743312514', 'NA1_4735527093', 'NA1_4686664921', 'NA1_4686613041', 'NA1_4686563958', 'NA1_4679620587', 'NA1_4679621754', 'NA1_4675182055', 'NA1_4675131437', 'NA1_4675098736', 'NA1_4670962671', 'NA1_4670947407', 'NA1_4670582366', 'NA1_4661350059', 'NA1_4656337611', 'NA1_4655266610', 'NA1_4655215285'], 'tier': 'SILVER', 'rank': 'II'}, {'region': 'na1', 'matchId': ['NA1_4792209868', 'NA1_4791439086', 'NA1_4791419897', 'NA1_4791327506', 'NA1_4791284885', 'NA1_4791249550', 'NA1_4791202208', 'NA1_4791155138', 'NA1_4789566854', 'NA1_4788905946', 'NA1_4788861026', 'NA1_4788821086', 'NA1_4788776463', 'NA1_4788731568', 'NA1_4788692742', 'NA1_4788542981', 'NA1_4787794255', 'NA1_4785946322', 'NA1_4785925542', 'NA1_4785224721'], 'tier': 'SILVER', 'rank': 'III'}, {'region': 'na1', 'matchId': ['NA1_4791679799', 'NA1_4790889482', 'NA1_4790070846', 'NA1_4790056065', 'NA1_4787011883', 'NA1_4786992413', 'NA1_4786950479', 'NA1_4786893291', 'NA1_4786860513', 'NA1_4786688298', 'NA1_4786384811', 'NA1_4786367948', 'NA1_4786355222', 'NA1_4786346902', 'NA1_4786335022', 'NA1_4786307404', 'NA1_4786296747', 'NA1_4786281898', 'NA1_4786157090', 'NA1_4786135742'], 'tier': 'SILVER', 'rank': 'IV'}, {'region': 'na1', 'matchId': ['NA1_4780297689', 'NA1_4780279255', 'NA1_4778822611', 'NA1_4777019551', 'NA1_4774905180', 'NA1_4774871288', 'NA1_4774013211', 'NA1_4773971225', 'NA1_4766141138', 'NA1_4766121088', 'NA1_4765563649', 'NA1_4661281958', 'NA1_4626353115', 'NA1_4617480471', 'NA1_4598074483', 'NA1_4587272159', 'NA1_4569063952', 'NA1_4436275720', 'NA1_4436236236', 'NA1_4436230358'], 'tier': 'GOLD', 'rank': 'I'}, {'region': 'na1', 'matchId': ['NA1_4784570992', 'NA1_4776233486', 'NA1_4776177971', 'NA1_4776114921', 'NA1_4775260049', 'NA1_4775189460', 'NA1_4775132093', 'NA1_4775077433', 'NA1_4774132091', 'NA1_4774094842', 'NA1_4774045480', 'NA1_4772341204', 'NA1_4772275622', 'NA1_4770697354', 'NA1_4770663560', 'NA1_4768900389', 'NA1_4768851616', 'NA1_4766359903', 'NA1_4766322520', 'NA1_4766296616'], 'tier': 'GOLD', 'rank': 'II'}, {'region': 'na1', 'matchId': ['NA1_4769843162', 'NA1_4769485994', 'NA1_4768539644', 'NA1_4768238129', 'NA1_4767531854', 'NA1_4767520939', 'NA1_4766702057', 'NA1_4765204171', 'NA1_4764834617', 'NA1_4764260059', 'NA1_4763861112', 'NA1_4763809331', 'NA1_4763715035', 'NA1_4763671837', 'NA1_4763447345', 'NA1_4763436160', 'NA1_4762595319', 'NA1_4762314834', 'NA1_4762291798', 'NA1_4761963945'], 'tier': 'GOLD', 'rank': 'III'}, {'region': 'na1', 'matchId': ['NA1_4791059640', 'NA1_4791047842', 'NA1_4790560113', 'NA1_4790536518', 'NA1_4789320904', 'NA1_4789309145', 'NA1_4784459456', 'NA1_4784422335', 'NA1_4776275095', 'NA1_4776212127', 'NA1_4776145998', 'NA1_4769800902', 'NA1_4769756528', 'NA1_4769728791', 'NA1_4769641291', 'NA1_4769547133', 'NA1_4769521205', 'NA1_4769348702', 'NA1_4769335995', 'NA1_4769053594'], 'tier': 'GOLD', 'rank': 'IV'}, {'region': 'na1', 'matchId': ['NA1_4792829618', 'NA1_4792800565', 'NA1_4792029037', 'NA1_4791300889', 'NA1_4791260374', 'NA1_4791249998', 'NA1_4788825889', 'NA1_4788729481', 'NA1_4788702389', 'NA1_4788447926', 'NA1_4788415257', 'NA1_4788402369', 'NA1_4788376537', 'NA1_4787094739', 'NA1_4787063408', 'NA1_4777051919', 'NA1_4777044018', 'NA1_4777019038', 'NA1_4776975416', 'NA1_4776931543'], 'tier': 'PLATINUM', 'rank': 'I'}, {'region': 'na1', 'matchId': ['NA1_4793303086', 'NA1_4793227601', 'NA1_4793208804', 'NA1_4793177311', 'NA1_4793159077', 'NA1_4793129495', 'NA1_4793077774', 'NA1_4793045263', 'NA1_4793021825', 'NA1_4792999449', 'NA1_4792962043', 'NA1_4792928529', 'NA1_4792909217', 'NA1_4792887543', 'NA1_4792833212', 'NA1_4792820819', 'NA1_4792753322', 'NA1_4792746286', 'NA1_4792731926', 'NA1_4792718450'], 'tier': 'PLATINUM', 'rank': 'II'}, {'region': 'na1', 'matchId': ['NA1_4782891609', 'NA1_4777297788', 'NA1_4770016206', 'NA1_4769989455', 'NA1_4769961589', 'NA1_4754810723', 'NA1_4683922400', 'NA1_4683911255', 'NA1_4683872602', 'NA1_4683856274', 'NA1_4609028250', 'NA1_4607161300', 'NA1_4607136728', 'NA1_4607116333', 'NA1_4572581474', 'NA1_4568869469', 'NA1_4568838940', 'NA1_4542414005', 'NA1_4542387069', 'NA1_4519384038'], 'tier': 'PLATINUM', 'rank': 'III'}, {'region': 'na1', 'matchId': ['NA1_4791176658', 'NA1_4788651964', 'NA1_4786215224', 'NA1_4786182298', 'NA1_4786176759', 'NA1_4786151129', 'NA1_4786114298', 'NA1_4786088491', 'NA1_4785771527', 'NA1_4785003185', 'NA1_4784976996', 'NA1_4784957771', 'NA1_4784928028', 'NA1_4784909150', 'NA1_4784467841', 'NA1_4784072420', 'NA1_4784054314', 'NA1_4784038940', 'NA1_4783300823', 'NA1_4783271916'], 'tier': 'PLATINUM', 'rank': 'IV'}, {'region': 'na1', 'matchId': ['NA1_4792480437', 'NA1_4792454659', 'NA1_4792430303', 'NA1_4792383379', 'NA1_4792368860', 'NA1_4792338646', 'NA1_4789173565', 'NA1_4789169837', 'NA1_4789153977', 'NA1_4786395172', 'NA1_4786371631', 'NA1_4786362935', 'NA1_4786173223', 'NA1_4784688264', 'NA1_4781746540', 'NA1_4781693449', 'NA1_4779167030', 'NA1_4779157085', 'NA1_4778323094', 'NA1_4778320276'], 'tier': 'DIAMOND', 'rank': 'I'}, {'region': 'na1', 'matchId': ['NA1_4793127849', 'NA1_4789819725', 'NA1_4789802158', 'NA1_4789775275', 'NA1_4789737882', 'NA1_4789704339', 'NA1_4788536759', 'NA1_4788521923', 'NA1_4788506338', 'NA1_4788459313', 'NA1_4787443118', 'NA1_4787425613', 'NA1_4787413133', 'NA1_4786822584', 'NA1_4786788386', 'NA1_4786723287', 'NA1_4786500636', 'NA1_4786495005', 'NA1_4786471643', 'NA1_4786463379'], 'tier': 'DIAMOND', 'rank': 'II'}, {'region': 'na1', 'matchId': ['NA1_4792908254', 'NA1_4792819336', 'NA1_4792470908', 'NA1_4792406706', 'NA1_4792397898', 'NA1_4792374892', 'NA1_4791861875', 'NA1_4791742167', 'NA1_4791427554', 'NA1_4791331547', 'NA1_4791175866', 'NA1_4791080223', 'NA1_4791063841', 'NA1_4791005047', 'NA1_4790920589', 'NA1_4790902960', 'NA1_4790802209', 'NA1_4790786883', 'NA1_4790763637', 'NA1_4790740719'], 'tier': 'DIAMOND', 'rank': 'III'}, {'region': 'na1', 'matchId': ['NA1_4793431488', 'NA1_4793414479', 'NA1_4793408230', 'NA1_4793377405', 'NA1_4793355344', 'NA1_4793328808', 'NA1_4792498879', 'NA1_4792479086', 'NA1_4792449611', 'NA1_4791546940', 'NA1_4791526667', 'NA1_4791510772', 'NA1_4791482980', 'NA1_4791458999', 'NA1_4790843565', 'NA1_4790833008', 'NA1_4790824182', 'NA1_4790805392', 'NA1_4790775409', 'NA1_4790732672'], 'tier': 'DIAMOND', 'rank': 'IV'}, {'region': 'euw1', 'matchId': ['EUW1_6533293627', 'EUW1_6527596045', 'EUW1_6527371658', 'EUW1_6524759984', 'EUW1_6524362085', 'EUW1_6521412110', 'EUW1_6521289869', 'EUW1_6517832626', 'EUW1_6517738670', 'EUW1_6516480888', 'EUW1_6516456716', 'EUW1_6516370790', 'EUW1_6513587636', 'EUW1_6500426317', 'EUW1_6493382086', 'EUW1_6492688363', 'EUW1_6491667488', 'EUW1_6491613405', 'EUW1_6489593005', 'EUW1_6488724995'], 'tier': 'IRON', 'rank': 'I'}, {'region': 'euw1', 'matchId': ['EUW1_6596728375', 'EUW1_6589753058', 'EUW1_6588408979', 'EUW1_6587271952', 'EUW1_6586058473', 'EUW1_6578549824', 'EUW1_6570840687', 'EUW1_6569391819', 'EUW1_6569316360', 'EUW1_6569166762', 'EUW1_6567928641', 'EUW1_6567801006', 'EUW1_6565237159', 'EUW1_6564504047', 'EUW1_6564488646', 'EUW1_6557770788', 'EUW1_6557752558', 'EUW1_6556901339', 'EUW1_6556251482', 'EUW1_6555574274'], 'tier': 'IRON', 'rank': 'II'}, {'region': 'euw1', 'matchId': ['EUW1_6621254727', 'EUW1_6621175315', 'EUW1_6620912711', 'EUW1_6620485599', 'EUW1_6620464471', 'EUW1_6620215150', 'EUW1_6620176107', 'EUW1_6619169637', 'EUW1_6618430234', 'EUW1_6618130560', 'EUW1_6618087187', 'EUW1_6617986080', 'EUW1_6617445249', 'EUW1_6616947983', 'EUW1_6616944553', 'EUW1_6616895378', 'EUW1_6616860801', 'EUW1_6616467389', 'EUW1_6612981777', 'EUW1_6612962771'], 'tier': 'IRON', 'rank': 'III'}, {'region': 'euw1', 'matchId': ['EUW1_6622127275', 'EUW1_6622090614', 'EUW1_6617561042', 'EUW1_6616607344', 'EUW1_6616541007', 'EUW1_6614951204', 'EUW1_6614904565', 'EUW1_6613575320', 'EUW1_6613527019', 'EUW1_6613345696', 'EUW1_6613304577', 'EUW1_6610137111', 'EUW1_6610052805', 'EUW1_6604329225', 'EUW1_6600130971', 'EUW1_6596967226', 'EUW1_6596914899', 'EUW1_6595239682', 'EUW1_6595190209', 'EUW1_6591162668'], 'tier': 'IRON', 'rank': 'IV'}, {'region': 'euw1', 'matchId': ['EUW1_6560544458', 'EUW1_6560440873', 'EUW1_6556280080', 'EUW1_6556218623', 'EUW1_6556138301', 'EUW1_6556048164', 'EUW1_6553460038', 'EUW1_6553414682', 'EUW1_6540032043', 'EUW1_6539980611', 'EUW1_6536276631', 'EUW1_6535472571', 'EUW1_6535424146', 'EUW1_6535380923', 'EUW1_6535304172', 'EUW1_6535229910', 'EUW1_6535092907', 'EUW1_6533827054', 'EUW1_6533748559', 'EUW1_6533646279'], 'tier': 'BRONZE', 'rank': 'I'}, {'region': 'euw1', 'matchId': ['EUW1_6579134978', 'EUW1_6578961879', 'EUW1_6577317961', 'EUW1_6577266591', 'EUW1_6553103206', 'EUW1_6553048683', 'EUW1_6522910618', 'EUW1_6522822151', 'EUW1_6495263504', 'EUW1_6492167323', 'EUW1_6490802064', 'EUW1_6490761663', 'EUW1_6490276494', 'EUW1_6490207761', 'EUW1_6490103895', 'EUW1_6489810415', 'EUW1_6489772086', 'EUW1_6489741558', 'EUW1_6489709600', 'EUW1_6488258336'], 'tier': 'BRONZE', 'rank': 'II'}, {'region': 'euw1', 'matchId': ['EUW1_6619834007', 'EUW1_6619786832', 'EUW1_6619739187', 'EUW1_6619707522', 'EUW1_6618688938', 'EUW1_6618629013', 'EUW1_6618596748', 'EUW1_6618549333', 'EUW1_6618529675', 'EUW1_6617473829', 'EUW1_6617445041', 'EUW1_6617406934', 'EUW1_6617391380', 'EUW1_6617374576', 'EUW1_6616604347', 'EUW1_6616518211', 'EUW1_6616442109', 'EUW1_6616431186', 'EUW1_6616364847', 'EUW1_6616256324'], 'tier': 'BRONZE', 'rank': 'III'}, {'region': 'euw1', 'matchId': ['EUW1_6589950001', 'EUW1_6589595000', 'EUW1_6566831706', 'EUW1_6565791427', 'EUW1_6565726983', 'EUW1_6559505820', 'EUW1_6559474851', 'EUW1_6558993690', 'EUW1_6558921304', 'EUW1_6556862777', 'EUW1_6556801372', 'EUW1_6556770968', 'EUW1_6555727248', 'EUW1_6555672136', 'EUW1_6554312043', 'EUW1_6363993226', 'EUW1_6363933378', 'EUW1_6126761167', 'EUW1_6126838941', 'EUW1_6126756398'], 'tier': 'BRONZE', 'rank': 'IV'}, {'region': 'euw1', 'matchId': ['EUW1_6619388259', 'EUW1_6619388852', 'EUW1_6612871021', 'EUW1_6610923260', 'EUW1_6609269924', 'EUW1_6608525704', 'EUW1_6608474954', 'EUW1_6608450477', 'EUW1_6608356641', 'EUW1_6608313263', 'EUW1_6608300472', 'EUW1_6607809637', 'EUW1_6607719798', 'EUW1_6607651640', 'EUW1_6607588860', 'EUW1_6607052879', 'EUW1_6605296795', 'EUW1_6605260332', 'EUW1_6605230294', 'EUW1_6605111893'], 'tier': 'SILVER', 'rank': 'I'}, {'region': 'euw1', 'matchId': ['EUW1_6588434662', 'EUW1_6588399142', 'EUW1_6588366994', 'EUW1_6588341219', 'EUW1_6584235653', 'EUW1_6584172958', 'EUW1_6584114165', 'EUW1_6584059673', 'EUW1_6583707926', 'EUW1_6583646454', 'EUW1_6583079402', 'EUW1_6583048460', 'EUW1_6582989442', 'EUW1_6582939830', 'EUW1_6582848777', 'EUW1_6582745514', 'EUW1_6582675165', 'EUW1_6580345505', 'EUW1_6575784161', 'EUW1_6575744937'], 'tier': 'SILVER', 'rank': 'II'}, {'region': 'euw1', 'matchId': ['EUW1_6622319347', 'EUW1_6622289990', 'EUW1_6622236154', 'EUW1_6622196016', 'EUW1_6621248896', 'EUW1_6620928814', 'EUW1_6620877090', 'EUW1_6620853343', 'EUW1_6619802097', 'EUW1_6618423405', 'EUW1_6618399081', 'EUW1_6618243836', 'EUW1_6618226540', 'EUW1_6618214996', 'EUW1_6617934637', 'EUW1_6617897152', 'EUW1_6617213724', 'EUW1_6617175768', 'EUW1_6616537642', 'EUW1_6616110261'], 'tier': 'SILVER', 'rank': 'III'}, {'region': 'euw1', 'matchId': ['EUW1_6621846239', 'EUW1_6621407782', 'EUW1_6621346151', 'EUW1_6621198240', 'EUW1_6621119040', 'EUW1_6621076492', 'EUW1_6621021928', 'EUW1_6620989530', 'EUW1_6612128085', 'EUW1_6612093803', 'EUW1_6612061769', 'EUW1_6611993977', 'EUW1_6611956495', 'EUW1_6611940123', 'EUW1_6611938618', 'EUW1_6611832248', 'EUW1_6611816508', 'EUW1_6611319003', 'EUW1_6611306482', 'EUW1_6611171177'], 'tier': 'SILVER', 'rank': 'IV'}, {'region': 'euw1', 'matchId': ['EUW1_6621052825', 'EUW1_6617596696', 'EUW1_6617562023', 'EUW1_6617550214', 'EUW1_6616612023', 'EUW1_6616571691', 'EUW1_6616024921', 'EUW1_6615978324', 'EUW1_6613906980', 'EUW1_6613844626', 'EUW1_6613208624', 'EUW1_6613160309', 'EUW1_6612759090', 'EUW1_6612700085', 'EUW1_6612079856', 'EUW1_6611406847', 'EUW1_6611202134', 'EUW1_6611148081', 'EUW1_6610454486', 'EUW1_6610418711'], 'tier': 'GOLD', 'rank': 'I'}, {'region': 'euw1', 'matchId': ['EUW1_6622314280', 'EUW1_6622095396', 'EUW1_6622047494', 'EUW1_6621993028', 'EUW1_6620925152', 'EUW1_6620869990', 'EUW1_6619954760', 'EUW1_6619897412', 'EUW1_6619719015', 'EUW1_6619656478', 'EUW1_6619611073', 'EUW1_6619588752', 'EUW1_6619003298', 'EUW1_6618946901', 'EUW1_6618885429', 'EUW1_6614628152', 'EUW1_6614592566', 'EUW1_6614232312', 'EUW1_6614211175', 'EUW1_6613986764'], 'tier': 'GOLD', 'rank': 'II'}, {'region': 'euw1', 'matchId': ['EUW1_6621969956', 'EUW1_6618891917', 'EUW1_6618834319', 'EUW1_6615922593', 'EUW1_6614531322', 'EUW1_6608592434', 'EUW1_6608293299', 'EUW1_6605979475', 'EUW1_6605916070', 'EUW1_6529253538', 'EUW1_6529196227', 'EUW1_6526631371', 'EUW1_6526284233', 'EUW1_6526197212', 'EUW1_6520249350', 'EUW1_6517568006', 'EUW1_6517492461', 'EUW1_6516795773', 'EUW1_6516710248', 'EUW1_6516289975'], 'tier': 'GOLD', 'rank': 'III'}, {'region': 'euw1', 'matchId': ['EUW1_6622249389', 'EUW1_6621703533', 'EUW1_6620891158', 'EUW1_6620832902', 'EUW1_6620798016', 'EUW1_6620776086', 'EUW1_6620753902', 'EUW1_6619802996', 'EUW1_6619761721', 'EUW1_6619061764', 'EUW1_6618996450', 'EUW1_6618843594', 'EUW1_6617921830', 'EUW1_6617863817', 'EUW1_6616808418', 'EUW1_6616763474', 'EUW1_6616687976', 'EUW1_6616591926', 'EUW1_6616383354', 'EUW1_6612855344'], 'tier': 'GOLD', 'rank': 'IV'}, {'region': 'euw1', 'matchId': ['EUW1_6621587160', 'EUW1_6621514831', 'EUW1_6620149254', 'EUW1_6620092808', 'EUW1_6619789499', 'EUW1_6619732313', 'EUW1_6619158538', 'EUW1_6615409326', 'EUW1_6615354994', 'EUW1_6614855220', 'EUW1_6614803417', 'EUW1_6614764891', 'EUW1_6613360161', 'EUW1_6613299881', 'EUW1_6611392458', 'EUW1_6611248002', 'EUW1_6611177385', 'EUW1_6611129745', 'EUW1_6610231353', 'EUW1_6610182622'], 'tier': 'PLATINUM', 'rank': 'I'}, {'region': 'euw1', 'matchId': ['EUW1_6544660161', 'EUW1_6543481456', 'EUW1_6543353050', 'EUW1_6543284504', 'EUW1_6539629977', 'EUW1_6538602033', 'EUW1_6538544992', 'EUW1_6538409014', 'EUW1_6538278865', 'EUW1_6538110630', 'EUW1_6537955285', 'EUW1_6537933808', 'EUW1_6537197529', 'EUW1_6535393042', 'EUW1_6535307659', 'EUW1_6535180931', 'EUW1_6535074720', 'EUW1_6533863517', 'EUW1_6533797163', 'EUW1_6532227696'], 'tier': 'PLATINUM', 'rank': 'II'}, {'region': 'euw1', 'matchId': ['EUW1_6615646643', 'EUW1_6615597506', 'EUW1_6606410279', 'EUW1_6597232533', 'EUW1_6597123289', 'EUW1_6597079889', 'EUW1_6596932120', 'EUW1_6587866087', 'EUW1_6587814448', 'EUW1_6587499809', 'EUW1_6587458830', 'EUW1_6587405715', 'EUW1_6587373669', 'EUW1_6578802232', 'EUW1_6578747471', 'EUW1_6578667193', 'EUW1_6578606948', 'EUW1_6569871303', 'EUW1_6569803077', 'EUW1_6569714889'], 'tier': 'PLATINUM', 'rank': 'III'}, {'region': 'euw1', 'matchId': ['EUW1_6622369442', 'EUW1_6622332609', 'EUW1_6621623905', 'EUW1_6621562212', 'EUW1_6621531776', 'EUW1_6621194919', 'EUW1_6621158727', 'EUW1_6621117227', 'EUW1_6621080702', 'EUW1_6619147160', 'EUW1_6619094237', 'EUW1_6619025213', 'EUW1_6615517966', 'EUW1_6615429093', 'EUW1_6615376165', 'EUW1_6615338685', 'EUW1_6615240422', 'EUW1_6615194524', 'EUW1_6611462794', 'EUW1_6611398231'], 'tier': 'PLATINUM', 'rank': 'IV'}, {'region': 'euw1', 'matchId': ['EUW1_6621914237', 'EUW1_6621888004', 'EUW1_6621671417', 'EUW1_6621644639', 'EUW1_6621599490', 'EUW1_6621549474', 'EUW1_6621484369', 'EUW1_6621385369', 'EUW1_6621334098', 'EUW1_6621261155', 'EUW1_6621129832', 'EUW1_6615185066', 'EUW1_6615138600', 'EUW1_6614577649', 'EUW1_6614542250', 'EUW1_6614507095', 'EUW1_6614478849', 'EUW1_6614454906', 'EUW1_6614164767', 'EUW1_6614103892'], 'tier': 'DIAMOND', 'rank': 'I'}, {'region': 'euw1', 'matchId': ['EUW1_6578955662', 'EUW1_6578882897', 'EUW1_6578783392', 'EUW1_6578733612', 'EUW1_6575722003', 'EUW1_6575709738', 'EUW1_6564553096', 'EUW1_6564493097', 'EUW1_6564265200', 'EUW1_6563998062', 'EUW1_6563867120', 'EUW1_6563342422', 'EUW1_6563265882', 'EUW1_6562476501', 'EUW1_6561219605', 'EUW1_6561147926', 'EUW1_6561049392', 'EUW1_6560020049', 'EUW1_6559610962', 'EUW1_6557979637'], 'tier': 'DIAMOND', 'rank': 'II'}, {'region': 'euw1', 'matchId': ['EUW1_6620753654', 'EUW1_6620721166', 'EUW1_6620686221', 'EUW1_6620338568', 'EUW1_6620281748', 'EUW1_6620235627', 'EUW1_6620189090', 'EUW1_6620093747', 'EUW1_6619768690', 'EUW1_6619696010', 'EUW1_6619658764', 'EUW1_6619621600', 'EUW1_6619574438', 'EUW1_6619177454', 'EUW1_6619143803', 'EUW1_6618698888', 'EUW1_6618624851', 'EUW1_6618515940', 'EUW1_6618479586', 'EUW1_6618438739'], 'tier': 'DIAMOND', 'rank': 'III'}, {'region': 'euw1', 'matchId': ['EUW1_6622202717', 'EUW1_6622166135', 'EUW1_6622029818', 'EUW1_6621757936', 'EUW1_6621755576', 'EUW1_6620315325', 'EUW1_6620295166', 'EUW1_6620259230', 'EUW1_6619874514', 'EUW1_6619623829', 'EUW1_6619580002', 'EUW1_6619223359', 'EUW1_6619183407', 'EUW1_6619169490', 'EUW1_6618945858', 'EUW1_6618676067', 'EUW1_6618624073', 'EUW1_6617900433', 'EUW1_6617871165', 'EUW1_6617210288'], 'tier': 'DIAMOND', 'rank': 'IV'}, {'region': 'eun1', 'matchId': ['EUN1_3468117765', 'EUN1_3468100574', 'EUN1_3467182161', 'EUN1_3467160569', 'EUN1_3467138978', 'EUN1_3467133240', 'EUN1_3467109792', 'EUN1_3466452994', 'EUN1_3465343799', 'EUN1_3464222886', 'EUN1_3464102288', 'EUN1_3464090940', 'EUN1_3464094283', 'EUN1_3464051998', 'EUN1_3464027695', 'EUN1_3462939332', 'EUN1_3462931205', 'EUN1_3462909836', 'EUN1_3461897053', 'EUN1_3461889175'], 'tier': 'IRON', 'rank': 'I'}, {'region': 'eun1', 'matchId': ['EUN1_3468490841', 'EUN1_3468349078', 'EUN1_3467863202', 'EUN1_3467831568', 'EUN1_3467744034', 'EUN1_3467751094', 'EUN1_3467270672', 'EUN1_3467255064', 'EUN1_3467235058', 'EUN1_3466865466', 'EUN1_3466646040', 'EUN1_3461529982', 'EUN1_3460783303', 'EUN1_3460749884', 'EUN1_3459953014', 'EUN1_3459923699', 'EUN1_3459643472', 'EUN1_3458736221', 'EUN1_3458696031', 'EUN1_3458239073'], 'tier': 'IRON', 'rank': 'II'}, {'region': 'eun1', 'matchId': ['EUN1_3458984049', 'EUN1_3458401413', 'EUN1_3457845557', 'EUN1_3457824967', 'EUN1_3457802833', 'EUN1_3457249314', 'EUN1_3457214246', 'EUN1_3456643357', 'EUN1_3456607718', 'EUN1_3456129778', 'EUN1_3455987715', 'EUN1_3455982997', 'EUN1_3455151338', 'EUN1_3455127840', 'EUN1_3455100081', 'EUN1_3454542426', 'EUN1_3453885758', 'EUN1_3452785958', 'EUN1_3452763446', 'EUN1_3452248278'], 'tier': 'IRON', 'rank': 'III'}, {'region': 'eun1', 'matchId': ['EUN1_3468430239', 'EUN1_3468402363', 'EUN1_3467863536', 'EUN1_3467855890', 'EUN1_3467838510', 'EUN1_3467617293', 'EUN1_3467064019', 'EUN1_3466693820', 'EUN1_3466163989', 'EUN1_3466146013', 'EUN1_3465172464', 'EUN1_3464448905', 'EUN1_3463891120', 'EUN1_3463603653', 'EUN1_3463563549', 'EUN1_3463201895', 'EUN1_3463175784', 'EUN1_3463154093', 'EUN1_3463010701', 'EUN1_3462998705'], 'tier': 'IRON', 'rank': 'IV'}, {'region': 'eun1', 'matchId': ['EUN1_3468174923', 'EUN1_3468169973', 'EUN1_3468165018', 'EUN1_3467591944', 'EUN1_3467598263', 'EUN1_3467052611', 'EUN1_3467052476', 'EUN1_3467031396', 'EUN1_3466518224', 'EUN1_3466515292', 'EUN1_3465979249', 'EUN1_3464617792', 'EUN1_3464571130', 'EUN1_3464081223', 'EUN1_3464067170', 'EUN1_3463903340', 'EUN1_3463862068', 'EUN1_3463550665', 'EUN1_3463553343', 'EUN1_3463549328'], 'tier': 'BRONZE', 'rank': 'I'}, {'region': 'eun1', 'matchId': ['EUN1_3467279755', 'EUN1_3466988299', 'EUN1_3466952827', 'EUN1_3466872607', 'EUN1_3466838907', 'EUN1_3466820742', 'EUN1_3466256548', 'EUN1_3466232778', 'EUN1_3466218728', 'EUN1_3466080296', 'EUN1_3465511133', 'EUN1_3465491799', 'EUN1_3465076416', 'EUN1_3465059187', 'EUN1_3465042414', 'EUN1_3465027117', 'EUN1_3464701688', 'EUN1_3464694075', 'EUN1_3464683345', 'EUN1_3464495859'], 'tier': 'BRONZE', 'rank': 'II'}, {'region': 'eun1', 'matchId': ['EUN1_3459859380', 'EUN1_3459842627', 'EUN1_3459833106', 'EUN1_3459429853', 'EUN1_3458118926', 'EUN1_3458092784', 'EUN1_3458074595', 'EUN1_3457988791', 'EUN1_3457975734', 'EUN1_3457968764', 'EUN1_3457889694', 'EUN1_3457868770', 'EUN1_3457855149', 'EUN1_3457401457', 'EUN1_3457379863', 'EUN1_3456872736', 'EUN1_3456856174', 'EUN1_3456799263', 'EUN1_3456641121', 'EUN1_3456621587'], 'tier': 'BRONZE', 'rank': 'III'}, {'region': 'eun1', 'matchId': ['EUN1_3467859292', 'EUN1_3466808486', 'EUN1_3466232287', 'EUN1_3466205943', 'EUN1_3465897360', 'EUN1_3465877269', 'EUN1_3465754109', 'EUN1_3465356633', 'EUN1_3457777245', 'EUN1_3456990677', 'EUN1_3455525457', 'EUN1_3455223141', 'EUN1_3455195232', 'EUN1_3451492757', 'EUN1_3392652012', 'EUN1_3369239914', 'EUN1_3369225237', 'EUN1_3366770195', 'EUN1_3366725251', 'EUN1_3366682093'], 'tier': 'BRONZE', 'rank': 'IV'}, {'region': 'eun1', 'matchId': ['EUN1_3465889424', 'EUN1_3465859458', 'EUN1_3465321673', 'EUN1_3465303057', 'EUN1_3465286762', 'EUN1_3465276288', 'EUN1_3464750242', 'EUN1_3464737825', 'EUN1_3464732621', 'EUN1_3464721607', 'EUN1_3464709697', 'EUN1_3464683580', 'EUN1_3464655793', 'EUN1_3464631988', 'EUN1_3462886498', 'EUN1_3462068873', 'EUN1_3462046528', 'EUN1_3461167252', 'EUN1_3455225570', 'EUN1_3455163566'], 'tier': 'SILVER', 'rank': 'I'}, {'region': 'eun1', 'matchId': ['EUN1_3468470698', 'EUN1_3468455385', 'EUN1_3467991927', 'EUN1_3467822058', 'EUN1_3465208151', 'EUN1_3465183144', 'EUN1_3465141738', 'EUN1_3465010234', 'EUN1_3464970530', 'EUN1_3464944831', 'EUN1_3464584765', 'EUN1_3464572463', 'EUN1_3464554269', 'EUN1_3464304182', 'EUN1_3462858517', 'EUN1_3462828178', 'EUN1_3462796516', 'EUN1_3462268402', 'EUN1_3460384069', 'EUN1_3460377316'], 'tier': 'SILVER', 'rank': 'II'}, {'region': 'eun1', 'matchId': ['EUN1_3464020236', 'EUN1_3463998412', 'EUN1_3463856101', 'EUN1_3463818777', 'EUN1_3460389231', 'EUN1_3460349817', 'EUN1_3460322397', 'EUN1_3460142559', 'EUN1_3460109850', 'EUN1_3459943653', 'EUN1_3459927381', 'EUN1_3459645776', 'EUN1_3459612155', 'EUN1_3459577289', 'EUN1_3459533690', 'EUN1_3457267836', 'EUN1_3457257112', 'EUN1_3457222384', 'EUN1_3456074566', 'EUN1_3456046909'], 'tier': 'SILVER', 'rank': 'III'}, {'region': 'eun1', 'matchId': ['EUN1_3426379507', 'EUN1_3425449558', 'EUN1_3425023162', 'EUN1_3424971565', 'EUN1_3424631425', 'EUN1_3424149966', 'EUN1_3424128181', 'EUN1_3424112810', 'EUN1_3424092733', 'EUN1_3422496736', 'EUN1_3421397373', 'EUN1_3420127503', 'EUN1_3419662719', 'EUN1_3419643128', 'EUN1_3419244106', 'EUN1_3419196558', 'EUN1_3418728048', 'EUN1_3418718668', 'EUN1_3418182478', 'EUN1_3418137394'], 'tier': 'SILVER', 'rank': 'IV'}, {'region': 'eun1', 'matchId': ['EUN1_3463636597', 'EUN1_3460608525', 'EUN1_3460580798', 'EUN1_3460553808', 'EUN1_3447064158', 'EUN1_3447043164', 'EUN1_3447015743', 'EUN1_3447010804', 'EUN1_3437266765', 'EUN1_3437256710', 'EUN1_3437219613', 'EUN1_3437215378', 'EUN1_3437203546', 'EUN1_3437186002', 'EUN1_3437187347', 'EUN1_3436684972', 'EUN1_3436667592', 'EUN1_3436546342', 'EUN1_3436521937', 'EUN1_3436301315'], 'tier': 'GOLD', 'rank': 'I'}, {'region': 'eun1', 'matchId': ['EUN1_3440420172', 'EUN1_3440376162', 'EUN1_3440332468', 'EUN1_3440229047', 'EUN1_3440074066', 'EUN1_3439795559', 'EUN1_3439769454', 'EUN1_3439735338', 'EUN1_3439383080', 'EUN1_3439135996', 'EUN1_3439119358', 'EUN1_3439086529', 'EUN1_3431006420', 'EUN1_3430969867', 'EUN1_3430345313', 'EUN1_3430339352', 'EUN1_3425765656', 'EUN1_3425754235', 'EUN1_3425305392', 'EUN1_3425292516'], 'tier': 'GOLD', 'rank': 'II'}, {'region': 'eun1', 'matchId': ['EUN1_3466479893', 'EUN1_3466472629', 'EUN1_3465933592', 'EUN1_3465912793', 'EUN1_3465875046', 'EUN1_3465836360', 'EUN1_3458464533', 'EUN1_3458442291', 'EUN1_3457888172', 'EUN1_3457869067', 'EUN1_3457834361', 'EUN1_3457780939', 'EUN1_3455203799', 'EUN1_3455185939', 'EUN1_3453895021', 'EUN1_3453870368', 'EUN1_3453832796', 'EUN1_3453395433', 'EUN1_3453397116', 'EUN1_3453378030'], 'tier': 'GOLD', 'rank': 'III'}, {'region': 'eun1', 'matchId': ['EUN1_3468054690', 'EUN1_3466221941', 'EUN1_3465830770', 'EUN1_3465725789', 'EUN1_3465685507', 'EUN1_3465658997', 'EUN1_3465284899', 'EUN1_3465265779', 'EUN1_3465221997', 'EUN1_3465189479', 'EUN1_3465155922', 'EUN1_3465139599', 'EUN1_3464922850', 'EUN1_3464892340', 'EUN1_3464860129', 'EUN1_3464671243', 'EUN1_3464638497', 'EUN1_3464612257', 'EUN1_3464565926', 'EUN1_3464537523'], 'tier': 'GOLD', 'rank': 'IV'}, {'region': 'eun1', 'matchId': ['EUN1_3468467856', 'EUN1_3468273121', 'EUN1_3468253215', 'EUN1_3468212657', 'EUN1_3468212472', 'EUN1_3467515789', 'EUN1_3467488881', 'EUN1_3466978408', 'EUN1_3466946913', 'EUN1_3466944425', 'EUN1_3464603537', 'EUN1_3464556717', 'EUN1_3464538440', 'EUN1_3464519697', 'EUN1_3462892767', 'EUN1_3462877162', 'EUN1_3460373428', 'EUN1_3460346125', 'EUN1_3459693938', 'EUN1_3459698485'], 'tier': 'PLATINUM', 'rank': 'I'}, {'region': 'eun1', 'matchId': ['EUN1_3467529677', 'EUN1_3466993620', 'EUN1_3466976117', 'EUN1_3466939968', 'EUN1_3466448964', 'EUN1_3466402763', 'EUN1_3466375757', 'EUN1_3465355417', 'EUN1_3465354214', 'EUN1_3465324600', 'EUN1_3464677942', 'EUN1_3464670317', 'EUN1_3464017972', 'EUN1_3464025173', 'EUN1_3463965062', 'EUN1_3463933072', 'EUN1_3463892888', 'EUN1_3463465677', 'EUN1_3463449625', 'EUN1_3463416902'], 'tier': 'PLATINUM', 'rank': 'II'}, {'region': 'eun1', 'matchId': ['EUN1_3465116129', 'EUN1_3465094469', 'EUN1_3465075803', 'EUN1_3465053070', 'EUN1_3465038857', 'EUN1_3464848061', 'EUN1_3464852329', 'EUN1_3464841877', 'EUN1_3464836540', 'EUN1_3464820903', 'EUN1_3464816537', 'EUN1_3464807519', 'EUN1_3463969313', 'EUN1_3463944973', 'EUN1_3463352808', 'EUN1_3463329187', 'EUN1_3463276307', 'EUN1_3463174805', 'EUN1_3462806392', 'EUN1_3462793072'], 'tier': 'PLATINUM', 'rank': 'III'}, {'region': 'eun1', 'matchId': ['EUN1_3467909918', 'EUN1_3467883756', 'EUN1_3467384234', 'EUN1_3467360241', 'EUN1_3466784453', 'EUN1_3466143656', 'EUN1_3466147172', 'EUN1_3464427302', 'EUN1_3464405849', 'EUN1_3463822287', 'EUN1_3463559896', 'EUN1_3463260845', 'EUN1_3463252294', 'EUN1_3462996240', 'EUN1_3462638813', 'EUN1_3462426283', 'EUN1_3462100905', 'EUN1_3461853206', 'EUN1_3458229621', 'EUN1_3458214129'], 'tier': 'PLATINUM', 'rank': 'IV'}, {'region': 'eun1', 'matchId': ['EUN1_3467435650', 'EUN1_3467411841', 'EUN1_3467378387', 'EUN1_3467326558', 'EUN1_3467298485', 'EUN1_3467272650', 'EUN1_3467246971', 'EUN1_3467042236', 'EUN1_3466490800', 'EUN1_3466481772', 'EUN1_3466472439', 'EUN1_3466454446', 'EUN1_3465434088', 'EUN1_3465425386', 'EUN1_3465420420', 'EUN1_3462746655', 'EUN1_3462712868', 'EUN1_3462665410', 'EUN1_3462638411', 'EUN1_3462625677'], 'tier': 'DIAMOND', 'rank': 'I'}, {'region': 'eun1', 'matchId': ['EUN1_3465819484', 'EUN1_3465786638', 'EUN1_3465776410', 'EUN1_3465744857', 'EUN1_3465719192', 'EUN1_3465351454', 'EUN1_3465305578', 'EUN1_3465214329', 'EUN1_3465161855', 'EUN1_3465132072', 'EUN1_3465113150', 'EUN1_3465052867', 'EUN1_3464986784', 'EUN1_3464966112', 'EUN1_3464902695', 'EUN1_3464876685', 'EUN1_3464662745', 'EUN1_3464662114', 'EUN1_3464626826', 'EUN1_3464594484'], 'tier': 'DIAMOND', 'rank': 'II'}, {'region': 'eun1', 'matchId': ['EUN1_3460342701', 'EUN1_3460308691', 'EUN1_3460290089', 'EUN1_3460257175', 'EUN1_3459277682', 'EUN1_3458504973', 'EUN1_3457590633', 'EUN1_3457568208', 'EUN1_3457555669', 'EUN1_3453318242', 'EUN1_3453286333', 'EUN1_3453254674', 'EUN1_3453208913', 'EUN1_3452607000', 'EUN1_3452604266', 'EUN1_3452581611', 'EUN1_3452545790', 'EUN1_3452526574', 'EUN1_3452507672', 'EUN1_3452499427'], 'tier': 'DIAMOND', 'rank': 'III'}, {'region': 'kr', 'matchId': ['KR_6740263275', 'KR_6740161107', 'KR_6740052317', 'KR_6739593433', 'KR_6739528337', 'KR_6739476513', 'KR_6739414754', 'KR_6584254505', 'KR_6584198219', 'KR_6581119795', 'KR_6581085510', 'KR_6581029085', 'KR_6580859048', 'KR_6580775348', 'KR_6580715655', 'KR_6577553837', 'KR_6577435045', 'KR_6577368482', 'KR_6483305775', 'KR_6480235831'], 'tier': 'IRON', 'rank': 'I'}, {'region': 'kr', 'matchId': ['KR_6731006862', 'KR_6723191451', 'KR_6723155627', 'KR_6721301273', 'KR_6721267237', 'KR_6721228287', 'KR_6716874155', 'KR_6716861705', 'KR_6712369584', 'KR_6705922955', 'KR_6689987483', 'KR_6689975569', 'KR_6689957203', 'KR_6689927547', 'KR_6689902165', 'KR_6673544272', 'KR_6673486617', 'KR_6652575063', 'KR_6652536014', 'KR_6652485893'], 'tier': 'IRON', 'rank': 'II'}, {'region': 'kr', 'matchId': ['KR_6722153811', 'KR_6722100463', 'KR_6722087175', 'KR_6714501395', 'KR_6714444013', 'KR_6714340435', 'KR_6713885747', 'KR_6713842994', 'KR_6713783704', 'KR_6713743165', 'KR_6713708768', 'KR_6713697974', 'KR_6703280207', 'KR_6703175624', 'KR_6703076831', 'KR_6700962667', 'KR_6700905807', 'KR_6700875881', 'KR_6700824990', 'KR_6699500520'], 'tier': 'IRON', 'rank': 'III'}, {'region': 'kr', 'matchId': ['KR_6684714000', 'KR_6684670611', 'KR_6683501865', 'KR_6683472540', 'KR_6683406522', 'KR_6683100623', 'KR_6683038009', 'KR_6677798881', 'KR_6677747671', 'KR_6672633173', 'KR_6670432031', 'KR_6669525099', 'KR_6669482386', 'KR_6669184020', 'KR_6669148838', 'KR_6669102521', 'KR_6669054874', 'KR_6668975591', 'KR_6668853894', 'KR_6668765986'], 'tier': 'IRON', 'rank': 'IV'}, {'region': 'kr', 'matchId': ['KR_6735421244', 'KR_6732837364', 'KR_6704654436', 'KR_6703525230', 'KR_6703474387', 'KR_6693180615', 'KR_6692998441', 'KR_6691891111', 'KR_6691853992', 'KR_6689056981', 'KR_6685006111', 'KR_6684610116', 'KR_6684554308', 'KR_6684521373', 'KR_6684332896', 'KR_6684330040', 'KR_6684309857', 'KR_6684314075', 'KR_6682545676', 'KR_6682396709'], 'tier': 'BRONZE', 'rank': 'I'}, {'region': 'kr', 'matchId': ['KR_6738989072', 'KR_6735639986', 'KR_6733696138', 'KR_6719089043', 'KR_6719052501', 'KR_6719016397', 'KR_6719009527', 'KR_6717500248', 'KR_6717434055', 'KR_6717363451', 'KR_6717327220', 'KR_6717301176', 'KR_6714276429', 'KR_6714192236', 'KR_6714135668', 'KR_6714088884', 'KR_6711398472', 'KR_6711297847', 'KR_6711087536', 'KR_6710222013'], 'tier': 'BRONZE', 'rank': 'II'}, {'region': 'kr', 'matchId': ['KR_6739054852', 'KR_6739026124', 'KR_6738988947', 'KR_6738981059', 'KR_6738937478', 'KR_6738920138', 'KR_6738898879', 'KR_6738307779', 'KR_6738234299', 'KR_6738149540', 'KR_6738068375', 'KR_6731167336', 'KR_6731157208', 'KR_6724970011', 'KR_6724891504', 'KR_6724775981', 'KR_6724697558', 'KR_6724593284', 'KR_6722115983', 'KR_6722070636'], 'tier': 'BRONZE', 'rank': 'III'}, {'region': 'kr', 'matchId': ['KR_6733519412', 'KR_6733443869', 'KR_6732442698', 'KR_6732380775', 'KR_6731404970', 'KR_6731282475', 'KR_6729354376', 'KR_6727394911', 'KR_6727339688', 'KR_6727297376', 'KR_6725049807', 'KR_6725016758', 'KR_6721330435', 'KR_6721283818', 'KR_6716575033', 'KR_6716497733', 'KR_6716395603', 'KR_6714458518', 'KR_6713140685', 'KR_6713091887'], 'tier': 'BRONZE', 'rank': 'IV'}, {'region': 'kr', 'matchId': ['KR_6725347922', 'KR_6711774230', 'KR_6711712017', 'KR_6666076298', 'KR_6666028441', 'KR_6664695787', 'KR_6664642327', 'KR_6664628405', 'KR_6664594813', 'KR_6661305408', 'KR_6661258875', 'KR_6661207282', 'KR_6661133626', 'KR_6378263237', 'KR_6378208122', 'KR_6341832361', 'KR_6324917614', 'KR_6318908427', 'KR_6318835192', 'KR_6167808495'], 'tier': 'SILVER', 'rank': 'I'}, {'region': 'kr', 'matchId': ['KR_6726045875', 'KR_6726016136', 'KR_6707262265', 'KR_6706801717', 'KR_6706680845', 'KR_6706602188', 'KR_6706521986', 'KR_6698885098', 'KR_6698831919', 'KR_6698789924', 'KR_6698760586', 'KR_6625163180', 'KR_6625152352', 'KR_6625116360', 'KR_6610803476', 'KR_6547984901', 'KR_6538464757', 'KR_6538427682', 'KR_6538315423', 'KR_6535631653'], 'tier': 'SILVER', 'rank': 'II'}, {'region': 'kr', 'matchId': ['KR_6739570188', 'KR_6738846452', 'KR_6738830472', 'KR_6738768119', 'KR_6733006346', 'KR_6732994218', 'KR_6732971263', 'KR_6732951546', 'KR_6730986433', 'KR_6730975687', 'KR_6730967581', 'KR_6730953479', 'KR_6730933472', 'KR_6730909502', 'KR_6726988874', 'KR_6726983263', 'KR_6726973209', 'KR_6726942620', 'KR_6725874295', 'KR_6725855713'], 'tier': 'SILVER', 'rank': 'III'}, {'region': 'kr', 'matchId': ['KR_6737315447', 'KR_6737311055', 'KR_6737293943', 'KR_6734782140', 'KR_6734773248', 'KR_6734752274', 'KR_6734737021', 'KR_6734707661', 'KR_6734671634', 'KR_6734643748', 'KR_6733064012', 'KR_6733046352', 'KR_6732194690', 'KR_6732092772', 'KR_6731999927', 'KR_6730918955', 'KR_6730885725', 'KR_6728978252', 'KR_6728962814', 'KR_6728961078'], 'tier': 'SILVER', 'rank': 'IV'}, {'region': 'kr', 'matchId': ['KR_6723387242', 'KR_6723358534', 'KR_6723345118', 'KR_6723318264', 'KR_6723297229', 'KR_6723281211', 'KR_6709796893', 'KR_6709766477', 'KR_6709703342', 'KR_6709400237', 'KR_6709377246', 'KR_6709353539', 'KR_6709334560', 'KR_6709321832', 'KR_6692948836', 'KR_6692948039', 'KR_6687010980', 'KR_6686956960', 'KR_6686880502', 'KR_6686827509'], 'tier': 'GOLD', 'rank': 'I'}, {'region': 'kr', 'matchId': ['KR_6739237462', 'KR_6739190556', 'KR_6739149176', 'KR_6739105041', 'KR_6739071893', 'KR_6739037319', 'KR_6734654425', 'KR_6734605391', 'KR_6734553753', 'KR_6734514665', 'KR_6733828518', 'KR_6733693975', 'KR_6733195207', 'KR_6733183017', 'KR_6730446594', 'KR_6729766590', 'KR_6729711528', 'KR_6729614331', 'KR_6729285677', 'KR_6729202912'], 'tier': 'GOLD', 'rank': 'II'}, {'region': 'kr', 'matchId': ['KR_6735476118', 'KR_6735403900', 'KR_6735364888', 'KR_6735307640', 'KR_6735259121', 'KR_6733351397', 'KR_6731114591', 'KR_6731101079', 'KR_6704223196', 'KR_6703153115', 'KR_6703018694', 'KR_6702871400', 'KR_6702794442', 'KR_6702741330', 'KR_6702696185', 'KR_6702633156', 'KR_6702591358', 'KR_6702527625', 'KR_6702099314', 'KR_6701138620'], 'tier': 'GOLD', 'rank': 'III'}, {'region': 'kr', 'matchId': ['KR_6728778865', 'KR_6728735784', 'KR_6728655933', 'KR_6727044149', 'KR_6727018077', 'KR_6726949831', 'KR_6726936149', 'KR_6696435968', 'KR_6694822757', 'KR_6694790765', 'KR_6673852910', 'KR_6673812648', 'KR_6673653125', 'KR_6673580241', 'KR_6673391846', 'KR_6661912061', 'KR_6661456067', 'KR_6661435934', 'KR_6661429644', 'KR_6661414768'], 'tier': 'GOLD', 'rank': 'IV'}, {'region': 'kr', 'matchId': ['KR_6715920684', 'KR_6715846769', 'KR_6715782774', 'KR_6681951457', 'KR_6681861499', 'KR_6681743326', 'KR_6681667127', 'KR_6681606779', 'KR_6675815190', 'KR_6675754334', 'KR_6601992925', 'KR_6600903053', 'KR_6600793041', 'KR_6600748106', 'KR_6600744553', 'KR_6600544854', 'KR_6600521312', 'KR_6599994112', 'KR_6599927340', 'KR_6599106513'], 'tier': 'PLATINUM', 'rank': 'I'}, {'region': 'kr', 'matchId': ['KR_6694532902', 'KR_6685470805', 'KR_6685428113', 'KR_6684240164', 'KR_6683394382', 'KR_6681695993', 'KR_6681648894', 'KR_6681619313', 'KR_6681562804', 'KR_6680629762', 'KR_6680625739', 'KR_6677893476', 'KR_6677882449', 'KR_6677752209', 'KR_6677728063', 'KR_6677488392', 'KR_6677424882', 'KR_6676773656', 'KR_6676756613', 'KR_6676719618'], 'tier': 'PLATINUM', 'rank': 'II'}, {'region': 'kr', 'matchId': ['KR_6738739464', 'KR_6738668588', 'KR_6738593097', 'KR_6738477784', 'KR_6738402780', 'KR_6738320906', 'KR_6738275047', 'KR_6737985281', 'KR_6737907021', 'KR_6731139590', 'KR_6731097839', 'KR_6731067481', 'KR_6731009421', 'KR_6730994851', 'KR_6730978238', 'KR_6730951018', 'KR_6729441002', 'KR_6729338959', 'KR_6729176678', 'KR_6729147156'], 'tier': 'PLATINUM', 'rank': 'III'}, {'region': 'kr', 'matchId': ['KR_6723005078', 'KR_6722936858', 'KR_6722841082', 'KR_6722744703', 'KR_6722643319', 'KR_6722530206', 'KR_6722447857', 'KR_6722387019', 'KR_6675748948', 'KR_6675692502', 'KR_6675630292', 'KR_6675561260', 'KR_6675520027', 'KR_6675457881', 'KR_6675420896', 'KR_6675379661', 'KR_6674394441', 'KR_6674362204', 'KR_6674282562', 'KR_6672470825'], 'tier': 'PLATINUM', 'rank': 'IV'}, {'region': 'kr', 'matchId': ['KR_6714814495', 'KR_6712147129', 'KR_6707382518', 'KR_6707318391', 'KR_6697018840', 'KR_6696850487', 'KR_6696830660', 'KR_6695244907', 'KR_6694935714', 'KR_6694925549', 'KR_6694910874', 'KR_6692953290', 'KR_6692937990', 'KR_6692936751', 'KR_6692935727', 'KR_6692929484', 'KR_6692805377', 'KR_6692728688', 'KR_6690867824', 'KR_6690827666'], 'tier': 'DIAMOND', 'rank': 'I'}, {'region': 'kr', 'matchId': ['KR_6664933271', 'KR_6662850449', 'KR_6661494169', 'KR_6661479244', 'KR_6656193145', 'KR_6652746568', 'KR_6652730796', 'KR_6652719501', 'KR_6652704854', 'KR_6652701529', 'KR_6652699109', 'KR_6652687090', 'KR_6650945213', 'KR_6650919123', 'KR_6650884677', 'KR_6650875682', 'KR_6650865666', 'KR_6649066648', 'KR_6649033127', 'KR_6647182333'], 'tier': 'DIAMOND', 'rank': 'II'}, {'region': 'kr', 'matchId': ['KR_6733735981', 'KR_6733693919', 'KR_6733637878', 'KR_6733596733', 'KR_6733532773', 'KR_6733472666', 'KR_6733402896', 'KR_6733299691', 'KR_6733241522', 'KR_6733195868', 'KR_6733151679', 'KR_6733135156', 'KR_6733113348', 'KR_6733066649', 'KR_6732730319', 'KR_6732637955', 'KR_6732550389', 'KR_6732482029', 'KR_6732350799', 'KR_6732271142'], 'tier': 'DIAMOND', 'rank': 'III'}, {'region': 'kr', 'matchId': ['KR_6735118916', 'KR_6732360718', 'KR_6730773691', 'KR_6730704697', 'KR_6726158975', 'KR_6726145098', 'KR_6724592340', 'KR_6720824634', 'KR_6719874771', 'KR_6719855040', 'KR_6719813454', 'KR_6719733473', 'KR_6718188249', 'KR_6717291518', 'KR_6705053840', 'KR_6705001978', 'KR_6703739544', 'KR_6703718928', 'KR_6703703871', 'KR_6703694624'], 'tier': 'DIAMOND', 'rank': 'IV'}, {'region': 'br1', 'matchId': ['BR1_2814265537', 'BR1_2813858773', 'BR1_2813410421', 'BR1_2813395253', 'BR1_2807120793', 'BR1_2807112636', 'BR1_2807099891', 'BR1_2806617302', 'BR1_2806597633', 'BR1_2806571821', 'BR1_2806553146', 'BR1_2805647328', 'BR1_2805637070', 'BR1_2805617641', 'BR1_2805587958', 'BR1_2804369527', 'BR1_2804347200', 'BR1_2804314247', 'BR1_2804278660', 'BR1_2804158020'], 'tier': 'IRON', 'rank': 'I'}, {'region': 'br1', 'matchId': ['BR1_2814782432', 'BR1_2814757991', 'BR1_2814733634', 'BR1_2814706067', 'BR1_2814665382', 'BR1_2814636819', 'BR1_2814617682', 'BR1_2814342010', 'BR1_2814323133', 'BR1_2814299774', 'BR1_2814274755', 'BR1_2814236963', 'BR1_2814230944', 'BR1_2814217118', 'BR1_2814194987', 'BR1_2814189318', 'BR1_2814172806', 'BR1_2814159185', 'BR1_2814018339', 'BR1_2814014084'], 'tier': 'IRON', 'rank': 'II'}, {'region': 'br1', 'matchId': ['BR1_2815476938', 'BR1_2815472136', 'BR1_2815455923', 'BR1_2815422308', 'BR1_2815414808', 'BR1_2815402645', 'BR1_2815263077', 'BR1_2815220836', 'BR1_2815161897', 'BR1_2815134143', 'BR1_2815103460', 'BR1_2815068210', 'BR1_2815049029', 'BR1_2815012139', 'BR1_2814993098', 'BR1_2814968560', 'BR1_2814966242', 'BR1_2814946708', 'BR1_2814944638', 'BR1_2814921087'], 'tier': 'IRON', 'rank': 'III'}, {'region': 'br1', 'matchId': ['BR1_2815441643', 'BR1_2815403355', 'BR1_2815387344', 'BR1_2815002054', 'BR1_2814913339', 'BR1_2814900137', 'BR1_2814886337', 'BR1_2814625812', 'BR1_2814588648', 'BR1_2814138159', 'BR1_2814086512', 'BR1_2813945860', 'BR1_2813940101', 'BR1_2813932204', 'BR1_2813927333', 'BR1_2813669099', 'BR1_2813630238', 'BR1_2813124222', 'BR1_2813102954', 'BR1_2813103072'], 'tier': 'IRON', 'rank': 'IV'}, {'region': 'br1', 'matchId': ['BR1_2815492015', 'BR1_2815045053', 'BR1_2792026288', 'BR1_2792012970', 'BR1_2792002329', 'BR1_2783107187', 'BR1_2783090683', 'BR1_2783070179', 'BR1_2775988198', 'BR1_2775961449', 'BR1_2774902607', 'BR1_2774877587', 'BR1_2769549548', 'BR1_2769539937', 'BR1_2769535176', 'BR1_2769517348', 'BR1_2769501972', 'BR1_2769471990', 'BR1_2769223105', 'BR1_2769192627'], 'tier': 'BRONZE', 'rank': 'I'}, {'region': 'br1', 'matchId': ['BR1_2815480618', 'BR1_2815458576', 'BR1_2815452798', 'BR1_2815443046', 'BR1_2815423381', 'BR1_2815405597', 'BR1_2815196001', 'BR1_2815182983', 'BR1_2814679243', 'BR1_2814643033', 'BR1_2814618577', 'BR1_2814244750', 'BR1_2814209491', 'BR1_2814192546', 'BR1_2813294931', 'BR1_2813266458', 'BR1_2813231285', 'BR1_2812714512', 'BR1_2812672236', 'BR1_2812642137'], 'tier': 'BRONZE', 'rank': 'II'}, {'region': 'br1', 'matchId': ['BR1_2814869751', 'BR1_2814412635', 'BR1_2814407491', 'BR1_2812340330', 'BR1_2812321397', 'BR1_2812294832', 'BR1_2812260751', 'BR1_2811735554', 'BR1_2811720519', 'BR1_2811704455', 'BR1_2811649777', 'BR1_2811355746', 'BR1_2811349458', 'BR1_2811339377', 'BR1_2811329341', 'BR1_2811323266', 'BR1_2810395175', 'BR1_2810393159', 'BR1_2810382935', 'BR1_2808746051'], 'tier': 'BRONZE', 'rank': 'III'}, {'region': 'br1', 'matchId': ['BR1_2814309877', 'BR1_2814290704', 'BR1_2814092214', 'BR1_2814075729', 'BR1_2813830275', 'BR1_2813199462', 'BR1_2813174796', 'BR1_2812960604', 'BR1_2812956112', 'BR1_2812934221', 'BR1_2812734626', 'BR1_2812650776', 'BR1_2812624719', 'BR1_2812574183', 'BR1_2812554587', 'BR1_2812523045', 'BR1_2812507277', 'BR1_2812387715', 'BR1_2812347866', 'BR1_2812338811'], 'tier': 'BRONZE', 'rank': 'IV'}, {'region': 'br1', 'matchId': ['BR1_2794689028', 'BR1_2794677247', 'BR1_2794666294', 'BR1_2794634812', 'BR1_2794625736', 'BR1_2794577939', 'BR1_2790914210', 'BR1_2790895424', 'BR1_2790875933', 'BR1_2790858961', 'BR1_2790841980', 'BR1_2790824970', 'BR1_2790812291', 'BR1_2790791945', 'BR1_2787612006', 'BR1_2784340943', 'BR1_2784215922', 'BR1_2784215540', 'BR1_2784212257', 'BR1_2784180750'], 'tier': 'SILVER', 'rank': 'I'}, {'region': 'br1', 'matchId': ['BR1_2803468423', 'BR1_2789426699', 'BR1_2785911275', 'BR1_2785895571', 'BR1_2782036861', 'BR1_2781852718', 'BR1_2780243254', 'BR1_2780220560', 'BR1_2779930711', 'BR1_2779903715', 'BR1_2779868490', 'BR1_2778985376', 'BR1_2778971066', 'BR1_2775894233', 'BR1_2771675226', 'BR1_2763350093', 'BR1_2762653828', 'BR1_2762646555', 'BR1_2762639196', 'BR1_2762240306'], 'tier': 'SILVER', 'rank': 'II'}, {'region': 'br1', 'matchId': ['BR1_2815456183', 'BR1_2815061808', 'BR1_2812599786', 'BR1_2812588155', 'BR1_2812575507', 'BR1_2812475240', 'BR1_2812460932', 'BR1_2812445890', 'BR1_2812446394', 'BR1_2812074907', 'BR1_2812053533', 'BR1_2812030140', 'BR1_2804673228', 'BR1_2801458617', 'BR1_2801427919', 'BR1_2801411134', 'BR1_2801294678', 'BR1_2801277200', 'BR1_2801250793', 'BR1_2801222201'], 'tier': 'SILVER', 'rank': 'III'}, {'region': 'br1', 'matchId': ['BR1_2814543946', 'BR1_2814534576', 'BR1_2814515149', 'BR1_2814407230', 'BR1_2814399632', 'BR1_2814095354', 'BR1_2814062860', 'BR1_2813924710', 'BR1_2813478623', 'BR1_2813470649', 'BR1_2813169302', 'BR1_2813152309', 'BR1_2813125117', 'BR1_2813056667', 'BR1_2813047674', 'BR1_2813033778', 'BR1_2813025647', 'BR1_2812806593', 'BR1_2812766292', 'BR1_2812729222'], 'tier': 'SILVER', 'rank': 'IV'}, {'region': 'br1', 'matchId': ['BR1_2814202639', 'BR1_2814187171', 'BR1_2813380910', 'BR1_2813373438', 'BR1_2813360310', 'BR1_2812714526', 'BR1_2812695775', 'BR1_2812210984', 'BR1_2812199125', 'BR1_2812103487', 'BR1_2811911827', 'BR1_2810729498', 'BR1_2810714935', 'BR1_2810701510', 'BR1_2805250700', 'BR1_2805174190', 'BR1_2805154078', 'BR1_2804542356', 'BR1_2804528436', 'BR1_2799757969'], 'tier': 'GOLD', 'rank': 'I'}, {'region': 'br1', 'matchId': ['BR1_2814921505', 'BR1_2814920433', 'BR1_2814600352', 'BR1_2814575522', 'BR1_2813309137', 'BR1_2813279414', 'BR1_2811536510', 'BR1_2811506819', 'BR1_2809352357', 'BR1_2809339415', 'BR1_2809317431', 'BR1_2809289935', 'BR1_2808012641', 'BR1_2807986832', 'BR1_2807966050', 'BR1_2807495777', 'BR1_2807467863', 'BR1_2806943934', 'BR1_2806694733', 'BR1_2806212170'], 'tier': 'GOLD', 'rank': 'II'}, {'region': 'br1', 'matchId': ['BR1_2815255923', 'BR1_2815224222', 'BR1_2814773010', 'BR1_2814748667', 'BR1_2814656920', 'BR1_2814629454', 'BR1_2814610644', 'BR1_2814573980', 'BR1_2814554850', 'BR1_2814542560', 'BR1_2814525850', 'BR1_2814514061', 'BR1_2814183933', 'BR1_2814164302', 'BR1_2814134457', 'BR1_2814112598', 'BR1_2814097276', 'BR1_2814088991', 'BR1_2813728936', 'BR1_2813701548'], 'tier': 'GOLD', 'rank': 'III'}, {'region': 'br1', 'matchId': ['BR1_2815377342', 'BR1_2815370711', 'BR1_2815367933', 'BR1_2815366491', 'BR1_2814799155', 'BR1_2814781210', 'BR1_2814743985', 'BR1_2814362358', 'BR1_2814351500', 'BR1_2813896483', 'BR1_2813863781', 'BR1_2813850595', 'BR1_2813836109', 'BR1_2813807901', 'BR1_2813430295', 'BR1_2813417220', 'BR1_2812962289', 'BR1_2812950519', 'BR1_2812931264', 'BR1_2812894640'], 'tier': 'GOLD', 'rank': 'IV'}, {'region': 'br1', 'matchId': ['BR1_2815097616', 'BR1_2815088279', 'BR1_2815070727', 'BR1_2815062010', 'BR1_2815043720', 'BR1_2815034636', 'BR1_2814937766', 'BR1_2814930783', 'BR1_2814918536', 'BR1_2814912578', 'BR1_2814867852', 'BR1_2814870253', 'BR1_2814866410', 'BR1_2814224606', 'BR1_2811275049', 'BR1_2811267036', 'BR1_2811254198', 'BR1_2811238195', 'BR1_2811224035', 'BR1_2811203696'], 'tier': 'PLATINUM', 'rank': 'I'}, {'region': 'br1', 'matchId': ['BR1_2815397742', 'BR1_2815207894', 'BR1_2814677764', 'BR1_2814634190', 'BR1_2814178451', 'BR1_2814028241', 'BR1_2813994221', 'BR1_2813701682', 'BR1_2813280213', 'BR1_2812840724', 'BR1_2812789520', 'BR1_2812691400', 'BR1_2812629921', 'BR1_2812605374', 'BR1_2812555694', 'BR1_2812512090', 'BR1_2812432669', 'BR1_2812022256', 'BR1_2811966513', 'BR1_2811962286'], 'tier': 'PLATINUM', 'rank': 'II'}, {'region': 'br1', 'matchId': ['BR1_2814787505', 'BR1_2814768525', 'BR1_2814741649', 'BR1_2814674679', 'BR1_2814646688', 'BR1_2814632048', 'BR1_2814602711', 'BR1_2814587738', 'BR1_2814577639', 'BR1_2814148804', 'BR1_2814125616', 'BR1_2814113060', 'BR1_2812899699', 'BR1_2812875712', 'BR1_2812611414', 'BR1_2812585778', 'BR1_2812033143', 'BR1_2811912500', 'BR1_2811896449', 'BR1_2810213833'], 'tier': 'PLATINUM', 'rank': 'III'}, {'region': 'br1', 'matchId': ['BR1_2815330977', 'BR1_2815316390', 'BR1_2815291660', 'BR1_2815273133', 'BR1_2815255221', 'BR1_2815230596', 'BR1_2815211209', 'BR1_2812389818', 'BR1_2812381980', 'BR1_2812381282', 'BR1_2812359617', 'BR1_2812336538', 'BR1_2812315666', 'BR1_2812309049', 'BR1_2812293281', 'BR1_2812262259', 'BR1_2812244794', 'BR1_2794570513', 'BR1_2794544020', 'BR1_2794512261'], 'tier': 'PLATINUM', 'rank': 'IV'}, {'region': 'br1', 'matchId': ['BR1_2815324856', 'BR1_2815311802', 'BR1_2809303742', 'BR1_2809281361', 'BR1_2809259976', 'BR1_2809249170', 'BR1_2809136735', 'BR1_2809117673', 'BR1_2809104126', 'BR1_2809085516', 'BR1_2809070112', 'BR1_2809054173', 'BR1_2809025710', 'BR1_2809013573', 'BR1_2808992425', 'BR1_2808936790', 'BR1_2808919414', 'BR1_2808908608', 'BR1_2808909107', 'BR1_2808656710'], 'tier': 'DIAMOND', 'rank': 'I'}, {'region': 'br1', 'matchId': ['BR1_2814726447', 'BR1_2814709105', 'BR1_2813255420', 'BR1_2812456081', 'BR1_2812431266', 'BR1_2811707937', 'BR1_2811692643', 'BR1_2811223391', 'BR1_2811092951', 'BR1_2810597044', 'BR1_2810296582', 'BR1_2810280149', 'BR1_2809690738', 'BR1_2809665132', 'BR1_2809243304', 'BR1_2809204853', 'BR1_2808048083', 'BR1_2807431514', 'BR1_2807051400', 'BR1_2806585328'], 'tier': 'DIAMOND', 'rank': 'II'}, {'region': 'br1', 'matchId': ['BR1_2814814892', 'BR1_2814807332', 'BR1_2814797300', 'BR1_2814784558', 'BR1_2814701872', 'BR1_2814683814', 'BR1_2814665475', 'BR1_2814649775', 'BR1_2814345566', 'BR1_2814332904', 'BR1_2813843425', 'BR1_2813828603', 'BR1_2813810931', 'BR1_2813797664', 'BR1_2813786357', 'BR1_2813761234', 'BR1_2813440201', 'BR1_2813437079', 'BR1_2813431103', 'BR1_2813427262'], 'tier': 'DIAMOND', 'rank': 'III'}, {'region': 'br1', 'matchId': ['BR1_2815286837', 'BR1_2814638051', 'BR1_2814301880', 'BR1_2814278580', 'BR1_2814255429', 'BR1_2814231247', 'BR1_2814202201', 'BR1_2813777786', 'BR1_2813682419', 'BR1_2813658943', 'BR1_2813382104', 'BR1_2813359404', 'BR1_2813175683', 'BR1_2813158922', 'BR1_2812884882', 'BR1_2812850714', 'BR1_2812798855', 'BR1_2812785425', 'BR1_2812736802', 'BR1_2812337600'], 'tier': 'DIAMOND', 'rank': 'IV'}, {'region': 'la1', 'matchId': ['LA1_1439745401', 'LA1_1438455136', 'LA1_1438439111', 'LA1_1438416651', 'LA1_1438149844', 'LA1_1438124449', 'LA1_1438112292', 'LA1_1438094057', 'LA1_1438071532', 'LA1_999091629', 'LA1_998985385', 'LA1_998937188', 'LA1_995581285', 'LA1_1059596251', 'LA1_1058486379', 'LA1_1058472909', 'LA1_1058470804', 'LA1_1057254082', 'LA1_1057212912', 'LA1_1057198413'], 'tier': 'IRON', 'rank': 'I'}, {'region': 'la1', 'matchId': ['LA1_1421284284', 'LA1_1421259521', 'LA1_1421246579', 'LA1_1421230547', 'LA1_1421212986', 'LA1_1421160892', 'LA1_1421142640', 'LA1_1421125943', 'LA1_1421104883', 'LA1_1415665880', 'LA1_1415640545', 'LA1_1415613962', 'LA1_1292239438', 'LA1_1292245380', 'LA1_1044107191', 'LA1_1004761653'], 'tier': 'IRON', 'rank': 'II'}, {'region': 'la1', 'matchId': ['LA1_1440577875', 'LA1_1440564343', 'LA1_1440544659', 'LA1_1440528972', 'LA1_1440496867', 'LA1_1440474582', 'LA1_1438549586', 'LA1_1438528885', 'LA1_1438515265', 'LA1_1438346132', 'LA1_1438336765', 'LA1_1438336148', 'LA1_1438324360', 'LA1_1438253484', 'LA1_1438240059', 'LA1_1438211977', 'LA1_1438194148', 'LA1_1437988214', 'LA1_1437975331', 'LA1_1437917397'], 'tier': 'IRON', 'rank': 'III'}, {'region': 'la1', 'matchId': ['LA1_1442515503', 'LA1_1442498414', 'LA1_1441325000', 'LA1_1441316102', 'LA1_1441297477', 'LA1_1441283081', 'LA1_1441272418', 'LA1_1441251819', 'LA1_1440981473', 'LA1_1440972108', 'LA1_1440951549', 'LA1_1440937962', 'LA1_1440928643', 'LA1_1440912542', 'LA1_1440897571', 'LA1_1438740867', 'LA1_1438713948', 'LA1_1438705412', 'LA1_1438693494', 'LA1_1438688880'], 'tier': 'IRON', 'rank': 'IV'}, {'region': 'la1', 'matchId': ['LA1_1440817526', 'LA1_1440723083', 'LA1_1440706161', 'LA1_1440692922', 'LA1_1440691234', 'LA1_1436251298', 'LA1_1436120614', 'LA1_1436105406', 'LA1_1436086091', 'LA1_1436062810', 'LA1_1436048518', 'LA1_1433684484', 'LA1_1433647179', 'LA1_1433636101', 'LA1_1433615158', 'LA1_1433590507', 'LA1_1433571776', 'LA1_1430752802', 'LA1_1430704307', 'LA1_1430698586'], 'tier': 'BRONZE', 'rank': 'I'}, {'region': 'la1', 'matchId': ['LA1_1442459425', 'LA1_1442442886', 'LA1_1442424794', 'LA1_1442187487', 'LA1_1442172330', 'LA1_1442157137', 'LA1_1442145173', 'LA1_1442129459', 'LA1_1441549422', 'LA1_1441535096', 'LA1_1441516412', 'LA1_1440268597', 'LA1_1440259610', 'LA1_1440239516', 'LA1_1440216461', 'LA1_1440205588', 'LA1_1440183325', 'LA1_1440172056', 'LA1_1440159511', 'LA1_1440156035'], 'tier': 'BRONZE', 'rank': 'II'}, {'region': 'la1', 'matchId': ['LA1_1433557826', 'LA1_1433538512', 'LA1_1433517197', 'LA1_1433503808', 'LA1_1433493931', 'LA1_1433290467', 'LA1_1433259199', 'LA1_1433245541', 'LA1_1430996477', 'LA1_1430988077', 'LA1_1430960849', 'LA1_1430954999', 'LA1_1430939087', 'LA1_1429993248', 'LA1_1429642081', 'LA1_1429619465', 'LA1_1428927132', 'LA1_1428905288', 'LA1_1428862995', 'LA1_1428853185'], 'tier': 'BRONZE', 'rank': 'III'}, {'region': 'la1', 'matchId': ['LA1_1414483813', 'LA1_1414461003', 'LA1_1414433075', 'LA1_1414408693', 'LA1_1414399832', 'LA1_1414335765', 'LA1_1414315269', 'LA1_1303597744', 'LA1_1303576782', 'LA1_1303555672', 'LA1_1295730452', 'LA1_1295698545', 'LA1_1295712144', 'LA1_1185728862', 'LA1_1185755951', 'LA1_1176908056', 'LA1_1176896060', 'LA1_1163236462', 'LA1_1163202068', 'LA1_1163177707'], 'tier': 'BRONZE', 'rank': 'IV'}, {'region': 'la1', 'matchId': ['LA1_1442588594', 'LA1_1442580130', 'LA1_1442509418', 'LA1_1442481855', 'LA1_1442472243', 'LA1_1441584499', 'LA1_1441567051', 'LA1_1441478842', 'LA1_1441001642', 'LA1_1441001505', 'LA1_1441001112', 'LA1_1441000077', 'LA1_1440996573', 'LA1_1440992833', 'LA1_1440990292', 'LA1_1440982413', 'LA1_1440974405', 'LA1_1440255186', 'LA1_1440232957', 'LA1_1440218457'], 'tier': 'SILVER', 'rank': 'I'}, {'region': 'la1', 'matchId': ['LA1_1441896225', 'LA1_1441871751', 'LA1_1441857155', 'LA1_1441845957', 'LA1_1441541879', 'LA1_1441526716', 'LA1_1439907635', 'LA1_1439894289', 'LA1_1439874536', 'LA1_1439561270', 'LA1_1439535737', 'LA1_1439518458', 'LA1_1439503590', 'LA1_1439502077', 'LA1_1439297213', 'LA1_1439268049', 'LA1_1438475308', 'LA1_1438463314', 'LA1_1438450079', 'LA1_1437827991'], 'tier': 'SILVER', 'rank': 'II'}, {'region': 'la1', 'matchId': ['LA1_1438429831', 'LA1_1438414843', 'LA1_1429735511', 'LA1_1429729615', 'LA1_1429722694', 'LA1_1426699614', 'LA1_1409589870', 'LA1_1408169251', 'LA1_1408160389', 'LA1_1408147416', 'LA1_1399842220', 'LA1_1399819293', 'LA1_1394316610', 'LA1_1394312305', 'LA1_1394301323', 'LA1_1394297023', 'LA1_1393957833', 'LA1_1393195465', 'LA1_1393184883', 'LA1_1393177191'], 'tier': 'SILVER', 'rank': 'III'}, {'region': 'la1', 'matchId': ['LA1_1441194013', 'LA1_1441180266', 'LA1_1441162666', 'LA1_1441156073', 'LA1_1441147375', 'LA1_1441032623', 'LA1_1440448189', 'LA1_1440438964', 'LA1_1440066592', 'LA1_1437743441', 'LA1_1437737032', 'LA1_1437689570', 'LA1_1437681568', 'LA1_1437169566', 'LA1_1437156119', 'LA1_1437040098', 'LA1_1436524740', 'LA1_1435883793', 'LA1_1435227812', 'LA1_1435216448'], 'tier': 'SILVER', 'rank': 'IV'}, {'region': 'la1', 'matchId': ['LA1_1442705071', 'LA1_1442696556', 'LA1_1442687192', 'LA1_1442678662', 'LA1_1442604512', 'LA1_1442599263', 'LA1_1442377652', 'LA1_1442365502', 'LA1_1442357148', 'LA1_1442285736', 'LA1_1442276803', 'LA1_1442046980', 'LA1_1442046316', 'LA1_1442038766', 'LA1_1441958833', 'LA1_1441946557', 'LA1_1441926207', 'LA1_1441869795', 'LA1_1441847799', 'LA1_1441788320'], 'tier': 'GOLD', 'rank': 'I'}, {'region': 'la1', 'matchId': ['LA1_1428020824', 'LA1_1427661595', 'LA1_1427646817', 'LA1_1427341418', 'LA1_1427073770', 'LA1_1426979722', 'LA1_1426592346', 'LA1_1424887130', 'LA1_1424877482', 'LA1_1424857489', 'LA1_1424841391', 'LA1_1422381826', 'LA1_1422368348', 'LA1_1422336686', 'LA1_1421554900', 'LA1_1421539928', 'LA1_1421526295', 'LA1_1356544308', 'LA1_1356532095', 'LA1_1356517285'], 'tier': 'GOLD', 'rank': 'II'}, {'region': 'la1', 'matchId': ['LA1_1442942084', 'LA1_1442936475', 'LA1_1442927153', 'LA1_1442904841', 'LA1_1442889086', 'LA1_1442276998', 'LA1_1442277092', 'LA1_1442261862', 'LA1_1442249732', 'LA1_1442232627', 'LA1_1442212525', 'LA1_1441982275', 'LA1_1441976863', 'LA1_1441979318', 'LA1_1441972691', 'LA1_1441968440', 'LA1_1441957992', 'LA1_1441952774', 'LA1_1441942596', 'LA1_1441929555'], 'tier': 'GOLD', 'rank': 'III'}, {'region': 'la1', 'matchId': ['LA1_1442844375', 'LA1_1442820129', 'LA1_1442736799', 'LA1_1442729029', 'LA1_1442681785', 'LA1_1442091903', 'LA1_1442085552', 'LA1_1442081077', 'LA1_1442070505', 'LA1_1442061261', 'LA1_1442047667', 'LA1_1442042014', 'LA1_1442037515', 'LA1_1441776874', 'LA1_1441741698', 'LA1_1441734905', 'LA1_1441721966', 'LA1_1441722032', 'LA1_1441589427', 'LA1_1441571060'], 'tier': 'GOLD', 'rank': 'IV'}, {'region': 'la1', 'matchId': ['LA1_1442536891', 'LA1_1442517464', 'LA1_1442498373', 'LA1_1442473762', 'LA1_1442457391', 'LA1_1442442795', 'LA1_1442347441', 'LA1_1442238878', 'LA1_1442227552', 'LA1_1442211315', 'LA1_1442185175', 'LA1_1441898386', 'LA1_1441888606', 'LA1_1441625926', 'LA1_1441611122', 'LA1_1441588309', 'LA1_1441517609', 'LA1_1441498912', 'LA1_1441488612', 'LA1_1441481336'], 'tier': 'PLATINUM', 'rank': 'I'}, {'region': 'la1', 'matchId': ['LA1_1441493359', 'LA1_1441321809', 'LA1_1441305849', 'LA1_1441291359', 'LA1_1441269415', 'LA1_1441247883', 'LA1_1441230969', 'LA1_1441218046', 'LA1_1441196116', 'LA1_1383805136', 'LA1_1343242920', 'LA1_1343222125', 'LA1_1343209025', 'LA1_1332574210', 'LA1_1332559372', 'LA1_1329741272', 'LA1_1329719653', 'LA1_1329305622', 'LA1_1329239890', 'LA1_1329130859'], 'tier': 'PLATINUM', 'rank': 'II'}, {'region': 'la1', 'matchId': ['LA1_1442862389', 'LA1_1442848135', 'LA1_1442829802', 'LA1_1442815867', 'LA1_1442806155', 'LA1_1442790994', 'LA1_1442520802', 'LA1_1442500716', 'LA1_1442484980', 'LA1_1442470486', 'LA1_1442461232', 'LA1_1442450123', 'LA1_1442199631', 'LA1_1442183814', 'LA1_1442181381', 'LA1_1442166000', 'LA1_1441904251', 'LA1_1441893235', 'LA1_1441886019', 'LA1_1441871732'], 'tier': 'PLATINUM', 'rank': 'III'}, {'region': 'la1', 'matchId': ['LA1_1440897407', 'LA1_1439947380', 'LA1_1439919034', 'LA1_1438973142', 'LA1_1438169171', 'LA1_1437831712', 'LA1_1436555843', 'LA1_1436535274', 'LA1_1435734313', 'LA1_1434396333', 'LA1_1434110409', 'LA1_1433294046', 'LA1_1430937514', 'LA1_1430909849', 'LA1_1430325681', 'LA1_1430013134', 'LA1_1429999161', 'LA1_1429975755', 'LA1_1427492218', 'LA1_1427471130'], 'tier': 'PLATINUM', 'rank': 'IV'}, {'region': 'la1', 'matchId': ['LA1_1442939655', 'LA1_1442933295', 'LA1_1442921528', 'LA1_1442910174', 'LA1_1442899300', 'LA1_1442838845', 'LA1_1442790057', 'LA1_1442766314', 'LA1_1442754548', 'LA1_1442586839', 'LA1_1442461661', 'LA1_1442443492', 'LA1_1442252914', 'LA1_1442239598', 'LA1_1442219370', 'LA1_1442118615', 'LA1_1440504218', 'LA1_1439588355', 'LA1_1439566900', 'LA1_1439517024'], 'tier': 'DIAMOND', 'rank': 'I'}, {'region': 'la1', 'matchId': ['LA1_1442856800', 'LA1_1442832259', 'LA1_1442627910', 'LA1_1442514050', 'LA1_1442486831', 'LA1_1442310759', 'LA1_1442307769', 'LA1_1442302850', 'LA1_1442254981', 'LA1_1442245136', 'LA1_1442242106', 'LA1_1442022100', 'LA1_1442013443', 'LA1_1441612804', 'LA1_1441380679', 'LA1_1441376720', 'LA1_1441247971', 'LA1_1441228301', 'LA1_1440913201', 'LA1_1440887986'], 'tier': 'DIAMOND', 'rank': 'II'}, {'region': 'la1', 'matchId': ['LA1_1441005794', 'LA1_1441004836', 'LA1_1440811724', 'LA1_1440795755', 'LA1_1440777955', 'LA1_1440772163', 'LA1_1440760268', 'LA1_1440703154', 'LA1_1440695603', 'LA1_1439681463', 'LA1_1439679308', 'LA1_1438865363', 'LA1_1438849487', 'LA1_1438819235', 'LA1_1438806794', 'LA1_1438800329', 'LA1_1438785679', 'LA1_1438671423', 'LA1_1438668544', 'LA1_1438451249'], 'tier': 'DIAMOND', 'rank': 'III'}, {'region': 'la1', 'matchId': ['LA1_1442011263', 'LA1_1441995164', 'LA1_1441992292', 'LA1_1441988562', 'LA1_1441822983', 'LA1_1441807911', 'LA1_1441798366', 'LA1_1441784578', 'LA1_1441776876', 'LA1_1441760920', 'LA1_1441756055', 'LA1_1441743925', 'LA1_1441693393', 'LA1_1441692046', 'LA1_1441686610', 'LA1_1441384896', 'LA1_1441380286', 'LA1_1441375511', 'LA1_1441370929', 'LA1_1441373051'], 'tier': 'DIAMOND', 'rank': 'IV'}, {'region': 'la2', 'matchId': ['LA2_1344936522', 'LA2_1344937116', 'LA2_1344927165', 'LA2_1344919182', 'LA2_1344905414', 'LA2_1344890359', 'LA2_1344645824', 'LA2_1344648206', 'LA2_1344644220', 'LA2_1344641164', 'LA2_1344619458', 'LA2_1344389698', 'LA2_1344391035', 'LA2_1344385889', 'LA2_1344387438', 'LA2_1344385357', 'LA2_1344382537', 'LA2_1344378009', 'LA2_1344368757', 'LA2_1344360748'], 'tier': 'IRON', 'rank': 'I'}, {'region': 'la2', 'matchId': ['LA2_1342762643', 'LA2_1342752734', 'LA2_1336734897', 'LA2_1336704605', 'LA2_1336697255', 'LA2_1336683447', 'LA2_1327836284', 'LA2_1327818365', 'LA2_1325884261', 'LA2_1325866094', 'LA2_1325853736', 'LA2_1324797698', 'LA2_1309926631', 'LA2_1309363578', 'LA2_1309342036', 'LA2_1309294873', 'LA2_1308012292', 'LA2_1307994664', 'LA2_1307961684', 'LA2_1307234617'], 'tier': 'IRON', 'rank': 'II'}, {'region': 'la2', 'matchId': ['LA2_1344702695', 'LA2_1343465189', 'LA2_1343448880', 'LA2_1343431628', 'LA2_1343406584', 'LA2_1343392240', 'LA2_1343268745', 'LA2_1343255676', 'LA2_1343239691', 'LA2_1341526961', 'LA2_1341468855', 'LA2_1341370054', 'LA2_1340893490', 'LA2_1340832262', 'LA2_1340685267', 'LA2_1340550899', 'LA2_1340529992', 'LA2_1340345565', 'LA2_1340337362', 'LA2_1340333101'], 'tier': 'IRON', 'rank': 'III'}, {'region': 'la2', 'matchId': ['LA2_1334559956', 'LA2_1334556174', 'LA2_1334549256', 'LA2_1334462927', 'LA2_1334446160', 'LA2_1333914357', 'LA2_1333905350', 'LA2_1333884835', 'LA2_1333879036', 'LA2_1333864365', 'LA2_1333817539', 'LA2_1333713145', 'LA2_1333692310', 'LA2_1333624108', 'LA2_1333607719', 'LA2_1333589108', 'LA2_1333539247', 'LA2_1333522129', 'LA2_1333497429', 'LA2_1333430842'], 'tier': 'IRON', 'rank': 'IV'}, {'region': 'la2', 'matchId': ['LA2_1332096087', 'LA2_1332086829', 'LA2_1331807917', 'LA2_1326275161', 'LA2_1326249502', 'LA2_1326212871', 'LA2_1320854270', 'LA2_1320832123', 'LA2_1320646347', 'LA2_1320626976', 'LA2_1320614073', 'LA2_1320595891', 'LA2_1319596724', 'LA2_1319588985', 'LA2_1319583822', 'LA2_1319579854', 'LA2_1319576498', 'LA2_1319569062', 'LA2_1319256859', 'LA2_1319070069'], 'tier': 'BRONZE', 'rank': 'I'}, {'region': 'la2', 'matchId': ['LA2_1344904114', 'LA2_1344888883', 'LA2_1344877076', 'LA2_1344865591', 'LA2_1344857587', 'LA2_1344368762', 'LA2_1344359804', 'LA2_1344352139', 'LA2_1344208560', 'LA2_1344198563', 'LA2_1344193654', 'LA2_1343235302', 'LA2_1343109313', 'LA2_1343097672', 'LA2_1343039107', 'LA2_1342841373', 'LA2_1342834241', 'LA2_1342819710', 'LA2_1342748283', 'LA2_1342487602'], 'tier': 'BRONZE', 'rank': 'II'}, {'region': 'la2', 'matchId': ['LA2_1344305869', 'LA2_1344292123', 'LA2_1344271601', 'LA2_1344258650', 'LA2_1340207093', 'LA2_1339217190', 'LA2_1339203472', 'LA2_1339198677', 'LA2_1339187243', 'LA2_1338935336', 'LA2_1338914572', 'LA2_1335921969', 'LA2_1333839648', 'LA2_1333824212', 'LA2_1333531322', 'LA2_1333220190', 'LA2_1332934569', 'LA2_1332927894', 'LA2_1332918038', 'LA2_1327959515'], 'tier': 'BRONZE', 'rank': 'III'}, {'region': 'la2', 'matchId': ['LA2_1344318254', 'LA2_1344302069', 'LA2_1344259643', 'LA2_1340863375', 'LA2_1340854428', 'LA2_1340827402', 'LA2_1340810240', 'LA2_1340801211', 'LA2_1340539078', 'LA2_1340524107', 'LA2_1340470666', 'LA2_1340198511', 'LA2_1340182312', 'LA2_1339815796', 'LA2_1339792817', 'LA2_1339781260', 'LA2_1339760824', 'LA2_1339748976', 'LA2_1339655770', 'LA2_1339644620'], 'tier': 'BRONZE', 'rank': 'IV'}, {'region': 'la2', 'matchId': ['LA2_1331990998', 'LA2_1331868518', 'LA2_1331787873', 'LA2_1331573188', 'LA2_1330914199', 'LA2_1330906880', 'LA2_1330901525', 'LA2_1330805521', 'LA2_1330429441', 'LA2_1330414242', 'LA2_1330161907', 'LA2_1329684356', 'LA2_1329670580', 'LA2_1329616931', 'LA2_1329382405', 'LA2_1328972491', 'LA2_1328938117', 'LA2_1328857800', 'LA2_1328728893', 'LA2_1328602185'], 'tier': 'SILVER', 'rank': 'I'}, {'region': 'la2', 'matchId': ['LA2_1328673859', 'LA2_1328260412', 'LA2_1328250473', 'LA2_1328237203', 'LA2_1328217321', 'LA2_1328024411', 'LA2_1328006649', 'LA2_1327980035', 'LA2_1327750134', 'LA2_1323673736', 'LA2_1322702720', 'LA2_1322697632', 'LA2_1320816025', 'LA2_1320785969', 'LA2_1317244435', 'LA2_1317224739', 'LA2_1316355503', 'LA2_1316053307', 'LA2_1316034012', 'LA2_1298035849'], 'tier': 'SILVER', 'rank': 'II'}, {'region': 'la2', 'matchId': ['LA2_1344968311', 'LA2_1344963516', 'LA2_1344960455', 'LA2_1344890126', 'LA2_1344879262', 'LA2_1344871077', 'LA2_1344859687', 'LA2_1344850638', 'LA2_1344837573', 'LA2_1344828524', 'LA2_1344821267', 'LA2_1344806973', 'LA2_1344726067', 'LA2_1344721363', 'LA2_1344713716', 'LA2_1344710112', 'LA2_1344704347', 'LA2_1344688926', 'LA2_1344687226', 'LA2_1344683228'], 'tier': 'SILVER', 'rank': 'III'}, {'region': 'la2', 'matchId': ['LA2_1344967265', 'LA2_1344901190', 'LA2_1344883966', 'LA2_1344872063', 'LA2_1344850435', 'LA2_1344734175', 'LA2_1344723509', 'LA2_1344717078', 'LA2_1344496253', 'LA2_1344402770', 'LA2_1344396909', 'LA2_1344284603', 'LA2_1344279727', 'LA2_1344260986', 'LA2_1311958687', 'LA2_1311637092', 'LA2_1311338349', 'LA2_1284207188', 'LA2_1284199973', 'LA2_1284200549'], 'tier': 'SILVER', 'rank': 'IV'}, {'region': 'la2', 'matchId': ['LA2_1330099825', 'LA2_1330092914', 'LA2_1330089155', 'LA2_1329482466', 'LA2_1318510230', 'LA2_1318502331', 'LA2_1316762833', 'LA2_1316757014', 'LA2_1316736940', 'LA2_1316663232', 'LA2_1316615373', 'LA2_1316601210', 'LA2_1316582991', 'LA2_1314529718', 'LA2_1310829570', 'LA2_1310813127', 'LA2_1310789025', 'LA2_1310577884', 'LA2_1310578500', 'LA2_1310576385'], 'tier': 'GOLD', 'rank': 'I'}, {'region': 'la2', 'matchId': ['LA2_1344941662', 'LA2_1344853551', 'LA2_1344831750', 'LA2_1344822462', 'LA2_1344684276', 'LA2_1344518245', 'LA2_1344470683', 'LA2_1344307187', 'LA2_1344158992', 'LA2_1344033907', 'LA2_1343769336', 'LA2_1343726041', 'LA2_1343512005', 'LA2_1343263696', 'LA2_1343195707', 'LA2_1343185382', 'LA2_1343065617', 'LA2_1343055664', 'LA2_1342868377', 'LA2_1342674903'], 'tier': 'GOLD', 'rank': 'II'}, {'region': 'la2', 'matchId': ['LA2_1344931074', 'LA2_1344928043', 'LA2_1344916768', 'LA2_1344893807', 'LA2_1344879591', 'LA2_1344745974', 'LA2_1344676986', 'LA2_1344420955', 'LA2_1344339512', 'LA2_1344330571', 'LA2_1344316197', 'LA2_1344294866', 'LA2_1344270483', 'LA2_1344226806', 'LA2_1344211761', 'LA2_1344203811', 'LA2_1344190425', 'LA2_1344189505', 'LA2_1344179461', 'LA2_1344174666'], 'tier': 'GOLD', 'rank': 'III'}, {'region': 'la2', 'matchId': ['LA2_1341159355', 'LA2_1340128692', 'LA2_1340035375', 'LA2_1339514603', 'LA2_1339136359', 'LA2_1339129640', 'LA2_1339122640', 'LA2_1337968557', 'LA2_1337946023', 'LA2_1335311342', 'LA2_1334923215', 'LA2_1334912286', 'LA2_1332979604', 'LA2_1330241603', 'LA2_1328532002', 'LA2_1328525022', 'LA2_1327065774', 'LA2_1325668932', 'LA2_1325425577', 'LA2_1324666877'], 'tier': 'GOLD', 'rank': 'IV'}, {'region': 'la2', 'matchId': ['LA2_1344571970', 'LA2_1344561068', 'LA2_1344335806', 'LA2_1344322439', 'LA2_1343493674', 'LA2_1342869398', 'LA2_1342552600', 'LA2_1342326667', 'LA2_1342314538', 'LA2_1341990730', 'LA2_1341978548', 'LA2_1341309395', 'LA2_1341126944', 'LA2_1341116204', 'LA2_1340743998', 'LA2_1340436265', 'LA2_1340139971', 'LA2_1340130635', 'LA2_1339887710', 'LA2_1339854640'], 'tier': 'PLATINUM', 'rank': 'I'}, {'region': 'la2', 'matchId': ['LA2_1344847535', 'LA2_1344738553', 'LA2_1344587586', 'LA2_1344564471', 'LA2_1344545664', 'LA2_1344330806', 'LA2_1344318516', 'LA2_1344310195', 'LA2_1344287310', 'LA2_1344242114', 'LA2_1344077081', 'LA2_1344053636', 'LA2_1343923030', 'LA2_1343882681', 'LA2_1343877853', 'LA2_1343803576', 'LA2_1343788900', 'LA2_1343749905', 'LA2_1343552099', 'LA2_1343505272'], 'tier': 'PLATINUM', 'rank': 'II'}, {'region': 'la2', 'matchId': ['LA2_1344377056', 'LA2_1344356907', 'LA2_1344345618', 'LA2_1344120001', 'LA2_1344109611', 'LA2_1344103541', 'LA2_1344100041', 'LA2_1343891648', 'LA2_1343842865', 'LA2_1343838558', 'LA2_1343834271', 'LA2_1343809574', 'LA2_1343793926', 'LA2_1343779639', 'LA2_1343712928', 'LA2_1343701102', 'LA2_1343534678', 'LA2_1343520149', 'LA2_1343499680', 'LA2_1343364163'], 'tier': 'PLATINUM', 'rank': 'III'}, {'region': 'la2', 'matchId': ['LA2_1344847957', 'LA2_1344827913', 'LA2_1344731027', 'LA2_1344578018', 'LA2_1344557753', 'LA2_1344489556', 'LA2_1344475695', 'LA2_1344464880', 'LA2_1344351207', 'LA2_1344329029', 'LA2_1344049937', 'LA2_1344037840', 'LA2_1343918068', 'LA2_1343794877', 'LA2_1343755123', 'LA2_1342904564', 'LA2_1342888830', 'LA2_1342557346', 'LA2_1342546524', 'LA2_1342526364'], 'tier': 'PLATINUM', 'rank': 'IV'}, {'region': 'la2', 'matchId': ['LA2_1344792765', 'LA2_1344238969', 'LA2_1340282998', 'LA2_1326817892', 'LA2_1326813418', 'LA2_1326802925', 'LA2_1326789453', 'LA2_1326778222', 'LA2_1326769464', 'LA2_1326756322', 'LA2_1326735620', 'LA2_1326728651', 'LA2_1326719759', 'LA2_1326716292', 'LA2_1326711277', 'LA2_1326706247', 'LA2_1326699291', 'LA2_1326696686', 'LA2_1326450961', 'LA2_1326443677'], 'tier': 'DIAMOND', 'rank': 'I'}, {'region': 'la2', 'matchId': ['LA2_1344677547', 'LA2_1344573372', 'LA2_1344510142', 'LA2_1343411144', 'LA2_1343398175', 'LA2_1343384208', 'LA2_1337189633', 'LA2_1336444177', 'LA2_1336265884', 'LA2_1336182263', 'LA2_1335961101', 'LA2_1335949990', 'LA2_1335006293', 'LA2_1334195632', 'LA2_1334199049', 'LA2_1334030988', 'LA2_1334025611', 'LA2_1334014875', 'LA2_1334006930', 'LA2_1334001473'], 'tier': 'DIAMOND', 'rank': 'II'}, {'region': 'la2', 'matchId': ['LA2_1344916291', 'LA2_1344909025', 'LA2_1344899913', 'LA2_1344700407', 'LA2_1344692791', 'LA2_1344653439', 'LA2_1344652373', 'LA2_1344653133', 'LA2_1344401524', 'LA2_1344399287', 'LA2_1344394478', 'LA2_1344393380', 'LA2_1344221427', 'LA2_1344207896', 'LA2_1344177251', 'LA2_1344164925', 'LA2_1344159750', 'LA2_1344152771', 'LA2_1344146225', 'LA2_1344127527'], 'tier': 'DIAMOND', 'rank': 'III'}, {'region': 'la2', 'matchId': ['LA2_1344590890', 'LA2_1344577981', 'LA2_1344562622', 'LA2_1344547274', 'LA2_1344532412', 'LA2_1344517593', 'LA2_1344249865', 'LA2_1344249149', 'LA2_1344234780', 'LA2_1344212680', 'LA2_1344191262', 'LA2_1344180975', 'LA2_1343945003', 'LA2_1343929720', 'LA2_1343922365', 'LA2_1343770493', 'LA2_1343666311', 'LA2_1343629889', 'LA2_1343625488', 'LA2_1343618915'], 'tier': 'DIAMOND', 'rank': 'IV'}, {'region': 'tr1', 'matchId': ['TR1_1446706703', 'TR1_1446355774', 'TR1_1446289009', 'TR1_1446273385', 'TR1_1443580297', 'TR1_1419405227', 'TR1_1419403391', 'TR1_1419402339', 'TR1_1412839451', 'TR1_1412222648', 'TR1_1412052691', 'TR1_1383995390', 'TR1_1383992380', 'TR1_1383783233', 'TR1_1383725163', 'TR1_1383718442', 'TR1_1383718056', 'TR1_1371439863', 'TR1_1371431903', 'TR1_1371417943'], 'tier': 'IRON', 'rank': 'I'}, {'region': 'tr1', 'matchId': ['TR1_1437984858', 'TR1_1437526677', 'TR1_1437514462', 'TR1_1437498745', 'TR1_1437490713', 'TR1_1437486296', 'TR1_1436414538', 'TR1_1436407738', 'TR1_1436328726', 'TR1_1436320396', 'TR1_1436052081', 'TR1_1436026009', 'TR1_1436002137', 'TR1_1435264813', 'TR1_1435242577', 'TR1_1435105426', 'TR1_1434791265', 'TR1_1434772600', 'TR1_1434741739', 'TR1_1434727472'], 'tier': 'IRON', 'rank': 'II'}, {'region': 'tr1', 'matchId': ['TR1_1454860712', 'TR1_1454449944', 'TR1_1453992463', 'TR1_1453978744', 'TR1_1453978182', 'TR1_1453962986', 'TR1_1453956151', 'TR1_1452853113', 'TR1_1452832338', 'TR1_1451167609', 'TR1_1450285993', 'TR1_1450274411', 'TR1_1449621861', 'TR1_1449603883', 'TR1_1449585120', 'TR1_1449563329', 'TR1_1447798859', 'TR1_1447707311', 'TR1_1447701614', 'TR1_1447682974'], 'tier': 'IRON', 'rank': 'III'}, {'region': 'tr1', 'matchId': ['TR1_1457054433', 'TR1_1455607533', 'TR1_1455538839', 'TR1_1455524153', 'TR1_1455506560', 'TR1_1455319024', 'TR1_1455308042', 'TR1_1455294137', 'TR1_1455234113', 'TR1_1455226011', 'TR1_1455063726', 'TR1_1455045541', 'TR1_1455035362', 'TR1_1455022246', 'TR1_1454881271', 'TR1_1454860767', 'TR1_1454458185', 'TR1_1454452639', 'TR1_1454445858', 'TR1_1454437747'], 'tier': 'IRON', 'rank': 'IV'}, {'region': 'tr1', 'matchId': ['TR1_1458040284', 'TR1_1458034571', 'TR1_1458032254', 'TR1_1457766673', 'TR1_1457765564', 'TR1_1457494349', 'TR1_1457485141', 'TR1_1457453217', 'TR1_1457445393', 'TR1_1457438123', 'TR1_1457326149', 'TR1_1457328027', 'TR1_1457325754', 'TR1_1457321045', 'TR1_1457318598', 'TR1_1457317261', 'TR1_1457313509', 'TR1_1457302984', 'TR1_1457300820', 'TR1_1457292965'], 'tier': 'BRONZE', 'rank': 'I'}, {'region': 'tr1', 'matchId': ['TR1_1448191666', 'TR1_1448146495', 'TR1_1447938532', 'TR1_1447910163', 'TR1_1447775966', 'TR1_1447777056', 'TR1_1447763620', 'TR1_1424394071', 'TR1_1424318298', 'TR1_1424285278', 'TR1_1424089548', 'TR1_1423872321', 'TR1_1423831170', 'TR1_1423764143', 'TR1_1423754576', 'TR1_1423750380', 'TR1_1423741453', 'TR1_1423621367', 'TR1_1423582359', 'TR1_1423417285'], 'tier': 'BRONZE', 'rank': 'II'}, {'region': 'tr1', 'matchId': ['TR1_1458022870', 'TR1_1456343855', 'TR1_1456335509', 'TR1_1456110417', 'TR1_1455718377', 'TR1_1455706341', 'TR1_1455669996', 'TR1_1455535057', 'TR1_1455152596', 'TR1_1454561093', 'TR1_1454539586', 'TR1_1454503798', 'TR1_1453201701', 'TR1_1452426725', 'TR1_1452399566', 'TR1_1452383565', 'TR1_1449628698', 'TR1_1449622293', 'TR1_1448314875', 'TR1_1448307152'], 'tier': 'BRONZE', 'rank': 'III'}, {'region': 'tr1', 'matchId': ['TR1_1457996160', 'TR1_1457823119', 'TR1_1457618832', 'TR1_1457587419', 'TR1_1457543138', 'TR1_1457047915', 'TR1_1456468788', 'TR1_1456264749', 'TR1_1456147085', 'TR1_1455844650', 'TR1_1455577398', 'TR1_1455414722', 'TR1_1455271951', 'TR1_1455045389', 'TR1_1455010851', 'TR1_1454760875', 'TR1_1454427014', 'TR1_1454410016', 'TR1_1454237172', 'TR1_1453874980'], 'tier': 'BRONZE', 'rank': 'IV'}, {'region': 'tr1', 'matchId': ['TR1_1451604472', 'TR1_1451590225', 'TR1_1451575947', 'TR1_1450784528', 'TR1_1450779286', 'TR1_1447002550', 'TR1_1446990837', 'TR1_1446978688', 'TR1_1442312547', 'TR1_1442305237', 'TR1_1442297108', 'TR1_1442006664', 'TR1_1441990500', 'TR1_1441975631', 'TR1_1441961373', 'TR1_1441663520', 'TR1_1441615820', 'TR1_1441603942', 'TR1_1441594184', 'TR1_1440947961'], 'tier': 'SILVER', 'rank': 'I'}, {'region': 'tr1', 'matchId': ['TR1_1458143130', 'TR1_1458134181', 'TR1_1457882106', 'TR1_1457873304', 'TR1_1457822708', 'TR1_1457817346', 'TR1_1457808887', 'TR1_1457802978', 'TR1_1457793933', 'TR1_1457679943', 'TR1_1457671016', 'TR1_1457655491', 'TR1_1457647320', 'TR1_1457620879', 'TR1_1457616129', 'TR1_1457477418', 'TR1_1457462787', 'TR1_1457459847', 'TR1_1457448515', 'TR1_1457435767'], 'tier': 'SILVER', 'rank': 'II'}, {'region': 'tr1', 'matchId': ['TR1_1457448671', 'TR1_1454667176', 'TR1_1454640978', 'TR1_1454633097', 'TR1_1451217593', 'TR1_1445518248', 'TR1_1445509862', 'TR1_1445502775', 'TR1_1443842415', 'TR1_1443837300', 'TR1_1443826777', 'TR1_1443817779', 'TR1_1443809910', 'TR1_1443803710', 'TR1_1443798244', 'TR1_1443787688', 'TR1_1443032889', 'TR1_1443027666', 'TR1_1443019674', 'TR1_1442745065'], 'tier': 'SILVER', 'rank': 'III'}, {'region': 'tr1', 'matchId': ['TR1_1447553139', 'TR1_1447498298', 'TR1_1447178078', 'TR1_1446649667', 'TR1_1446602939', 'TR1_1446595322', 'TR1_1446554702', 'TR1_1446554107', 'TR1_1446473261', 'TR1_1446464133', 'TR1_1446291607', 'TR1_1446255794', 'TR1_1446240292', 'TR1_1446163191', 'TR1_1446135350', 'TR1_1446121944', 'TR1_1446050149', 'TR1_1446043759', 'TR1_1446033632', 'TR1_1446028612'], 'tier': 'SILVER', 'rank': 'IV'}, {'region': 'tr1', 'matchId': ['TR1_1458006325', 'TR1_1457957312', 'TR1_1457934598', 'TR1_1457927407', 'TR1_1457908692', 'TR1_1457856193', 'TR1_1457828187', 'TR1_1457819898', 'TR1_1457720921', 'TR1_1457711089', 'TR1_1457693667', 'TR1_1457489995', 'TR1_1457482057', 'TR1_1457465343', 'TR1_1457393184', 'TR1_1457380909', 'TR1_1456563830', 'TR1_1456319629', 'TR1_1455597081', 'TR1_1455484417'], 'tier': 'GOLD', 'rank': 'I'}, {'region': 'tr1', 'matchId': ['TR1_1458120715', 'TR1_1457982342', 'TR1_1457969686', 'TR1_1457764113', 'TR1_1457760174', 'TR1_1457754243', 'TR1_1457743879', 'TR1_1457291746', 'TR1_1457035016', 'TR1_1457020391', 'TR1_1456804551', 'TR1_1456495771', 'TR1_1456473964', 'TR1_1455868617', 'TR1_1455866193', 'TR1_1455598460', 'TR1_1455487603', 'TR1_1455072386', 'TR1_1455068820', 'TR1_1455067725'], 'tier': 'GOLD', 'rank': 'II'}, {'region': 'tr1', 'matchId': ['TR1_1457491619', 'TR1_1457489703', 'TR1_1457481137', 'TR1_1457306549', 'TR1_1457298698', 'TR1_1457078481', 'TR1_1457074260', 'TR1_1457069226', 'TR1_1456823912', 'TR1_1456811757', 'TR1_1456738200', 'TR1_1455032149', 'TR1_1454947204', 'TR1_1454654516', 'TR1_1454647114', 'TR1_1454635712', 'TR1_1454623157', 'TR1_1454617336', 'TR1_1454598959', 'TR1_1454589472'], 'tier': 'GOLD', 'rank': 'III'}, {'region': 'tr1', 'matchId': ['TR1_1457085898', 'TR1_1457085529', 'TR1_1456778096', 'TR1_1456693220', 'TR1_1456406254', 'TR1_1456392277', 'TR1_1456368767', 'TR1_1456354264', 'TR1_1456084160', 'TR1_1456074319', 'TR1_1456053502', 'TR1_1456025802', 'TR1_1456016153', 'TR1_1456000955', 'TR1_1455990270', 'TR1_1455969568', 'TR1_1455946693', 'TR1_1455871692', 'TR1_1455571708', 'TR1_1455525605'], 'tier': 'GOLD', 'rank': 'IV'}, {'region': 'tr1', 'matchId': ['TR1_1457545064', 'TR1_1457537925', 'TR1_1457534333', 'TR1_1457527140', 'TR1_1457059856', 'TR1_1457046782', 'TR1_1455055678', 'TR1_1455049306', 'TR1_1454782203', 'TR1_1454645968', 'TR1_1454632487', 'TR1_1454580830', 'TR1_1454307768', 'TR1_1454269559', 'TR1_1454247173', 'TR1_1454223347', 'TR1_1454209560', 'TR1_1452202038', 'TR1_1452184175', 'TR1_1452170421'], 'tier': 'PLATINUM', 'rank': 'I'}, {'region': 'tr1', 'matchId': ['TR1_1457142338', 'TR1_1457062254', 'TR1_1457059202', 'TR1_1457044387', 'TR1_1457041166', 'TR1_1456933232', 'TR1_1456920861', 'TR1_1456842625', 'TR1_1456835977', 'TR1_1456806527', 'TR1_1454786654', 'TR1_1454777950', 'TR1_1454775288', 'TR1_1454760994', 'TR1_1454756111', 'TR1_1454741231', 'TR1_1453496436', 'TR1_1453488647', 'TR1_1453460402', 'TR1_1451340515'], 'tier': 'PLATINUM', 'rank': 'II'}, {'region': 'tr1', 'matchId': ['TR1_1456518035', 'TR1_1456513117', 'TR1_1456505534', 'TR1_1455311791', 'TR1_1454090447', 'TR1_1454081735', 'TR1_1454078019', 'TR1_1453165277', 'TR1_1452932876', 'TR1_1452933294', 'TR1_1452922256', 'TR1_1452909556', 'TR1_1450799729', 'TR1_1450795578', 'TR1_1450437930', 'TR1_1450428221', 'TR1_1449833952', 'TR1_1449829950', 'TR1_1449822806', 'TR1_1449425457'], 'tier': 'PLATINUM', 'rank': 'III'}, {'region': 'tr1', 'matchId': ['TR1_1456870167', 'TR1_1456866758', 'TR1_1456612534', 'TR1_1456604514', 'TR1_1456413205', 'TR1_1456332995', 'TR1_1456324299', 'TR1_1456314400', 'TR1_1455963279', 'TR1_1455940428', 'TR1_1455921959', 'TR1_1455921131', 'TR1_1455896826', 'TR1_1455891932', 'TR1_1455672886', 'TR1_1455663939', 'TR1_1455659471', 'TR1_1455622856', 'TR1_1455625232', 'TR1_1455436929'], 'tier': 'PLATINUM', 'rank': 'IV'}, {'region': 'tr1', 'matchId': ['TR1_1458196149', 'TR1_1458183970', 'TR1_1458171913', 'TR1_1458164267', 'TR1_1458154959', 'TR1_1457184488', 'TR1_1457117664', 'TR1_1457116426', 'TR1_1456843391', 'TR1_1456298749', 'TR1_1456290033', 'TR1_1456227479', 'TR1_1455165987', 'TR1_1455149840', 'TR1_1454237377', 'TR1_1454220892', 'TR1_1453626144', 'TR1_1453082563', 'TR1_1453072191', 'TR1_1452787662'], 'tier': 'DIAMOND', 'rank': 'I'}, {'region': 'tr1', 'matchId': ['EUW1_6619319474', 'EUW1_6619296168', 'EUW1_6619092955', 'EUW1_6619048536', 'EUW1_6618975915', 'EUW1_6618930855', 'EUW1_6616944025', 'EUW1_6616945524', 'EUW1_6616931935', 'EUW1_6616925093', 'EUW1_6616924499', 'EUW1_6614133960', 'TR1_1456157163', 'TR1_1454471003', 'TR1_1454437642', 'TR1_1453520390', 'TR1_1453178190', 'TR1_1453149843', 'TR1_1453128516', 'TR1_1453104647'], 'tier': 'DIAMOND', 'rank': 'II'}, {'region': 'tr1', 'matchId': ['TR1_1457841237', 'TR1_1457830925', 'TR1_1457827569', 'TR1_1457787849', 'TR1_1457785710', 'TR1_1457666596', 'TR1_1457565086', 'TR1_1457522004', 'TR1_1457510131', 'TR1_1457491978', 'TR1_1457476600', 'TR1_1457466218', 'TR1_1457448900', 'TR1_1457445028', 'TR1_1457433792', 'TR1_1457424675', 'TR1_1457328692', 'TR1_1457259120', 'TR1_1457237363', 'TR1_1457227075'], 'tier': 'DIAMOND', 'rank': 'III'}, {'region': 'tr1', 'matchId': ['TR1_1458013330', 'TR1_1457937686', 'TR1_1457924083', 'TR1_1457906774', 'TR1_1457767775', 'TR1_1457755765', 'TR1_1457735492', 'TR1_1457629294', 'TR1_1457614106', 'TR1_1457587099', 'TR1_1457582176', 'TR1_1457368722', 'TR1_1457371238', 'TR1_1457364256', 'TR1_1457357349', 'TR1_1457350408', 'TR1_1457337026', 'TR1_1457328909', 'TR1_1457324826', 'TR1_1457323680'], 'tier': 'DIAMOND', 'rank': 'IV'}, {'region': 'ru', 'matchId': ['RU_455831496', 'RU_455832345', 'RU_455824904', 'RU_455722813', 'RU_455699683', 'RU_455633217', 'RU_394605768', 'RU_394386893', 'RU_394395261', 'RU_394130149', 'RU_394118848', 'RU_394117771', 'RU_393489997', 'RU_393488955', 'RU_393507158', 'RU_319019540', 'RU_315981266', 'RU_315714182', 'RU_315617889', 'RU_315606390'], 'tier': 'IRON', 'rank': 'I'}, {'region': 'ru', 'matchId': ['RU_458308579', 'RU_458204157', 'RU_458197181', 'RU_458193127', 'RU_458135955', 'RU_458100785', 'RU_458099177', 'RU_458090511', 'RU_458082956', 'RU_457400420', 'RU_457389993', 'RU_457276901', 'RU_457173038', 'RU_457162773', 'RU_457159602', 'RU_457059935', 'RU_456811151', 'RU_456406984', 'RU_456369796', 'RU_456108472'], 'tier': 'IRON', 'rank': 'II'}, {'region': 'ru', 'matchId': ['RU_460096719', 'RU_460040729', 'RU_459823303', 'RU_459819684', 'RU_459705987', 'RU_459451601', 'RU_459375721', 'RU_459234040', 'RU_459230618', 'RU_459229766', 'RU_459201453', 'RU_459174743', 'RU_458770172', 'RU_458765961', 'RU_458766091', 'RU_458760354', 'RU_458712434', 'RU_458539743', 'RU_458368132', 'RU_458349533'], 'tier': 'IRON', 'rank': 'III'}, {'region': 'ru', 'matchId': ['RU_461202134', 'RU_461193802', 'RU_460943797', 'RU_460875593', 'RU_460536860', 'RU_460487922', 'RU_460482708', 'RU_460479289', 'RU_460290533', 'RU_460283266', 'RU_460278219', 'RU_460068317', 'RU_460060606', 'RU_460053656', 'RU_459711015', 'RU_459699904', 'RU_459694601', 'RU_459686700', 'RU_459663298', 'RU_459651848'], 'tier': 'IRON', 'rank': 'IV'}, {'region': 'ru', 'matchId': ['RU_460887349', 'RU_460884374', 'RU_460879883', 'RU_460878464', 'RU_460872774', 'RU_459717455', 'RU_459709992', 'RU_459711291', 'RU_459699329', 'RU_459553277', 'RU_459543761', 'RU_459536812', 'RU_459460259', 'RU_459458070', 'RU_459037918', 'RU_459037549', 'RU_459036076', 'RU_457613789', 'RU_454030290', 'RU_454028158'], 'tier': 'BRONZE', 'rank': 'I'}, {'region': 'ru', 'matchId': ['RU_461129529', 'RU_461117979', 'RU_461091759', 'RU_461083978', 'RU_461061158', 'RU_461051145', 'RU_461036300', 'RU_461031350', 'RU_460995733', 'RU_460992456', 'RU_460965714', 'RU_460959631', 'RU_460892903', 'RU_460890958', 'RU_460884295', 'RU_460851428', 'RU_460783135', 'RU_460746579', 'RU_460738712', 'RU_460734521'], 'tier': 'BRONZE', 'rank': 'II'}, {'region': 'ru', 'matchId': ['RU_456225247', 'RU_456126079', 'RU_456114796', 'RU_456111119', 'RU_455615075', 'RU_455475652', 'RU_455430648', 'RU_454739233', 'RU_454724816', 'RU_454681451', 'RU_454668015', 'RU_454648357', 'RU_454640737', 'RU_454605829', 'RU_454589101', 'RU_454585063', 'RU_454532809', 'RU_454532008', 'RU_454527454', 'RU_454510676'], 'tier': 'BRONZE', 'rank': 'III'}, {'region': 'ru', 'matchId': ['RU_461110450', 'RU_461105527', 'RU_460990034', 'RU_460963615', 'RU_460961084', 'RU_460912558', 'RU_460821944', 'RU_460783946', 'RU_460785508', 'RU_460760323', 'RU_460754135', 'RU_460706275', 'RU_460679512', 'RU_460674513', 'RU_460662420', 'RU_460660229', 'RU_460653286', 'RU_460647141', 'RU_460541961', 'RU_460463708'], 'tier': 'BRONZE', 'rank': 'IV'}, {'region': 'ru', 'matchId': ['RU_461156284', 'RU_460948035', 'RU_460846728', 'RU_460787255', 'RU_460700677', 'RU_460604604', 'RU_460591224', 'RU_460510815', 'RU_460511474', 'RU_460455538', 'RU_460437913', 'RU_460364867', 'RU_460361813', 'RU_460341318', 'RU_460334770', 'RU_460313074', 'RU_460286215', 'RU_460277493', 'RU_460091899', 'RU_460006012'], 'tier': 'SILVER', 'rank': 'I'}, {'region': 'ru', 'matchId': ['RU_461174359', 'RU_461158772', 'RU_461086879', 'RU_461078660', 'RU_461070652', 'RU_460966667', 'RU_460959698', 'RU_460952489', 'RU_460754116', 'RU_460521768', 'RU_460522147', 'RU_460517845', 'RU_460471598', 'RU_460411348', 'RU_460401701', 'RU_460394545', 'RU_460383964', 'RU_460360562', 'RU_460356839', 'RU_460351725'], 'tier': 'SILVER', 'rank': 'II'}, {'region': 'ru', 'matchId': ['RU_456385583', 'RU_456261325', 'RU_456255017', 'RU_453142680', 'RU_453140308', 'RU_452022809', 'RU_452018482', 'RU_451731022', 'RU_451724352', 'RU_451711448', 'RU_451703131', 'RU_451133986', 'RU_451131432', 'RU_451123437', 'RU_450590432', 'RU_450582496', 'RU_450579419', 'RU_450573206', 'RU_450563822', 'RU_450560235'], 'tier': 'SILVER', 'rank': 'III'}, {'region': 'ru', 'matchId': ['RU_460789881', 'RU_460792444', 'RU_460789623', 'RU_460789525', 'RU_460441612', 'RU_460442443', 'RU_460437616', 'RU_460438328', 'RU_460438168', 'RU_460437192', 'RU_460305935', 'RU_460309680', 'RU_460306627', 'RU_460310350', 'RU_460307198', 'RU_460196300', 'RU_460191468', 'RU_460190991', 'RU_460193010', 'RU_460189822'], 'tier': 'SILVER', 'rank': 'IV'}, {'region': 'ru', 'matchId': ['RU_460647487', 'RU_460644033', 'RU_460633612', 'RU_460500631', 'RU_460492720', 'RU_460488554', 'RU_460467109', 'RU_460463178', 'RU_460457692', 'RU_460455268', 'RU_460271783', 'RU_460265550', 'RU_459687778', 'RU_459682687', 'RU_459677567', 'RU_459322455', 'RU_459316240', 'RU_459201306', 'RU_459193724', 'RU_459092898'], 'tier': 'GOLD', 'rank': 'I'}, {'region': 'ru', 'matchId': ['RU_461204475', 'RU_461199720', 'RU_461145744', 'RU_461144469', 'RU_461142720', 'RU_461136800', 'RU_461036399', 'RU_460966977', 'RU_460960950', 'RU_460962337', 'RU_460952802', 'RU_460949991', 'RU_460935239', 'RU_460820394', 'RU_460810128', 'RU_460804865', 'RU_460802851', 'RU_460802604', 'RU_460715869', 'RU_460715369'], 'tier': 'GOLD', 'rank': 'II'}, {'region': 'ru', 'matchId': ['RU_460881760', 'RU_458740111', 'RU_458469018', 'RU_458461275', 'RU_458452489', 'RU_458385986', 'RU_458353625', 'RU_458232052', 'RU_457995752', 'RU_457988837', 'RU_457956889', 'RU_457948911', 'RU_457943855', 'RU_457884199', 'RU_457880675', 'RU_457859089', 'RU_457849338', 'RU_457669654', 'RU_457640942', 'RU_457641741'], 'tier': 'GOLD', 'rank': 'III'}, {'region': 'ru', 'matchId': ['RU_455249441', 'RU_455240736', 'RU_455236757', 'RU_455211444', 'RU_455206966', 'RU_453786355', 'RU_453781864', 'RU_453122025', 'RU_453116426', 'RU_453110863', 'RU_453108535', 'RU_453107084', 'RU_453104025', 'RU_452957692', 'RU_452540649', 'RU_452385263', 'RU_452091853', 'RU_452015466', 'RU_452005904', 'RU_451999791'], 'tier': 'GOLD', 'rank': 'IV'}, {'region': 'ru', 'matchId': ['RU_459242974', 'RU_459243440', 'RU_459131456', 'RU_459130145', 'RU_459128093', 'RU_459123634', 'RU_459125096', 'RU_459122118', 'RU_459101264', 'RU_459097331', 'RU_459092562', 'RU_458928604', 'RU_458925465', 'RU_458923102', 'RU_458908861', 'RU_458908121', 'RU_458900665', 'RU_458901038', 'RU_458892973', 'RU_458788819'], 'tier': 'PLATINUM', 'rank': 'I'}, {'region': 'ru', 'matchId': ['RU_461199992', 'RU_461200100', 'RU_461194206', 'RU_461163433', 'RU_461159439', 'RU_461085005', 'RU_461078234', 'RU_461059447', 'RU_461055525', 'RU_461048691', 'RU_461038962', 'RU_460988989', 'RU_460984780', 'RU_460966062', 'RU_460953856', 'RU_460853300', 'RU_460846027', 'RU_460763979', 'RU_460759272', 'RU_460757287'], 'tier': 'PLATINUM', 'rank': 'II'}, {'region': 'ru', 'matchId': ['EUW1_6622321767', 'EUW1_6622281198', 'EUW1_6622230834', 'EUW1_6622198609', 'EUW1_6622137790', 'EUW1_6622092636', 'EUW1_6622033850', 'EUW1_6621992796', 'EUW1_6620805637', 'EUW1_6619585003', 'EUW1_6619560663', 'EUW1_6619529772', 'EUW1_6619474648', 'EUW1_6619449785', 'EUW1_6619434741', 'EUW1_6619406303', 'EUW1_6619397482', 'EUW1_6618498100', 'EUW1_6618467755', 'EUW1_6618433870'], 'tier': 'PLATINUM', 'rank': 'III'}, {'region': 'ru', 'matchId': ['RU_461119172', 'RU_461110992', 'RU_461106849', 'RU_461103187', 'RU_461099235', 'RU_461085827', 'RU_461025666', 'RU_461024303', 'RU_461020801', 'RU_461007979', 'RU_461008835', 'RU_461007651', 'RU_461006422', 'RU_461006050', 'RU_460998867', 'RU_460964723', 'RU_460951451', 'RU_460945199', 'RU_460889890', 'RU_460882822'], 'tier': 'PLATINUM', 'rank': 'IV'}, {'region': 'ru', 'matchId': ['RU_461139951', 'RU_461137792', 'RU_460764943', 'RU_460502812', 'RU_460495631', 'RU_459525029', 'RU_458815235', 'RU_458716824', 'RU_457203311', 'RU_457196753', 'RU_457090175', 'RU_456606679', 'RU_456601949', 'RU_456591989', 'RU_456593790', 'RU_456587134', 'RU_456498396', 'RU_456484622', 'RU_456476634', 'RU_456475371'], 'tier': 'DIAMOND', 'rank': 'I'}, {'region': 'ru', 'matchId': ['RU_459033907', 'RU_458815029', 'RU_458804998', 'RU_458803645', 'RU_458803130', 'RU_458791533', 'RU_458788507', 'RU_458783997', 'RU_458395439', 'RU_458390746', 'RU_458389379', 'RU_458305116', 'RU_458299377', 'RU_458293791', 'RU_458260482', 'RU_458259257', 'RU_458251769', 'RU_458253258', 'RU_458250271', 'RU_458240879'], 'tier': 'DIAMOND', 'rank': 'II'}, {'region': 'ru', 'matchId': ['RU_461201312', 'RU_461201093', 'RU_461104959', 'RU_461100600', 'RU_461092551', 'RU_461087425', 'RU_461046982', 'RU_461046346', 'RU_461039951', 'RU_461008064', 'RU_461002754', 'RU_461001177', 'RU_460546989', 'RU_460303337', 'RU_460297815', 'RU_460298178', 'RU_460291373', 'RU_459726625', 'RU_459597720', 'RU_459594177'], 'tier': 'DIAMOND', 'rank': 'III'}, {'region': 'ru', 'matchId': ['RU_461186521', 'RU_461180759', 'RU_461173917', 'RU_461165771', 'RU_461160631', 'RU_461159479', 'RU_461153759', 'RU_461150381', 'RU_461071549', 'RU_461070090', 'RU_461063836', 'RU_460930561', 'RU_458764241', 'RU_458756743', 'RU_458752766', 'RU_458754216', 'RU_458390882', 'RU_458281354', 'RU_458274921', 'RU_458268970'], 'tier': 'DIAMOND', 'rank': 'IV'}]\n"
     ]
    }
   ],
   "source": [
    "random_matches = get_random_matches(api_key, NUM_PLAYERS_PER_RANK = 1)\n",
    "print(random_matches)"
   ]
  },
  {
   "cell_type": "code",
   "execution_count": 85,
   "metadata": {},
   "outputs": [],
   "source": [
    "test_data = get_random_players(api_key, NUM_PLAYERS_PER_RANK = 50)"
   ]
  },
  {
   "cell_type": "code",
   "execution_count": 86,
   "metadata": {},
   "outputs": [
    {
     "data": {
      "text/plain": [
       "10800"
      ]
     },
     "execution_count": 86,
     "metadata": {},
     "output_type": "execute_result"
    }
   ],
   "source": [
    "len(test_data)"
   ]
  },
  {
   "cell_type": "code",
   "execution_count": null,
   "metadata": {},
   "outputs": [],
   "source": [
    "# Define the column names\n",
    "# columns = [\"name\", \"region\", \"summonerLevel\", \"tierRank\", \"wins\", \"losses\", \"veteran\", \"inactive\", \"freshBlood\", \"hotStreak\"\n",
    "#           , \"average_kills\", \"average_deaths\", \"average_assists\", \"average_gold_earned\"]\n",
    "\n",
    "# Create an empty dictionary with columns as keys and empty lists as values'\n",
    "\n",
    "train_data_stats = []\n",
    "for x in test_data:\n",
    "    temp = {}\n",
    "    summoner = x['name']\n",
    "    region = x['region']\n",
    "#     {'name': 'Spikal',\n",
    "#     'summonerLevel': 491,\n",
    "#     'tierRank': 'EMERALD IV',\n",
    "#     'wins': 98,\n",
    "#     'losses': 90,\n",
    "#     'veteran': False,\n",
    "#     'inactive': False,\n",
    "#     'freshBlood': False,\n",
    "#     'hotStreak': False}\n",
    "    summonerStats = karma.player_stats(region, summoner)\n",
    "    \n",
    "#     {'average_kills': 2.3,\n",
    "#          'average_deaths': 9.166666666666666,\n",
    "#          'average_assists': 14.533333333333333,\n",
    "#          'average_gold_earned': 8809.133333333333}\n",
    "    statsLastGames = karma.playerStatsLastGames(region, summoner, 0, 30)\n",
    "    temp = {'name': summonerStats['name'],\n",
    "        'region': region,\n",
    "        'summonerLevel': summonerStats['summonerLevel'],\n",
    "        'tierRank': summonerStats['tierRank'],\n",
    "         'wins': summonerStats['wins'],\n",
    "         'losses': summonerStats['losses'],\n",
    "         'veteran': summonerStats['veteran'],\n",
    "         'inactive': summonerStats['inactive'],\n",
    "         'freshBlood': summonerStats['freshBlood'],\n",
    "         'hotStreak': summonerStats['hotStreak'],\n",
    "         'average_kills': statsLastGames['average_kills'],\n",
    "         'average_deaths': statsLastGames['average_deaths'],\n",
    "         'average_assists': statsLastGames['average_assists'],\n",
    "         'average_gold_earned': statsLastGames['average_gold_earned']\n",
    "         }\n",
    "    train_data_stats.append(temp)"
   ]
  },
  {
   "cell_type": "code",
   "execution_count": 105,
   "metadata": {},
   "outputs": [
    {
     "data": {
      "text/plain": [
       "[{'name': 'Eos Dawn',\n",
       "  'region': 'na1',\n",
       "  'summonerLevel': 292,\n",
       "  'tierRank': 'IRON I',\n",
       "  'wins': 3,\n",
       "  'losses': 2,\n",
       "  'veteran': False,\n",
       "  'inactive': False,\n",
       "  'freshBlood': False,\n",
       "  'hotStreak': False,\n",
       "  'average_kills': 7.666666666666667,\n",
       "  'average_deaths': 7.3,\n",
       "  'average_assists': 17.466666666666665,\n",
       "  'average_gold_earned': 12519.833333333334},\n",
       " {'name': 'oh yas daddy XD',\n",
       "  'region': 'na1',\n",
       "  'summonerLevel': 123,\n",
       "  'tierRank': 'IRON I',\n",
       "  'wins': 15,\n",
       "  'losses': 15,\n",
       "  'veteran': False,\n",
       "  'inactive': False,\n",
       "  'freshBlood': False,\n",
       "  'hotStreak': False,\n",
       "  'average_kills': 7.366666666666666,\n",
       "  'average_deaths': 5.9,\n",
       "  'average_assists': 7.3,\n",
       "  'average_gold_earned': 12352.866666666667}]"
      ]
     },
     "execution_count": 105,
     "metadata": {},
     "output_type": "execute_result"
    }
   ],
   "source": [
    "train_data_stats"
   ]
  },
  {
   "cell_type": "code",
   "execution_count": null,
   "metadata": {},
   "outputs": [],
   "source": []
  }
 ],
 "metadata": {
  "colab": {
   "provenance": []
  },
  "kernelspec": {
   "display_name": "Python 3 (ipykernel)",
   "language": "python",
   "name": "python3"
  },
  "language_info": {
   "codemirror_mode": {
    "name": "ipython",
    "version": 3
   },
   "file_extension": ".py",
   "mimetype": "text/x-python",
   "name": "python",
   "nbconvert_exporter": "python",
   "pygments_lexer": "ipython3",
   "version": "3.11.5"
  }
 },
 "nbformat": 4,
 "nbformat_minor": 1
}
